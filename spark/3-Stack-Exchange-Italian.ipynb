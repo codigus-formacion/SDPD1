{
 "cells": [
  {
   "cell_type": "markdown",
   "metadata": {},
   "source": [
    "# Spark SQL: Advanced operations"
   ]
  },
  {
   "cell_type": "markdown",
   "metadata": {},
   "source": [
    "## Introduction"
   ]
  },
  {
   "cell_type": "markdown",
   "metadata": {},
   "source": [
    "In this example, we load and query multiple CSV files, converted from the XML data dumps of the Italian community in StackExchange. We illustrate some advanced operations of the structured data API, such as performing JOIN operations efficiently between different tables.\n",
    "\n",
    "Documentation about data format can be found here: https://ia800107.us.archive.org/27/items/stackexchange/readme.txt.\n",
    "\n",
    "Code for this example has been borrowed in part from: https://github.com/spark-in-action/first-edition/blob/master/ch05/python/ch05-listings.py."
   ]
  },
  {
   "cell_type": "markdown",
   "metadata": {},
   "source": [
    "## Preparation"
   ]
  },
  {
   "cell_type": "markdown",
   "metadata": {},
   "source": [
    "In this case, the files are already converted from the original XML dump files provided by SE. Thus, there is no need to load third-party libraries to read these data."
   ]
  },
  {
   "cell_type": "code",
   "execution_count": 2,
   "metadata": {},
   "outputs": [],
   "source": [
    "# Load external packages programatically\n",
    "import os\n",
    "# packages = \"com.databricks:spark-xml_2.11:0.5.0\"\n",
    "\n",
    "os.environ[\"JAVA_HOME\"] = \"/usr/lib/jvm/java-17-openjdk-amd64\"\n",
    "\n",
    "# os.environ[\"PYSPARK_SUBMIT_ARGS\"] = (\n",
    "#     \"--packages {0} pyspark-shell\".format(packages)\n",
    "# )"
   ]
  },
  {
   "cell_type": "code",
   "execution_count": 3,
   "metadata": {},
   "outputs": [
    {
     "name": "stdout",
     "output_type": "stream",
     "text": [
      "23/03/25 13:53:25 WARN Utils: Your hostname, helium resolves to a loopback address: 127.0.1.1; using 10.6.36.17 instead (on interface wlo1)\n",
      "23/03/25 13:53:25 WARN Utils: Set SPARK_LOCAL_IP if you need to bind to another address\n"
     ]
    },
    {
     "name": "stderr",
     "output_type": "stream",
     "text": [
      "Setting default log level to \"WARN\".\n",
      "To adjust logging level use sc.setLogLevel(newLevel). For SparkR, use setLogLevel(newLevel).\n"
     ]
    },
    {
     "name": "stdout",
     "output_type": "stream",
     "text": [
      "23/03/25 13:53:26 WARN NativeCodeLoader: Unable to load native-hadoop library for your platform... using builtin-java classes where applicable\n"
     ]
    }
   ],
   "source": [
    "import pyspark\n",
    "from pyspark.sql import SparkSession\n",
    "spark = (SparkSession.builder\n",
    "    .master(\"local[*]\")\n",
    "    .config(\"spark.driver.cores\", 1)\n",
    "    .appName(\"StackExchange Italian Job\")\n",
    "    .getOrCreate() )\n",
    "sc = spark.sparkContext"
   ]
  },
  {
   "cell_type": "code",
   "execution_count": 4,
   "metadata": {},
   "outputs": [
    {
     "data": {
      "text/html": [
       "\n",
       "            <div>\n",
       "                <p><b>SparkSession - in-memory</b></p>\n",
       "                \n",
       "        <div>\n",
       "            <p><b>SparkContext</b></p>\n",
       "\n",
       "            <p><a href=\"http://10.6.36.17:4040\">Spark UI</a></p>\n",
       "\n",
       "            <dl>\n",
       "              <dt>Version</dt>\n",
       "                <dd><code>v3.3.2</code></dd>\n",
       "              <dt>Master</dt>\n",
       "                <dd><code>local[*]</code></dd>\n",
       "              <dt>AppName</dt>\n",
       "                <dd><code>StackExchange Italian Job</code></dd>\n",
       "            </dl>\n",
       "        </div>\n",
       "        \n",
       "            </div>\n",
       "        "
      ],
      "text/plain": [
       "<pyspark.sql.session.SparkSession at 0x7fbb866ce0b0>"
      ]
     },
     "execution_count": 4,
     "metadata": {},
     "output_type": "execute_result"
    }
   ],
   "source": [
    "# print(spark)\n",
    "# print(sc)\n",
    "spark"
   ]
  },
  {
   "cell_type": "code",
   "execution_count": null,
   "metadata": {},
   "outputs": [],
   "source": [
    "!head -n 20 ../data/SE/italianPosts.csv"
   ]
  },
  {
   "cell_type": "code",
   "execution_count": 7,
   "metadata": {},
   "outputs": [],
   "source": [
    "from pyspark.sql import Row\n",
    "from datetime import datetime\n",
    "\n",
    "def toIntSafe(inval):\n",
    "    try:\n",
    "        return int(inval)\n",
    "    except ValueError:\n",
    "        return None\n",
    "\n",
    "def toTimeSafe(inval):\n",
    "    try:\n",
    "        return datetime.strptime(inval, \"%Y-%m-%d %H:%M:%S.%f\")\n",
    "    except ValueError:\n",
    "        return None\n",
    "\n",
    "# def toLongSafe(inval):\n",
    "#     try:\n",
    "#         return long(inval)\n",
    "#     except ValueError:\n",
    "#         return None\n",
    "\n",
    "def stringToPost(row):\n",
    "    r = row.split(\"~\")\n",
    "    return Row(\n",
    "        toIntSafe(r[0]),\n",
    "        toTimeSafe(r[1]),\n",
    "        toIntSafe(r[2]),\n",
    "        r[3],\n",
    "        toIntSafe(r[4]),\n",
    "        toTimeSafe(r[5]),\n",
    "        toIntSafe(r[6]),\n",
    "        toIntSafe(r[7]),\n",
    "        r[8],\n",
    "        toIntSafe(r[9]),\n",
    "        toIntSafe(r[10]),\n",
    "        toIntSafe(r[11]),\n",
    "        int(r[12])\n",
    "    )"
   ]
  },
  {
   "cell_type": "code",
   "execution_count": 8,
   "metadata": {},
   "outputs": [],
   "source": [
    "from pyspark.sql.types import *\n",
    "from pyspark.sql import functions as func\n",
    "\n",
    "# Define data scheme for posts\n",
    "postSchema = StructType([\n",
    "  StructField(\"commentCount\", IntegerType(), True),\n",
    "  StructField(\"lastActivityDate\", TimestampType(), True),\n",
    "  StructField(\"ownerUserId\", LongType(), True),\n",
    "  StructField(\"body\", StringType(), True),\n",
    "  StructField(\"score\", IntegerType(), True),\n",
    "  StructField(\"creationDate\", TimestampType(), True),\n",
    "  StructField(\"viewCount\", IntegerType(), True),\n",
    "  StructField(\"title\", StringType(), True),\n",
    "  StructField(\"tags\", StringType(), True),\n",
    "  StructField(\"answerCount\", IntegerType(), True),\n",
    "  StructField(\"acceptedAnswerId\", LongType(), True),\n",
    "  StructField(\"postTypeId\", LongType(), True),\n",
    "  StructField(\"id\", LongType(), False)\n",
    "])"
   ]
  },
  {
   "cell_type": "code",
   "execution_count": 10,
   "metadata": {},
   "outputs": [],
   "source": [
    "# Preprocess data and load to DataFrame using schema above\n",
    "itPostsRows = sc.textFile(\"../data/SE/italianPosts.csv\")\n",
    "rowRDD = itPostsRows.map(lambda x: stringToPost(x))\n",
    "\n",
    "itPostsDFStruct = spark.createDataFrame(rowRDD, postSchema)"
   ]
  },
  {
   "cell_type": "code",
   "execution_count": 11,
   "metadata": {},
   "outputs": [
    {
     "name": "stderr",
     "output_type": "stream",
     "text": [
      "                                                                                \r"
     ]
    },
    {
     "data": {
      "text/plain": [
       "1261"
      ]
     },
     "execution_count": 11,
     "metadata": {},
     "output_type": "execute_result"
    }
   ],
   "source": [
    "# Total number of users in this excerpt from complete SciFi dump\n",
    "itPostsDFStruct.count()"
   ]
  },
  {
   "cell_type": "code",
   "execution_count": 12,
   "metadata": {},
   "outputs": [
    {
     "data": {
      "text/plain": [
       "['commentCount',\n",
       " 'lastActivityDate',\n",
       " 'ownerUserId',\n",
       " 'body',\n",
       " 'score',\n",
       " 'creationDate',\n",
       " 'viewCount',\n",
       " 'title',\n",
       " 'tags',\n",
       " 'answerCount',\n",
       " 'acceptedAnswerId',\n",
       " 'postTypeId',\n",
       " 'id']"
      ]
     },
     "execution_count": 12,
     "metadata": {},
     "output_type": "execute_result"
    }
   ],
   "source": [
    "# Get list of column names\n",
    "itPostsDFStruct.columns"
   ]
  },
  {
   "cell_type": "code",
   "execution_count": 13,
   "metadata": {},
   "outputs": [
    {
     "data": {
      "text/plain": [
       "[('commentCount', 'int'),\n",
       " ('lastActivityDate', 'timestamp'),\n",
       " ('ownerUserId', 'bigint'),\n",
       " ('body', 'string'),\n",
       " ('score', 'int'),\n",
       " ('creationDate', 'timestamp'),\n",
       " ('viewCount', 'int'),\n",
       " ('title', 'string'),\n",
       " ('tags', 'string'),\n",
       " ('answerCount', 'int'),\n",
       " ('acceptedAnswerId', 'bigint'),\n",
       " ('postTypeId', 'bigint'),\n",
       " ('id', 'bigint')]"
      ]
     },
     "execution_count": 13,
     "metadata": {},
     "output_type": "execute_result"
    }
   ],
   "source": [
    "# Get list of tuples (colname, type)\n",
    "itPostsDFStruct.dtypes"
   ]
  },
  {
   "cell_type": "code",
   "execution_count": 14,
   "metadata": {},
   "outputs": [
    {
     "name": "stdout",
     "output_type": "stream",
     "text": [
      "root\n",
      " |-- commentCount: integer (nullable = true)\n",
      " |-- lastActivityDate: timestamp (nullable = true)\n",
      " |-- ownerUserId: long (nullable = true)\n",
      " |-- body: string (nullable = true)\n",
      " |-- score: integer (nullable = true)\n",
      " |-- creationDate: timestamp (nullable = true)\n",
      " |-- viewCount: integer (nullable = true)\n",
      " |-- title: string (nullable = true)\n",
      " |-- tags: string (nullable = true)\n",
      " |-- answerCount: integer (nullable = true)\n",
      " |-- acceptedAnswerId: long (nullable = true)\n",
      " |-- postTypeId: long (nullable = true)\n",
      " |-- id: long (nullable = false)\n",
      "\n"
     ]
    }
   ],
   "source": [
    "# Print DataFrame complete content schema\n",
    "itPostsDFStruct.printSchema()"
   ]
  },
  {
   "cell_type": "code",
   "execution_count": 15,
   "metadata": {},
   "outputs": [
    {
     "data": {
      "text/plain": [
       "[Row(commentCount=4, lastActivityDate=datetime.datetime(2013, 11, 11, 18, 21, 10, 903000), ownerUserId=17, body=\"&lt;p&gt;The infinitive tense is commonly used for expressing rules especially in signs (of any kind, not just road signs).&lt;/p&gt;&lt;p&gt;For instance&lt;/p&gt;&lt;blockquote&gt;  &lt;p&gt;Non fumare&lt;br&gt;  Non calpestare il prato&lt;br&gt;  Tenere la destra&lt;/p&gt;&lt;/blockquote&gt;&lt;p&gt;The language &quot;trick&quot; behind this use of the infinitive form is the omission of the clause &lt;em&gt;Si prega di&lt;/em&gt; or equivalent, so the above sentences are read as&lt;/p&gt;&lt;blockquote&gt;  &lt;p&gt;&lt;em&gt;&lt;strong&gt;Si prega di&lt;/em&gt;&lt;/strong&gt; non fumare&lt;br&gt;  &lt;strong&gt;&lt;em&gt;Si prega di&lt;/em&gt;&lt;/strong&gt; non calpestare il prato&lt;br&gt;  &lt;strong&gt;&lt;em&gt;Si prega di&lt;/em&gt;&lt;/strong&gt; tenere la destra&lt;/p&gt;&lt;/blockquote&gt;&lt;p&gt;Such form is not used in everyday's spoken language, as it's a convention used for giving orders and stating rules in an impersonal and formal way.&lt;/p&gt;&lt;hr&gt;&lt;p&gt;That being said, there's an official use of the infinitive tense as imperative, which is the negative imperative.&lt;/p&gt;&lt;p&gt;In Italian the positive imperative form goes as follows&lt;/p&gt;&lt;blockquote&gt;  &lt;p&gt;Tieni la destra!&lt;br&gt;  Parla con lei!&lt;/p&gt;&lt;/blockquote&gt;&lt;p&gt;whereas the negative imperative is formed with &lt;strong&gt;&lt;em&gt;non + infinitive tense&lt;/em&gt;&lt;/strong&gt;, as in &lt;/p&gt;&lt;blockquote&gt;  &lt;p&gt;Non tenere la destra!&lt;br&gt;  Non parlare con lei!&lt;/p&gt;&lt;/blockquote&gt;&lt;hr&gt;&lt;p&gt;As discussed in the comments, it's also nice to notice the differences and the similarities with other Romance languages, such as Spanish and French.&lt;/p&gt;&lt;p&gt;Apparently French has the same identical construct as Italian for expressing formal impersonal orders, for instance&lt;/p&gt;&lt;blockquote&gt;  &lt;p&gt;Ne pas fumer&lt;br&gt;  &lt;em&gt;Non fumare&lt;/em&gt;&lt;/p&gt;&lt;/blockquote&gt;&lt;p&gt;which is again a shortening for&lt;/p&gt;&lt;blockquote&gt;  &lt;p&gt;Merci de ne pas fumer&lt;br&gt;  &lt;em&gt;Grazie di non fumare&lt;/em&gt; or more idiomatically &lt;em&gt;Si prega di non fumare&lt;/em&gt;&lt;/p&gt;&lt;/blockquote&gt;&lt;p&gt;On the other hand Spanish behaves differently and it doesn't have a special construct for impersonal orders, rather just using the formal imperative form, which is formed with the subjunctive&lt;/p&gt;&lt;blockquote&gt;  &lt;p&gt;No fume&lt;br&gt;  &lt;em&gt;Non fumare&lt;/em&gt;, but also &lt;em&gt;Non fumi&lt;/em&gt;&lt;/p&gt;&lt;/blockquote&gt;&lt;p&gt;or&lt;/p&gt;&lt;blockquote&gt;  &lt;p&gt;Reduzca la velocidad&lt;br&gt;  &lt;em&gt;Ridurre la velocità&lt;/em&gt;, but also &lt;em&gt;Riduca la velocità&lt;/em&gt;&lt;/p&gt;&lt;/blockquote&gt;\", score=23, creationDate=datetime.datetime(2013, 11, 10, 19, 37, 54, 187000), viewCount=None, title=None, tags='', answerCount=None, acceptedAnswerId=None, postTypeId=2, id=1165),\n",
       " Row(commentCount=5, lastActivityDate=datetime.datetime(2013, 11, 10, 20, 31, 0, 177000), ownerUserId=12, body=\"&lt;p&gt;Come credo sia conosciuto da tutti quelli che usano viaggiare con l'automobile, molti italiani hanno uno strano rapporto con gli abbaglianti; alcuni li amano così tanto che preferiscono mantenerli sempre accesi, altri invece li usano per segnalare, se non addirittura per comunicare informazioni di vario genere, dalla presenza di autovelox alla protesta per presunte violazioni del codice della strada.&lt;/p&gt;&lt;p&gt;Al di lá delle considerazioni e dei commenti circa queste abitudini, mi piacerebbe sapere se il verbo &quot;sfanagliare&quot; è normalmente usato, e compreso, in tutte le regioni italiane o se, magari, ci sono altri verbi in uso, purchè simpatici come quello.&lt;/p&gt;&lt;p&gt;Laddove qualcuno non avesse compreso l'uso del aforementioned verbo, ecco un esempio:&lt;/p&gt;&lt;blockquote&gt;  &lt;p&gt;&quot;Ehi!&quot; - dice il marito a sua moglie - &quot;Quello li mi sta sfanagliando, st***o!&quot;&lt;/p&gt;    &lt;p&gt;E la moglie, &quot;Caro, rallenta; magari più avanti c'è un autovelox, cribbio!&quot;&lt;/p&gt;&lt;/blockquote&gt;\", score=1, creationDate=datetime.datetime(2013, 11, 10, 19, 44, 53, 797000), viewCount=61, title=None, tags='&lt;word-choice&gt;', answerCount=1, acceptedAnswerId=None, postTypeId=1, id=1166),\n",
       " Row(commentCount=2, lastActivityDate=datetime.datetime(2013, 11, 10, 20, 31, 0, 177000), ownerUserId=17, body=\"&lt;p&gt;Il verbo &lt;strong&gt;&lt;em&gt;sfanagliare&lt;/em&gt;&lt;/strong&gt; è un verbo inventato, non esistente nella lingua italiana, ma questo penso fosse chiaro dalla domanda.&lt;/p&gt;&lt;p&gt;Personalmente non l'ho mai sentito usare nel nord Italia, quindi non credo abbia una diffusione regionale omogenea. Un'alternativa che mi è capitato invece di sentire  è &lt;strong&gt;&lt;em&gt;sfanalare&lt;/em&gt;&lt;/strong&gt;, con significato identico.&lt;/p&gt;&lt;p&gt;Ad ogni modo, non sono sicuro dell'interpretazione di &lt;strong&gt;&lt;em&gt;sfanalare&lt;/em&gt;&lt;/strong&gt;/&lt;em&gt;&lt;strong&gt;sfanagliare&lt;/em&gt;&lt;/strong&gt; con il significato di &lt;strong&gt;&lt;em&gt;accecare con gli abbaglianti&lt;/em&gt;&lt;/strong&gt;. Probabilmente il significato che gli attribuirei è lo stesso di &lt;strong&gt;&lt;em&gt;fare i fari&lt;/em&gt;&lt;/strong&gt;, ossia &lt;strong&gt;&lt;em&gt;segnalare qualcosa tramite i fari abbaglianti&lt;/em&gt;&lt;/strong&gt;, solitamente accendendoli e spegnedoli ripetutamente. Per esempio&lt;/p&gt;&lt;blockquote&gt;  &lt;p&gt;Non mi ero accorto che il semaforo fosse diventato verde e il tizio dietro mi ha fatto i fari&lt;/p&gt;&lt;/blockquote&gt;&lt;p&gt;(ok l'esempio è un po' tirato, sappiamo benissimo che il tizio di turno normalmente suona il clacson e tira una bestemmia...)&lt;/p&gt;&lt;p&gt;oppure&lt;/p&gt;&lt;blockquote&gt;  &lt;p&gt;Una vecchia consuetudine italiana era quella di sfanalare per segnalare la presenza della polizia stradale&lt;/p&gt;&lt;/blockquote&gt;&lt;p&gt;Nell'esempio che hai menzionato userei invece qualcosa del tipo&lt;/p&gt;&lt;blockquote&gt;  &lt;p&gt;Quello lì mi sta abbagliando (con sti c***o di fari, &lt;em&gt;ndt&lt;/em&gt;), st***o!&lt;/p&gt;&lt;/blockquote&gt;&lt;p&gt;or&lt;/p&gt;&lt;blockquote&gt;  &lt;p&gt;Quello lì mi sta accecando (con sti c***o di fari, &lt;em&gt;ndt&lt;/em&gt;), st***o!&lt;/p&gt;&lt;/blockquote&gt;\", score=5, creationDate=datetime.datetime(2013, 11, 10, 19, 58, 2, 100000), viewCount=None, title=None, tags='', answerCount=None, acceptedAnswerId=None, postTypeId=2, id=1167),\n",
       " Row(commentCount=1, lastActivityDate=datetime.datetime(2014, 7, 25, 13, 15, 2, 270000), ownerUserId=154, body='&lt;p&gt;As part of my masters in linguistics, I am taking a course on the subject of irony. We were given examples of sentences that are most likely ironic, as the English sentence &quot;he is not exceptionally smart&quot; (which has the structure &quot;he is not exceptionally X&quot;). This does not mean literally that he is smart at an exceptional level, but rather, ironically, that he is very stupid.&lt;/p&gt;&lt;p&gt;Are there similar constructions in Italian, preferably ones that involve superlative and negation?&lt;/p&gt;', score=11, creationDate=datetime.datetime(2013, 11, 10, 22, 3, 41, 27000), viewCount=187, title=None, tags='&lt;english-comparison&gt;&lt;translation&gt;&lt;phrase-request&gt;', answerCount=4, acceptedAnswerId=1170, postTypeId=1, id=1168),\n",
       " Row(commentCount=0, lastActivityDate=datetime.datetime(2013, 11, 10, 22, 15, 17, 693000), ownerUserId=70, body=\"&lt;p&gt;&lt;em&gt;Non è furbissimo&lt;/em&gt; can be used in the same sense as your example; or &lt;em&gt;non è velocissimo&lt;/em&gt; for someone who's rather slow. Maybe adding &lt;em&gt;proprio&lt;/em&gt;: &lt;em&gt;non è proprio furbissimo&lt;/em&gt;, which is more explicit in denying the smartness of the person.&lt;/p&gt;\", score=3, creationDate=datetime.datetime(2013, 11, 10, 22, 15, 17, 693000), viewCount=None, title=None, tags='', answerCount=None, acceptedAnswerId=None, postTypeId=2, id=1169)]"
      ]
     },
     "execution_count": 15,
     "metadata": {},
     "output_type": "execute_result"
    }
   ],
   "source": [
    "itPostsDFStruct.take(5)"
   ]
  },
  {
   "cell_type": "markdown",
   "metadata": {},
   "source": [
    "## Initial queries"
   ]
  },
  {
   "cell_type": "code",
   "execution_count": 17,
   "metadata": {},
   "outputs": [
    {
     "name": "stdout",
     "output_type": "stream",
     "text": [
      "+----+----------+-----------+--------------------+--------------------+---------+-----------+-----+\n",
      "|  id|postTypeId|ownerUserId|        creationDate|                tags|viewCount|answerCount|score|\n",
      "+----+----------+-----------+--------------------+--------------------+---------+-----------+-----+\n",
      "|1166|         1|         12|2013-11-10 19:44:...| &lt;word-choice&gt;|       61|          1|    1|\n",
      "|1168|         1|        154|2013-11-10 22:03:...|&lt;english-compa...|      187|          4|   11|\n",
      "|1173|         1|         63|2013-11-11 10:28:...|&lt;usage&gt;&lt;...|      122|          3|    5|\n",
      "|1175|         1|         63|2013-11-11 11:31:...|&lt;usage&gt;&lt;...|      114|          2|    4|\n",
      "|1176|         1|         63|2013-11-11 11:39:...|&lt;usage&gt;&lt;...|       58|          2|    3|\n",
      "|1179|         1|         63|2013-11-11 12:58:...|&lt;usage&gt;&lt;...|       60|          2|    3|\n",
      "|1183|         1|         22|2013-11-11 14:43:...|&lt;history&gt;&l...|      321|          1|    6|\n",
      "|1184|         1|        159|2013-11-11 18:19:...|&lt;idioms&gt;&lt...|      138|          2|    7|\n",
      "|1187|         1|         12|2013-11-11 18:52:...|&lt;idioms&gt;&lt...|      149|          2|    4|\n",
      "|1189|         1|         12|2013-11-11 20:13:...|     &lt;grammar&gt;|      387|          2|    8|\n",
      "+----+----------+-----------+--------------------+--------------------+---------+-----------+-----+\n",
      "only showing top 10 rows\n",
      "\n"
     ]
    }
   ],
   "source": [
    "# Explore some contents in several interesting columns\n",
    "# Include values connecting with other tables\n",
    "(itPostsDFStruct.select(\"id\", \"postTypeId\", \"ownerUserId\", \"creationDate\",\n",
    "                       \"tags\", \"viewCount\", \"answerCount\", \"score\")\n",
    "                .filter(\"postTypeId = 1\")\n",
    "                .show(10))"
   ]
  },
  {
   "cell_type": "code",
   "execution_count": 18,
   "metadata": {},
   "outputs": [
    {
     "data": {
      "text/plain": [
       "46"
      ]
     },
     "execution_count": 18,
     "metadata": {},
     "output_type": "execute_result"
    }
   ],
   "source": [
    "# Filter content: count num. of questions including \"Italiano\" in their body\n",
    "# Note the use of func.instr inside the filter method\n",
    "itPostsDFStruct.filter(func.instr(itPostsDFStruct[\"body\"], \"Italiano\") > 0).count()"
   ]
  },
  {
   "cell_type": "markdown",
   "metadata": {},
   "source": [
    "### Exercise 1: List the 10 most recently modified questions"
   ]
  },
  {
   "cell_type": "code",
   "execution_count": 20,
   "metadata": {},
   "outputs": [
    {
     "name": "stdout",
     "output_type": "stream",
     "text": [
      "+----+----------+-----------+--------------------+--------------------+--------------------+---------+-----------+-----+\n",
      "|  id|postTypeId|ownerUserId|        creationDate|    lastActivityDate|                tags|viewCount|answerCount|score|\n",
      "+----+----------+-----------+--------------------+--------------------+--------------------+---------+-----------+-----+\n",
      "|2343|         1|        707|2014-09-12 09:44:...|2014-09-13 22:25:...|&lt;orthography&g...|      102|          1|    3|\n",
      "|2330|         1|        193|2014-09-09 12:34:...|2014-09-13 13:40:...|&lt;vocabulary&gt...|       88|          1|    4|\n",
      "|2337|         2|        193|2014-09-11 01:16:...|2014-09-13 13:40:...|                    |     null|       null|    1|\n",
      "|2345|         1|        707|2014-09-13 08:55:...|2014-09-13 13:29:...|   &lt;etymology&gt;|       47|          1|    3|\n",
      "|2347|         2|         37|2014-09-13 13:10:...|2014-09-13 13:29:...|                    |     null|       null|    4|\n",
      "|2346|         1|        193|2014-09-13 12:43:...|2014-09-13 12:43:...|&lt;grammar&gt;&l...|       21|          0|    5|\n",
      "|1321|         1|          8|2013-11-20 16:42:...|2014-09-12 10:55:...|&lt;orthography&g...|      145|          5|   10|\n",
      "|1696|         1|         12|2014-02-15 14:25:...|2014-09-12 10:55:...|&lt;orthography&g...|      144|          3|    0|\n",
      "|2344|         2|         37|2014-09-12 09:52:...|2014-09-12 09:52:...|                    |     null|       null|    5|\n",
      "|2342|         2|        707|2014-09-11 18:20:...|2014-09-12 07:32:...|                    |     null|       null|    5|\n",
      "+----+----------+-----------+--------------------+--------------------+--------------------+---------+-----------+-----+\n",
      "only showing top 10 rows\n",
      "\n"
     ]
    }
   ],
   "source": [
    "# Write your solution here\n",
    "(itPostsDFStruct.select(\"id\", \"postTypeId\", \"ownerUserId\", \"creationDate\",\n",
    "                        \"lastActivityDate\", \"tags\", \"viewCount\",\n",
    "                        \"answerCount\", \"score\")\n",
    " # .orderBy(\"lastActivityDate\", ascending=False)\n",
    " .orderBy(itPostsDFStruct.lastActivityDate.desc())\n",
    " .show(10)\n",
    ")"
   ]
  },
  {
   "cell_type": "markdown",
   "metadata": {},
   "source": [
    "**Ejercicio**: Recuperar posts con `lastActivityDate` más reciente que el 1 de diciembre de 2013 y con score > 5."
   ]
  },
  {
   "cell_type": "code",
   "execution_count": 21,
   "metadata": {},
   "outputs": [
    {
     "name": "stdout",
     "output_type": "stream",
     "text": [
      "+----+----------+-----------+--------------------+--------------------+---------+-----------+-----+\n",
      "|  id|postTypeId|ownerUserId|    lastActivityDate|                tags|viewCount|answerCount|score|\n",
      "+----+----------+-----------+--------------------+--------------------+---------+-----------+-----+\n",
      "|1432|         2|          8|2013-12-01 09:13:...|                    |     null|       null|    6|\n",
      "|1395|         2|        193|2013-12-01 23:12:...|                    |     null|       null|    7|\n",
      "|1439|         2|          5|2013-12-02 08:27:...|                    |     null|       null|    8|\n",
      "|1442|         2|         70|2013-12-04 20:59:...|                    |     null|       null|    6|\n",
      "|1444|         2|         87|2013-12-06 22:16:...|                    |     null|       null|    6|\n",
      "|1449|         2|        193|2013-12-07 14:12:...|                    |     null|       null|    8|\n",
      "|1462|         2|         70|2013-12-09 00:03:...|                    |     null|       null|    6|\n",
      "|1465|         2|         70|2013-12-09 12:41:...|                    |     null|       null|   10|\n",
      "|1464|         1|        133|2013-12-09 12:41:...|&lt;pronunciation...|       86|          1|    6|\n",
      "|1468|         2|          8|2013-12-09 22:05:...|                    |     null|       null|   10|\n",
      "|1466|         1|         12|2013-12-09 22:38:...|&lt;grammar&gt;&l...|      107|          1|   10|\n",
      "|1471|         2|         57|2013-12-10 18:12:...|                    |     null|       null|   12|\n",
      "|1457|         2|        223|2013-12-12 10:49:...|                    |     null|       null|   10|\n",
      "|1480|         2|         70|2013-12-14 21:10:...|                    |     null|       null|   12|\n",
      "|1485|         2|         57|2013-12-14 23:54:...|                    |     null|       null|   10|\n",
      "|1482|         2|        279|2013-12-15 13:12:...|                    |     null|       null|   10|\n",
      "|1488|         2|         70|2013-12-15 15:13:...|                    |     null|       null|   17|\n",
      "|1500|         2|         22|2013-12-15 18:58:...|                    |     null|       null|   12|\n",
      "|1508|         2|         37|2013-12-16 17:00:...|                    |     null|       null|    6|\n",
      "|1504|         1|        281|2013-12-17 08:26:...|&lt;grammar&gt;&l...|      489|          3|    6|\n",
      "+----+----------+-----------+--------------------+--------------------+---------+-----------+-----+\n",
      "only showing top 20 rows\n",
      "\n"
     ]
    }
   ],
   "source": [
    "(itPostsDFStruct.select(\"id\", \"postTypeId\", \"ownerUserId\",\n",
    "                        \"lastActivityDate\", \"tags\", \"viewCount\",\n",
    "                        \"answerCount\", \"score\")\n",
    ".filter((itPostsDFStruct.lastActivityDate > '2013-12-01') & (itPostsDFStruct.score > 5))\n",
    ".orderBy(itPostsDFStruct.lastActivityDate)\n",
    ").show()"
   ]
  },
  {
   "cell_type": "markdown",
   "metadata": {},
   "source": [
    "## SQL Functions for calculations"
   ]
  },
  {
   "cell_type": "markdown",
   "metadata": {},
   "source": [
    "There are 4 types of SQL functions we can use with structured data in Spark:\n",
    "\n",
    "* **Scalar functions**: Return a single value for each row, making calculations on one or more columns.\n",
    "* **Aggregate functions**: Return a single value for a group of rows.\n",
    "* **Window functions**: Return several values for a group of rows.\n",
    "* **User-defined functions**: Include custom scalar or aggregate functions, created by the user."
   ]
  },
  {
   "cell_type": "markdown",
   "metadata": {},
   "source": [
    "### Scalar and aggregate functions"
   ]
  },
  {
   "cell_type": "markdown",
   "metadata": {},
   "source": [
    "They can operate on numerical values (e.g. math operations), string values (string operations) or date/time/datetime values (date-time operations).\n",
    "\n",
    "**Example: Retrieve the body of the question that was active for the longest time interval?**"
   ]
  },
  {
   "cell_type": "code",
   "execution_count": 20,
   "metadata": {},
   "outputs": [
    {
     "name": "stdout",
     "output_type": "stream",
     "text": [
      "Body of the oldest question: <p>The plural of <em>braccio</em> is <em>braccia</em>, and the plural of <em>avambraccio</em> is <em>avambracci</em>.</p><p>Why are the plural of those words so different, if they both are referring to parts of the human body, and <em>avambraccio</em> derives from <em>braccio</em>?</p>\n"
     ]
    }
   ],
   "source": [
    "oldest_question = (itPostsDFStruct.filter(itPostsDFStruct.postTypeId == 1)\n",
    " .withColumn(\"activePeriod\",\n",
    "             func.datediff(itPostsDFStruct.lastActivityDate,\n",
    "                           itPostsDFStruct.creationDate))\n",
    " .orderBy(func.desc(\"activePeriod\"))\n",
    ")\n",
    "print(\"Body of the oldest question:\", oldest_question.head().body.replace(\"&lt;\",\"<\").replace(\"&gt;\",\">\"))"
   ]
  },
  {
   "cell_type": "markdown",
   "metadata": {},
   "source": [
    "Another example: Calculate the average and maximum score of all questions, and the total number of questions. In this case, we give an alias to all result columns, and we also round the average score result."
   ]
  },
  {
   "cell_type": "code",
   "execution_count": 23,
   "metadata": {},
   "outputs": [
    {
     "name": "stdout",
     "output_type": "stream",
     "text": [
      "+-------------+---------+---------+-----------+\n",
      "|average_score|max_score|min_score|total_count|\n",
      "+-------------+---------+---------+-----------+\n",
      "|       4.1594|       24|       -3|       1261|\n",
      "+-------------+---------+---------+-----------+\n",
      "\n"
     ]
    }
   ],
   "source": [
    "itPostsDFStruct.select(func.round(func.avg(itPostsDFStruct.score),4).alias(\"average_score\"),\n",
    "                       func.max(itPostsDFStruct.score).alias(\"max_score\"),\n",
    "                       func.min(itPostsDFStruct.score).alias(\"min_score\"),\n",
    "                       func.count(itPostsDFStruct.score).alias(\"total_count\")).show()"
   ]
  },
  {
   "cell_type": "markdown",
   "metadata": {},
   "source": [
    "### Window functions"
   ]
  },
  {
   "cell_type": "markdown",
   "metadata": {},
   "source": [
    "Window functions can also calculate summary results, but instead of producing a single row result per group they let us define a \"moving group\" of row (named *frames*), with respect to the current row. This moving group can be used to calculate different values to be combined with the values of the current row.\n",
    "\n",
    "To indicate the column on which we want to define the window we use the function `over(window_def)`.\n",
    "\n",
    "Some window functions currently available are:\n",
    "\n",
    "* `first`: Returns the value in the first row in the frame.\n",
    "* `last`: Returns the value in the first row in the frame.\n",
    "* `lag`: Pivot operation, returns the value in the row that is `offset` rows behind the current row in the frame. Return `default` if the row does not exist.\n",
    "* `lead`: Pivot operation, returns the value in the row that is `offset` rows before the current row in the frame. Return `default` if the row does not exist.\n",
    "* `ntile`: returns the ntile group id (from 1 to n inclusive) in an ordered window partition. For example, if n is 4, the first quarter of the rows will get value 1, the second quarter will get 2, the third quarter will get 3, and the last quarter will get 4. This is equivalent to the `NTILE` function in SQL.\n",
    "* `cume_dist`: Fraction of rows in the frame whose value is less than or equal to the value in the row being processed.\n",
    "* `rank`: Returns the rank (by value) of the row in the frame.\n",
    "* `dense_rank`: Returns the rank (by value) of the row in the frame, but it gives the same rank to rows with tied values.\n",
    "* `percent_rank`: Returns rank of the row, divided by total number of rows in the frame.\n",
    "* `row_number`: Returns the sequential number of the row in the frame."
   ]
  },
  {
   "cell_type": "markdown",
   "metadata": {},
   "source": [
    "**Example: Find the maximum score of all user questions (`postTypeId=1`) and, for each question, how much its score is below the maximum score for that user.**\n",
    "\n",
    "*Strategy for the query*: Retrieve the maxium score of all user questions and, for each question, how much its score is below the maximum score for that user."
   ]
  },
  {
   "cell_type": "code",
   "execution_count": 24,
   "metadata": {},
   "outputs": [
    {
     "name": "stdout",
     "output_type": "stream",
     "text": [
      "+----+-----------+----------------+-----+----------+-----+\n",
      "|  id|ownerUserId|acceptedAnswerId|score|maxPerUser|toMax|\n",
      "+----+-----------+----------------+-----+----------+-----+\n",
      "|1637|          4|            null|    7|         7|    0|\n",
      "|1192|          8|            1212|   13|        20|    7|\n",
      "|1276|          8|            null|    6|        20|   14|\n",
      "|1321|          8|            1336|   10|        20|   10|\n",
      "|1365|          8|            1377|    3|        20|   17|\n",
      "|   1|          8|               2|   20|        20|    0|\n",
      "| 112|          8|            null|    7|        20|   13|\n",
      "|1166|         12|            null|    1|        14|   13|\n",
      "|1187|         12|            null|    4|        14|   10|\n",
      "|1189|         12|            null|    8|        14|    6|\n",
      "|1197|         12|            null|    8|        14|    6|\n",
      "|1211|         12|            null|    5|        14|    9|\n",
      "|1217|         12|            null|    4|        14|   10|\n",
      "|1239|         12|            null|    4|        14|   10|\n",
      "|1242|         12|            null|    4|        14|   10|\n",
      "|1243|         12|            null|    4|        14|   10|\n",
      "|1250|         12|            null|    2|        14|   12|\n",
      "|1254|         12|            null|    3|        14|   11|\n",
      "|1260|         12|            null|    4|        14|   10|\n",
      "|1266|         12|            null|    0|        14|   14|\n",
      "+----+-----------+----------------+-----+----------+-----+\n",
      "only showing top 20 rows\n",
      "\n"
     ]
    }
   ],
   "source": [
    "from pyspark.sql.window import Window\n",
    "\n",
    "winDf = (itPostsDFStruct.filter(itPostsDFStruct.postTypeId == 1)\n",
    "         .select(itPostsDFStruct.id,\n",
    "                 itPostsDFStruct.ownerUserId,itPostsDFStruct.acceptedAnswerId,\n",
    "                 itPostsDFStruct.score,\n",
    "                 (func.max(itPostsDFStruct.score)\n",
    "                  .over(Window.partitionBy(itPostsDFStruct.ownerUserId)).alias(\"maxPerUser\"))\n",
    "                )\n",
    "        )\n",
    "winDf.withColumn(\"toMax\", winDf.maxPerUser - winDf.score).show(20)"
   ]
  },
  {
   "cell_type": "markdown",
   "metadata": {},
   "source": [
    "**Example: Calculate, for each question, the `id` of the next and previous question created by its owner, by creation date.**\n",
    "\n",
    "*Strategy for the query*: Filter posts with `postTypeId==1`. Use the `lag` and `lead` functions to retrieve the previous and next rows in the frame (defined as all questions of that user). The window is the same for both operations (lag and lead): the partitioning is done by `ownerUserId` and you must order by `creationDate` the questions in the frame. Finally, order the results by `ownerUserId` and `questionId` to make it clearer."
   ]
  },
  {
   "cell_type": "code",
   "execution_count": 25,
   "metadata": {},
   "outputs": [
    {
     "name": "stdout",
     "output_type": "stream",
     "text": [
      "+----+-----------+--------------------+----+----+\n",
      "|  id|ownerUserId|        creationDate|prev|next|\n",
      "+----+-----------+--------------------+----+----+\n",
      "|1637|          4|2014-01-24 06:51:...|null|null|\n",
      "|   1|          8|2013-11-05 20:22:...|null| 112|\n",
      "| 112|          8|2013-11-08 13:14:...|   1|1192|\n",
      "|1192|          8|2013-11-11 21:01:...| 112|1276|\n",
      "|1276|          8|2013-11-15 16:09:...|1192|1321|\n",
      "|1321|          8|2013-11-20 16:42:...|1276|1365|\n",
      "|1365|          8|2013-11-23 09:09:...|1321|null|\n",
      "|  11|         12|2013-11-05 21:30:...|null|  17|\n",
      "|  17|         12|2013-11-05 22:17:...|  11|  18|\n",
      "|  18|         12|2013-11-05 22:34:...|  17|  19|\n",
      "|  19|         12|2013-11-05 22:38:...|  18|  63|\n",
      "|  63|         12|2013-11-06 17:54:...|  19|  65|\n",
      "|  65|         12|2013-11-06 18:07:...|  63|  69|\n",
      "|  69|         12|2013-11-06 19:41:...|  65|  70|\n",
      "|  70|         12|2013-11-06 20:35:...|  69|  89|\n",
      "|  89|         12|2013-11-07 19:22:...|  70|  94|\n",
      "|  94|         12|2013-11-07 20:42:...|  89| 107|\n",
      "| 107|         12|2013-11-08 08:27:...|  94| 122|\n",
      "| 122|         12|2013-11-08 20:55:...| 107|1141|\n",
      "|1141|         12|2013-11-09 20:50:...| 122|1142|\n",
      "+----+-----------+--------------------+----+----+\n",
      "only showing top 20 rows\n",
      "\n"
     ]
    }
   ],
   "source": [
    "(itPostsDFStruct.filter(itPostsDFStruct.postTypeId == 1)\n",
    " .select(itPostsDFStruct.id, itPostsDFStruct.ownerUserId, itPostsDFStruct.creationDate,\n",
    "         (func.lag(itPostsDFStruct.id, 1)\n",
    "          .over(Window.partitionBy(itPostsDFStruct.ownerUserId)\n",
    "                .orderBy(itPostsDFStruct.creationDate)).alias(\"prev\")\n",
    "         ), \n",
    "         (func.lead(itPostsDFStruct.id, 1)\n",
    "          .over(Window.partitionBy(itPostsDFStruct.ownerUserId)\n",
    "                .orderBy(itPostsDFStruct.creationDate)).alias(\"next\"))\n",
    "        )\n",
    " .orderBy(itPostsDFStruct.ownerUserId, itPostsDFStruct.id).show()\n",
    ")"
   ]
  },
  {
   "cell_type": "markdown",
   "metadata": {},
   "source": [
    "### User-defined functions (UDFs)"
   ]
  },
  {
   "cell_type": "markdown",
   "metadata": {},
   "source": [
    "Sometimes, the specific function that we need to implement a calculation for our query is not provided in the standard programming API. In that case, we can define our own customized functions for that purpose. That kind of functions are called *UDFs* (User Defined Functions).\n",
    "\n",
    "The method `functions.udf` let us create our own function, receiving a function that is previously defined with the required design and logic. A UDF must take zero or more columns as input (the maximum is 10 columns), and returns the final value.\n",
    "\n",
    "For example, let's assume that we need a UDF to find how many tags are included in each question. Tags are written as concatenated strings surrounded by angle brackets (`&lt;` for `<` and `&gt;` for `>`)."
   ]
  },
  {
   "cell_type": "code",
   "execution_count": 26,
   "metadata": {},
   "outputs": [
    {
     "name": "stdout",
     "output_type": "stream",
     "text": [
      "+-------------------------------------------------------------------+--------+\n",
      "|tags                                                               |tagCount|\n",
      "+-------------------------------------------------------------------+--------+\n",
      "|&lt;word-choice&gt;                                                |1       |\n",
      "|&lt;english-comparison&gt;&lt;translation&gt;&lt;phrase-request&gt;|3       |\n",
      "|&lt;usage&gt;&lt;verbs&gt;                                         |2       |\n",
      "|&lt;usage&gt;&lt;tenses&gt;&lt;english-comparison&gt;              |3       |\n",
      "|&lt;usage&gt;&lt;punctuation&gt;                                   |2       |\n",
      "|&lt;usage&gt;&lt;tenses&gt;                                        |2       |\n",
      "|&lt;history&gt;&lt;english-comparison&gt;                          |2       |\n",
      "|&lt;idioms&gt;&lt;etymology&gt;                                    |2       |\n",
      "|&lt;idioms&gt;&lt;regional&gt;                                     |2       |\n",
      "|&lt;grammar&gt;                                                    |1       |\n",
      "+-------------------------------------------------------------------+--------+\n",
      "only showing top 10 rows\n",
      "\n"
     ]
    }
   ],
   "source": [
    "# Create a new UDF named count_tags\n",
    "count_tags = func.udf(lambda tags: tags.count(\"&lt;\"), IntegerType())\n",
    "\n",
    "# Use the new UDF in your query\n",
    "(itPostsDFStruct.filter(itPostsDFStruct.postTypeId == 1)\n",
    " .select(\"tags\", count_tags(itPostsDFStruct.tags).alias(\"tagCount\")).show(10, False)\n",
    ")"
   ]
  },
  {
   "cell_type": "markdown",
   "metadata": {},
   "source": [
    "## Advanced queries"
   ]
  },
  {
   "cell_type": "markdown",
   "metadata": {},
   "source": [
    "### Missing values"
   ]
  },
  {
   "cell_type": "markdown",
   "metadata": {},
   "source": [
    "There are three possible options to deal with missing values:\n",
    "* Drop all lines with missing values (`null` or `NaN`).\n",
    "* Impute missing values in a column with a constant.\n",
    "* Replace *certain* values with string or numeric constants.\n",
    "\n",
    "Let's see some examples."
   ]
  },
  {
   "cell_type": "code",
   "execution_count": 17,
   "metadata": {},
   "outputs": [
    {
     "data": {
      "text/plain": [
       "0"
      ]
     },
     "execution_count": 17,
     "metadata": {},
     "output_type": "execute_result"
    }
   ],
   "source": [
    "cleanPosts = itPostsDFStruct.na.drop()\n",
    "cleanPosts.count()"
   ]
  },
  {
   "cell_type": "code",
   "execution_count": 18,
   "metadata": {},
   "outputs": [
    {
     "name": "stdout",
     "output_type": "stream",
     "text": [
      "+------------+--------------------+-----------+--------------------+-----+--------------------+---------+-----+--------------------+-----------+----------------+----------+----+\n",
      "|commentCount|    lastActivityDate|ownerUserId|                body|score|        creationDate|viewCount|title|                tags|answerCount|acceptedAnswerId|postTypeId|  id|\n",
      "+------------+--------------------+-----------+--------------------+-----+--------------------+---------+-----+--------------------+-----------+----------------+----------+----+\n",
      "|           4|2013-11-11 18:21:...|         17|&lt;p&gt;The infi...|   23|2013-11-10 19:37:...|        0| null|                    |       null|            null|         2|1165|\n",
      "|           5|2013-11-10 20:31:...|         12|&lt;p&gt;Come cre...|    1|2013-11-10 19:44:...|       61| null| &lt;word-choice&gt;|          1|            null|         1|1166|\n",
      "|           2|2013-11-10 20:31:...|         17|&lt;p&gt;Il verbo...|    5|2013-11-10 19:58:...|        0| null|                    |       null|            null|         2|1167|\n",
      "|           1|2014-07-25 13:15:...|        154|&lt;p&gt;As part ...|   11|2013-11-10 22:03:...|      187| null|&lt;english-compa...|          4|            1170|         1|1168|\n",
      "|           0|2013-11-10 22:15:...|         70|&lt;p&gt;&lt;em&g...|    3|2013-11-10 22:15:...|        0| null|                    |       null|            null|         2|1169|\n",
      "|           2|2013-11-10 22:17:...|         17|&lt;p&gt;There's ...|    8|2013-11-10 22:17:...|        0| null|                    |       null|            null|         2|1170|\n",
      "|           1|2013-11-11 09:51:...|         63|&lt;p&gt;As other...|    3|2013-11-11 09:51:...|        0| null|                    |       null|            null|         2|1171|\n",
      "|           1|2013-11-12 23:57:...|         63|&lt;p&gt;The expr...|    1|2013-11-11 10:09:...|        0| null|                    |       null|            null|         2|1172|\n",
      "|           9|2014-01-05 11:13:...|         63|&lt;p&gt;When I w...|    5|2013-11-11 10:28:...|      122| null|&lt;usage&gt;&lt;...|          3|            1181|         1|1173|\n",
      "|           0|2013-11-11 10:58:...|         18|&lt;p&gt;Wow, wha...|    5|2013-11-11 10:58:...|        0| null|                    |       null|            null|         2|1174|\n",
      "+------------+--------------------+-----------+--------------------+-----+--------------------+---------+-----+--------------------+-----------+----------------+----------+----+\n",
      "only showing top 10 rows\n",
      "\n"
     ]
    }
   ],
   "source": [
    "itPostsDFStruct.na.fill({\"viewCount\": 0}).show(10)"
   ]
  },
  {
   "cell_type": "code",
   "execution_count": null,
   "metadata": {},
   "outputs": [],
   "source": [
    "itPostsDFStruct.na.replace(1177, 3000, [\"id\", \"acceptedAnswerId\"]).show(10)"
   ]
  },
  {
   "cell_type": "markdown",
   "metadata": {},
   "source": [
    "### Grouping data and join operations"
   ]
  },
  {
   "cell_type": "markdown",
   "metadata": {},
   "source": [
    "We can group data in a similar fashion as we do with the `GROUP BY` clause in SQL. It is enabled with the method `DataFrame.groupBy()`, that returns a `GroupedData` object (see: https://spark.apache.org/docs/latest/api/python/pyspark.sql.html#pyspark.sql.GroupedData). `GroupedData` objects represent groups of rows that share the same values in the columns specified in the argument passed to `groupBy()`. As a result, we can apply severa operations (`avg`, `count`, `max`, `min`, `sum`) to perform aggregated calculations across the groups. The value returned by these functions is a `DataFrame` object with the columns affected by the `groupBy()` method, plus a new column with the results of the aggregated operation."
   ]
  },
  {
   "cell_type": "markdown",
   "metadata": {},
   "source": [
    "Example: Calculate the number of posts per author, associated tags (treating each combination of tags as a different value) and the post type."
   ]
  },
  {
   "cell_type": "code",
   "execution_count": 14,
   "metadata": {},
   "outputs": [
    {
     "name": "stdout",
     "output_type": "stream",
     "text": [
      "+-----------+--------------------+----------+-----+\n",
      "|ownerUserId|                tags|postTypeId|count|\n",
      "+-----------+--------------------+----------+-----+\n",
      "|        862|                    |         2|    1|\n",
      "|        855|         <resources>|         1|    1|\n",
      "|        846|<translation><eng...|         1|    1|\n",
      "|        845|<word-meaning><tr...|         1|    1|\n",
      "|        842|  <verbs><resources>|         1|    1|\n",
      "|        835|    <grammar><verbs>|         1|    1|\n",
      "|        833|                    |         2|    1|\n",
      "|        833|           <meaning>|         1|    1|\n",
      "|        833|<meaning><article...|         1|    1|\n",
      "|        814|                    |         2|    1|\n",
      "+-----------+--------------------+----------+-----+\n",
      "only showing top 10 rows\n",
      "\n"
     ]
    }
   ],
   "source": [
    "# Create a new UDF named replace_angle_brackets\n",
    "replace_angle_brackets = func.udf(lambda tags: tags.replace(\"&lt;\", \"<\").replace(\"&gt;\", \">\"), \n",
    "                                  StringType())\n",
    "\n",
    "# Perform the query including the new UDF\n",
    "(itPostsDFStruct.groupBy(itPostsDFStruct.ownerUserId,\n",
    "                         replace_angle_brackets(itPostsDFStruct.tags).alias(\"tags\"),\n",
    "                         itPostsDFStruct.postTypeId)\n",
    " .count()\n",
    " .orderBy(itPostsDFStruct.ownerUserId.desc())\n",
    " .show(10)\n",
    ")"
   ]
  },
  {
   "cell_type": "markdown",
   "metadata": {},
   "source": [
    "Example: Calculate the last activity date and the maximum score per user. In the second query, we map the column name to the function(s) that we want to apply on its values."
   ]
  },
  {
   "cell_type": "code",
   "execution_count": null,
   "metadata": {},
   "outputs": [],
   "source": [
    "# The following two queries are equivalent\n",
    "\n",
    "(itPostsDFStruct\n",
    " .groupBy(itPostsDFStruct.ownerUserId)\n",
    " .agg(func.max(itPostsDFStruct.lastActivityDate).alias(\"max_last_activity_date\"),\n",
    "      func.max(itPostsDFStruct.score).alias(\"max_score\"))\n",
    " .orderBy(\"max_score\", ascending=False)\n",
    " .show(10)\n",
    ")\n",
    "# (itPostsDFStruct\n",
    "#  .groupBy(itPostsDFStruct.ownerUserId)\n",
    "#  .agg({\"lastActivityDate\": \"max\", \"score\": \"max\"})\n",
    "#  .orderBy(\"ownerUserId\")\n",
    "#  .show(10)\n",
    "# )"
   ]
  },
  {
   "cell_type": "markdown",
   "metadata": {},
   "source": [
    "### The `rollup()` and `cube()` functions"
   ]
  },
  {
   "cell_type": "markdown",
   "metadata": {},
   "source": [
    "Two additional functions that perform more complicated aggregate operations are `rollup()` and `cube()`. The allow us to calculate intermediate aggregation values for each value of the first column in the aggregation, so that they always respect the hierarchy of the input columns.\n",
    "\n",
    "See https://github.com/spark-in-action/first-edition/blob/master/ch05/python/ch05-listings.py for example use cases for these functions."
   ]
  },
  {
   "cell_type": "markdown",
   "metadata": {},
   "source": [
    "### Join operations"
   ]
  },
  {
   "cell_type": "markdown",
   "metadata": {},
   "source": [
    "Example: Combine the posts and votes tables from SE on the `postId` column."
   ]
  },
  {
   "cell_type": "code",
   "execution_count": 28,
   "metadata": {},
   "outputs": [],
   "source": [
    "# Read and load the table with votes info\n",
    "itVotesRaw = sc.textFile(\"data/SE/italianVotes.csv\").map(lambda x: x.split(\"~\"))\n",
    "itVotesRows = itVotesRaw.map(lambda row: Row(id=int(row[0]), postId=int(row[1]), voteTypeId=int(row[2]), creationDate=datetime.strptime(row[3], \"%Y-%m-%d %H:%M:%S.%f\")))\n",
    "votesSchema = StructType([\n",
    "  StructField(\"creationDate\", TimestampType(), False),\n",
    "  StructField(\"id\", LongType(), False),\n",
    "  StructField(\"postId\", LongType(), False),\n",
    "  StructField(\"voteTypeId\", IntegerType(), False)\n",
    "  ])  \n",
    "\n",
    "votesDf = spark.createDataFrame(itVotesRows, votesSchema)"
   ]
  },
  {
   "cell_type": "code",
   "execution_count": 29,
   "metadata": {},
   "outputs": [
    {
     "name": "stdout",
     "output_type": "stream",
     "text": [
      "+------------+--------------------+-----------+--------------------+-----+--------------------+---------+-----+----------------+-----------+----------------+----------+---+-------------------+----+------+----------+\n",
      "|commentCount|    lastActivityDate|ownerUserId|                body|score|        creationDate|viewCount|title|            tags|answerCount|acceptedAnswerId|postTypeId| id|       creationDate|  id|postId|voteTypeId|\n",
      "+------------+--------------------+-----------+--------------------+-----+--------------------+---------+-----+----------------+-----------+----------------+----------+---+-------------------+----+------+----------+\n",
      "|           1|2013-11-06 00:22:...|         18|&lt;p&gt;&quot;De...|    3|2013-11-06 00:05:...|     null| null|                |       null|            null|         2| 26|2013-11-06 00:00:00|  62|    26|         2|\n",
      "|           1|2013-11-06 00:22:...|         18|&lt;p&gt;&quot;De...|    3|2013-11-06 00:05:...|     null| null|                |       null|            null|         2| 26|2013-11-06 00:00:00|  73|    26|         2|\n",
      "|           1|2013-11-06 00:22:...|         18|&lt;p&gt;&quot;De...|    3|2013-11-06 00:05:...|     null| null|                |       null|            null|         2| 26|2013-11-09 00:00:00| 566|    26|         2|\n",
      "|           0|2013-11-07 23:59:...|         56|&lt;p&gt;I know t...|   10|2013-11-06 01:16:...|      143| null|&lt;pronouns&gt;|          2|              30|         1| 29|2013-12-20 00:00:00|3528|    29|         2|\n",
      "|           0|2013-11-07 23:59:...|         56|&lt;p&gt;I know t...|   10|2013-11-06 01:16:...|      143| null|&lt;pronouns&gt;|          2|              30|         1| 29|2014-01-05 00:00:00|3904|    29|         2|\n",
      "|           0|2013-11-07 23:59:...|         56|&lt;p&gt;I know t...|   10|2013-11-06 01:16:...|      143| null|&lt;pronouns&gt;|          2|              30|         1| 29|2013-11-06 00:00:00|  64|    29|         2|\n",
      "|           0|2013-11-07 23:59:...|         56|&lt;p&gt;I know t...|   10|2013-11-06 01:16:...|      143| null|&lt;pronouns&gt;|          2|              30|         1| 29|2013-11-06 00:00:00|  84|    29|         2|\n",
      "|           0|2013-11-07 23:59:...|         56|&lt;p&gt;I know t...|   10|2013-11-06 01:16:...|      143| null|&lt;pronouns&gt;|          2|              30|         1| 29|2013-11-06 00:00:00| 127|    29|         2|\n",
      "|           0|2013-11-07 23:59:...|         56|&lt;p&gt;I know t...|   10|2013-11-06 01:16:...|      143| null|&lt;pronouns&gt;|          2|              30|         1| 29|2013-11-06 00:00:00| 142|    29|         2|\n",
      "|           0|2013-11-07 23:59:...|         56|&lt;p&gt;I know t...|   10|2013-11-06 01:16:...|      143| null|&lt;pronouns&gt;|          2|              30|         1| 29|2013-11-06 00:00:00| 152|    29|         2|\n",
      "+------------+--------------------+-----------+--------------------+-----+--------------------+---------+-----+----------------+-----------+----------------+----------+---+-------------------+----+------+----------+\n",
      "only showing top 10 rows\n",
      "\n"
     ]
    }
   ],
   "source": [
    "# Query 1 (inner join)\n",
    "postsVotes = itPostsDFStruct.join(votesDf, itPostsDFStruct.id == votesDf.postId)\n",
    "postsVotes.show(10)"
   ]
  },
  {
   "cell_type": "code",
   "execution_count": 30,
   "metadata": {},
   "outputs": [
    {
     "name": "stdout",
     "output_type": "stream",
     "text": [
      "+------------+--------------------+-----------+--------------------+-----+--------------------+---------+-----+----------------+-----------+----------------+----------+---+-------------------+----+------+----------+\n",
      "|commentCount|    lastActivityDate|ownerUserId|                body|score|        creationDate|viewCount|title|            tags|answerCount|acceptedAnswerId|postTypeId| id|       creationDate|  id|postId|voteTypeId|\n",
      "+------------+--------------------+-----------+--------------------+-----+--------------------+---------+-----+----------------+-----------+----------------+----------+---+-------------------+----+------+----------+\n",
      "|           1|2013-11-06 00:22:...|         18|&lt;p&gt;&quot;De...|    3|2013-11-06 00:05:...|     null| null|                |       null|            null|         2| 26|2013-11-06 00:00:00|  62|    26|         2|\n",
      "|           1|2013-11-06 00:22:...|         18|&lt;p&gt;&quot;De...|    3|2013-11-06 00:05:...|     null| null|                |       null|            null|         2| 26|2013-11-06 00:00:00|  73|    26|         2|\n",
      "|           1|2013-11-06 00:22:...|         18|&lt;p&gt;&quot;De...|    3|2013-11-06 00:05:...|     null| null|                |       null|            null|         2| 26|2013-11-09 00:00:00| 566|    26|         2|\n",
      "|           0|2013-11-07 23:59:...|         56|&lt;p&gt;I know t...|   10|2013-11-06 01:16:...|      143| null|&lt;pronouns&gt;|          2|              30|         1| 29|2013-12-20 00:00:00|3528|    29|         2|\n",
      "|           0|2013-11-07 23:59:...|         56|&lt;p&gt;I know t...|   10|2013-11-06 01:16:...|      143| null|&lt;pronouns&gt;|          2|              30|         1| 29|2014-01-05 00:00:00|3904|    29|         2|\n",
      "|           0|2013-11-07 23:59:...|         56|&lt;p&gt;I know t...|   10|2013-11-06 01:16:...|      143| null|&lt;pronouns&gt;|          2|              30|         1| 29|2013-11-06 00:00:00|  64|    29|         2|\n",
      "|           0|2013-11-07 23:59:...|         56|&lt;p&gt;I know t...|   10|2013-11-06 01:16:...|      143| null|&lt;pronouns&gt;|          2|              30|         1| 29|2013-11-06 00:00:00|  84|    29|         2|\n",
      "|           0|2013-11-07 23:59:...|         56|&lt;p&gt;I know t...|   10|2013-11-06 01:16:...|      143| null|&lt;pronouns&gt;|          2|              30|         1| 29|2013-11-06 00:00:00| 127|    29|         2|\n",
      "|           0|2013-11-07 23:59:...|         56|&lt;p&gt;I know t...|   10|2013-11-06 01:16:...|      143| null|&lt;pronouns&gt;|          2|              30|         1| 29|2013-11-06 00:00:00| 142|    29|         2|\n",
      "|           0|2013-11-07 23:59:...|         56|&lt;p&gt;I know t...|   10|2013-11-06 01:16:...|      143| null|&lt;pronouns&gt;|          2|              30|         1| 29|2013-11-06 00:00:00| 152|    29|         2|\n",
      "+------------+--------------------+-----------+--------------------+-----+--------------------+---------+-----+----------------+-----------+----------------+----------+---+-------------------+----+------+----------+\n",
      "only showing top 10 rows\n",
      "\n"
     ]
    }
   ],
   "source": [
    "# Query 2 (outer join)\n",
    "postsVotesOuter = itPostsDFStruct.join(votesDf, itPostsDFStruct.id == votesDf.postId, \"outer\")\n",
    "postsVotesOuter.show(10)"
   ]
  },
  {
   "cell_type": "markdown",
   "metadata": {},
   "source": [
    "### Exercise: Perform 2 additional queries on the joint tables created before"
   ]
  },
  {
   "cell_type": "code",
   "execution_count": null,
   "metadata": {},
   "outputs": [],
   "source": [
    "# Query 1"
   ]
  },
  {
   "cell_type": "code",
   "execution_count": null,
   "metadata": {},
   "outputs": [],
   "source": [
    "# Query 2"
   ]
  },
  {
   "cell_type": "markdown",
   "metadata": {},
   "source": [
    "## The End"
   ]
  },
  {
   "cell_type": "code",
   "execution_count": 8,
   "metadata": {},
   "outputs": [],
   "source": [
    "# Remember to stop SparkContext before shutting down this notebook\n",
    "sc.stop()"
   ]
  },
  {
   "cell_type": "code",
   "execution_count": null,
   "metadata": {},
   "outputs": [],
   "source": []
  }
 ],
 "metadata": {
  "anaconda-cloud": {},
  "kernelspec": {
   "display_name": "Python 3 (ipykernel)",
   "language": "python",
   "name": "python3"
  },
  "language_info": {
   "codemirror_mode": {
    "name": "ipython",
    "version": 3
   },
   "file_extension": ".py",
   "mimetype": "text/x-python",
   "name": "python",
   "nbconvert_exporter": "python",
   "pygments_lexer": "ipython3",
   "version": "3.10.12"
  }
 },
 "nbformat": 4,
 "nbformat_minor": 4
}
