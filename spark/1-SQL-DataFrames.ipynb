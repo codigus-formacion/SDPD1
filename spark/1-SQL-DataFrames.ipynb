{
 "cells": [
  {
   "cell_type": "markdown",
   "metadata": {},
   "source": [
    "# Spark SQL and DataFrames"
   ]
  },
  {
   "cell_type": "markdown",
   "metadata": {},
   "source": [
    "## Configuring `JAVA_HOME`"
   ]
  },
  {
   "cell_type": "markdown",
   "metadata": {},
   "source": [
    "**Optional configuration (in case you need a different JVM version)**"
   ]
  },
  {
   "cell_type": "code",
   "execution_count": 1,
   "metadata": {},
   "outputs": [
    {
     "data": {
      "text/plain": [
       "'/usr/lib/jvm/java-17-openjdk-amd64/'"
      ]
     },
     "execution_count": 1,
     "metadata": {},
     "output_type": "execute_result"
    }
   ],
   "source": [
    "import os\n",
    "\n",
    "# En nuestro ordenador personal, si no esta definida la variable JAVA_HOME, deberemos indicarla\n",
    "# os.environ[\"JAVA_HOME\"] = \"/usr/lib/jvm/java-17-openjdk-amd64\"\n",
    "\n",
    "# En los laboratorios docentes, sera necesario utilizar la siguiente\n",
    "# os.environ[\"JAVA_HOME\"] = \"/usr/\"\n",
    "\n",
    "os.environ[\"JAVA_HOME\"]"
   ]
  },
  {
   "cell_type": "markdown",
   "metadata": {},
   "source": [
    "**Import libraries, check versions**"
   ]
  },
  {
   "cell_type": "code",
   "execution_count": 2,
   "metadata": {},
   "outputs": [
    {
     "name": "stdout",
     "output_type": "stream",
     "text": [
      "3.5.3\n"
     ]
    }
   ],
   "source": [
    "import pyspark\n",
    "print(pyspark.__version__)"
   ]
  },
  {
   "cell_type": "code",
   "execution_count": 3,
   "metadata": {},
   "outputs": [
    {
     "name": "stderr",
     "output_type": "stream",
     "text": [
      "openjdk version \"17.0.13\" 2024-10-15\n",
      "OpenJDK Runtime Environment (build 17.0.13+11-Ubuntu-2ubuntu122.04)\n",
      "OpenJDK 64-Bit Server VM (build 17.0.13+11-Ubuntu-2ubuntu122.04, mixed mode, sharing)\n"
     ]
    }
   ],
   "source": [
    "%%bash\n",
    "java -version"
   ]
  },
  {
   "cell_type": "markdown",
   "metadata": {},
   "source": [
    "## Opening SparkSession"
   ]
  },
  {
   "cell_type": "code",
   "execution_count": 4,
   "metadata": {},
   "outputs": [
    {
     "name": "stderr",
     "output_type": "stream",
     "text": [
      "24/11/13 18:28:01 WARN Utils: Your hostname, maes resolves to a loopback address: 127.0.1.1; using 10.0.78.133 instead (on interface wlp0s20f3)\n",
      "24/11/13 18:28:01 WARN Utils: Set SPARK_LOCAL_IP if you need to bind to another address\n",
      "Setting default log level to \"WARN\".\n",
      "To adjust logging level use sc.setLogLevel(newLevel). For SparkR, use setLogLevel(newLevel).\n",
      "24/11/13 18:28:03 WARN NativeCodeLoader: Unable to load native-hadoop library for your platform... using builtin-java classes where applicable\n"
     ]
    },
    {
     "data": {
      "text/html": [
       "\n",
       "            <div>\n",
       "                <p><b>SparkSession - in-memory</b></p>\n",
       "                \n",
       "        <div>\n",
       "            <p><b>SparkContext</b></p>\n",
       "\n",
       "            <p><a href=\"http://10.0.78.133:4040\">Spark UI</a></p>\n",
       "\n",
       "            <dl>\n",
       "              <dt>Version</dt>\n",
       "                <dd><code>v3.5.3</code></dd>\n",
       "              <dt>Master</dt>\n",
       "                <dd><code>local[*]</code></dd>\n",
       "              <dt>AppName</dt>\n",
       "                <dd><code>101 Spark DataFrames</code></dd>\n",
       "            </dl>\n",
       "        </div>\n",
       "        \n",
       "            </div>\n",
       "        "
      ],
      "text/plain": [
       "<pyspark.sql.session.SparkSession at 0x7fd464012770>"
      ]
     },
     "execution_count": 4,
     "metadata": {},
     "output_type": "execute_result"
    }
   ],
   "source": [
    "from pyspark.sql import SparkSession\n",
    "\n",
    "spark = (SparkSession\n",
    "         .builder\n",
    "         .master(\"local[*]\")\n",
    "         #.config(\"spark.driver.cores\", 1)\n",
    "         .appName(\"101 Spark DataFrames\")\n",
    "         .getOrCreate() )\n",
    "\n",
    "sc = spark.sparkContext\n",
    "spark"
   ]
  },
  {
   "cell_type": "markdown",
   "metadata": {},
   "source": [
    "# Data Frames"
   ]
  },
  {
   "cell_type": "markdown",
   "metadata": {},
   "source": [
    "## Creating DataFrames interactively"
   ]
  },
  {
   "cell_type": "code",
   "execution_count": 5,
   "metadata": {},
   "outputs": [
    {
     "name": "stderr",
     "output_type": "stream",
     "text": [
      "                                                                                "
     ]
    },
    {
     "name": "stdout",
     "output_type": "stream",
     "text": [
      "<class 'pyspark.sql.dataframe.DataFrame'>\n"
     ]
    },
    {
     "name": "stderr",
     "output_type": "stream",
     "text": [
      "                                                                                "
     ]
    },
    {
     "data": {
      "text/plain": [
       "[Row(name='Javier', age=35),\n",
       " Row(name='Susana', age=19),\n",
       " Row(name='Mateo', age=25)]"
      ]
     },
     "execution_count": 5,
     "metadata": {},
     "output_type": "execute_result"
    }
   ],
   "source": [
    "# Creating a DataFrame\n",
    "rdd = sc.parallelize([(\"Javier\", 35), (\"Susana\", 19), (\"Mateo\", 25)]) # RDD (low level)\n",
    "personas = spark.createDataFrame(rdd, [\"name\", \"age\"]) # Data Frame (Spark Structured Data, high level)\n",
    "print(type(personas))\n",
    "personas.collect()"
   ]
  },
  {
   "cell_type": "code",
   "execution_count": 6,
   "metadata": {},
   "outputs": [
    {
     "name": "stdout",
     "output_type": "stream",
     "text": [
      "+------+---+\n",
      "|  name|age|\n",
      "+------+---+\n",
      "|Javier| 35|\n",
      "|Susana| 19|\n",
      "| Mateo| 25|\n",
      "+------+---+\n",
      "\n"
     ]
    }
   ],
   "source": [
    "personas.show()"
   ]
  },
  {
   "cell_type": "code",
   "execution_count": 7,
   "metadata": {},
   "outputs": [
    {
     "data": {
      "text/plain": [
       "[('name', 'string'), ('age', 'bigint')]"
      ]
     },
     "execution_count": 7,
     "metadata": {},
     "output_type": "execute_result"
    }
   ],
   "source": [
    "personas.dtypes"
   ]
  },
  {
   "cell_type": "markdown",
   "metadata": {},
   "source": [
    "## Data Frames from CSV files"
   ]
  },
  {
   "cell_type": "code",
   "execution_count": 8,
   "metadata": {},
   "outputs": [
    {
     "name": "stdout",
     "output_type": "stream",
     "text": [
      "DEST_COUNTRY_NAME,ORIGIN_COUNTRY_NAME,count\n",
      "United States,Romania,15\n",
      "United States,Croatia,1\n",
      "United States,Ireland,344\n",
      "Egypt,United States,15\n",
      "United States,India,62\n",
      "United States,Singapore,1\n",
      "United States,Grenada,62\n",
      "Costa Rica,United States,588\n",
      "Senegal,United States,40\n"
     ]
    }
   ],
   "source": [
    "%%bash\n",
    "head -n 10 data/flight-data/2015-summary.csv"
   ]
  },
  {
   "cell_type": "code",
   "execution_count": 9,
   "metadata": {},
   "outputs": [],
   "source": [
    "flight_data_2015 = (spark\n",
    "                    .read\n",
    "                    .option(\"inferSchema\", \"true\")\n",
    "                    .option(\"header\", \"true\")\n",
    "                    .csv(\"data/flight-data/2015-summary.csv\")\n",
    "                   )"
   ]
  },
  {
   "cell_type": "code",
   "execution_count": 10,
   "metadata": {},
   "outputs": [
    {
     "data": {
      "text/plain": [
       "[Row(DEST_COUNTRY_NAME='United States', ORIGIN_COUNTRY_NAME='Romania', count=15),\n",
       " Row(DEST_COUNTRY_NAME='United States', ORIGIN_COUNTRY_NAME='Croatia', count=1),\n",
       " Row(DEST_COUNTRY_NAME='United States', ORIGIN_COUNTRY_NAME='Ireland', count=344)]"
      ]
     },
     "execution_count": 10,
     "metadata": {},
     "output_type": "execute_result"
    }
   ],
   "source": [
    "# Take any 3 elements from dataset\n",
    "flight_data_2015.take(3)"
   ]
  },
  {
   "cell_type": "code",
   "execution_count": 11,
   "metadata": {},
   "outputs": [
    {
     "name": "stdout",
     "output_type": "stream",
     "text": [
      "+-----------------+-------------------+-----+\n",
      "|DEST_COUNTRY_NAME|ORIGIN_COUNTRY_NAME|count|\n",
      "+-----------------+-------------------+-----+\n",
      "|    United States|            Romania|   15|\n",
      "|    United States|            Croatia|    1|\n",
      "|    United States|            Ireland|  344|\n",
      "|            Egypt|      United States|   15|\n",
      "|    United States|              India|   62|\n",
      "|    United States|          Singapore|    1|\n",
      "|    United States|            Grenada|   62|\n",
      "|       Costa Rica|      United States|  588|\n",
      "|          Senegal|      United States|   40|\n",
      "|          Moldova|      United States|    1|\n",
      "+-----------------+-------------------+-----+\n",
      "only showing top 10 rows\n",
      "\n"
     ]
    }
   ],
   "source": [
    "flight_data_2015.show(10)"
   ]
  },
  {
   "cell_type": "code",
   "execution_count": 12,
   "metadata": {},
   "outputs": [
    {
     "name": "stdout",
     "output_type": "stream",
     "text": [
      "+-----------------+-------------------+-----+\n",
      "|DEST_COUNTRY_NAME|ORIGIN_COUNTRY_NAME|count|\n",
      "+-----------------+-------------------+-----+\n",
      "|    United States|           Paraguay|    6|\n",
      "|         Pakistan|      United States|   12|\n",
      "|    United States|              Egypt|   12|\n",
      "|    United States|           Ethiopia|   12|\n",
      "|    United States|           Pakistan|   12|\n",
      "|    United States|     Czech Republic|   12|\n",
      "|    United States|             Angola|   13|\n",
      "|    United States|            Ukraine|   13|\n",
      "|         Ethiopia|      United States|   13|\n",
      "|   Czech Republic|      United States|   13|\n",
      "|    United States|       Cook Islands|   13|\n",
      "|    United States|            Uruguay|   13|\n",
      "|    United States|            Bolivia|   13|\n",
      "|     Cook Islands|      United States|   13|\n",
      "|    United States|         Cape Verde|   14|\n",
      "|          Ukraine|      United States|   14|\n",
      "|          Romania|      United States|   14|\n",
      "|    United States|            Romania|   15|\n",
      "|            Egypt|      United States|   15|\n",
      "|          Morocco|      United States|   15|\n",
      "+-----------------+-------------------+-----+\n",
      "only showing top 20 rows\n",
      "\n"
     ]
    }
   ],
   "source": [
    "(flight_data_2015\n",
    " .filter(\"count > 5\")\n",
    " .sort(\"count\")\n",
    " .show()\n",
    ")"
   ]
  },
  {
   "cell_type": "code",
   "execution_count": 13,
   "metadata": {},
   "outputs": [
    {
     "data": {
      "text/plain": [
       "[Row(DEST_COUNTRY_NAME='United States', ORIGIN_COUNTRY_NAME='Singapore', count=1),\n",
       " Row(DEST_COUNTRY_NAME='Moldova', ORIGIN_COUNTRY_NAME='United States', count=1)]"
      ]
     },
     "execution_count": 13,
     "metadata": {},
     "output_type": "execute_result"
    }
   ],
   "source": [
    "# Reduce the number of output partitions from default 200 to 5\n",
    "spark.conf.set(\"spark.sql.shuffle.partitions\", 5)\n",
    "flight_data_2015.sort(\"count\").take(2)"
   ]
  },
  {
   "cell_type": "markdown",
   "metadata": {},
   "source": [
    "### Get number of flights per destination"
   ]
  },
  {
   "cell_type": "code",
   "execution_count": 14,
   "metadata": {},
   "outputs": [
    {
     "name": "stdout",
     "output_type": "stream",
     "text": [
      "== Physical Plan ==\n",
      "AdaptiveSparkPlan isFinalPlan=false\n",
      "+- HashAggregate(keys=[DEST_COUNTRY_NAME#30], functions=[sum(count#32)])\n",
      "   +- Exchange hashpartitioning(DEST_COUNTRY_NAME#30, 5), ENSURE_REQUIREMENTS, [plan_id=85]\n",
      "      +- HashAggregate(keys=[DEST_COUNTRY_NAME#30], functions=[partial_sum(count#32)])\n",
      "         +- FileScan csv [DEST_COUNTRY_NAME#30,count#32] Batched: false, DataFilters: [], Format: CSV, Location: InMemoryFileIndex(1 paths)[file:/home/maes/Documents/Docencia/SDPD/Codigo/spark/data/flight-data/..., PartitionFilters: [], PushedFilters: [], ReadSchema: struct<DEST_COUNTRY_NAME:string,count:int>\n",
      "\n",
      "\n"
     ]
    }
   ],
   "source": [
    "count_per_dest = (flight_data_2015\n",
    "                  .groupBy(\"DEST_COUNTRY_NAME\")\n",
    "                  .sum()\n",
    "                 )\n",
    "count_per_dest.explain()"
   ]
  },
  {
   "cell_type": "code",
   "execution_count": 15,
   "metadata": {},
   "outputs": [
    {
     "name": "stdout",
     "output_type": "stream",
     "text": [
      "+--------------------+----------+\n",
      "|   DEST_COUNTRY_NAME|sum(count)|\n",
      "+--------------------+----------+\n",
      "|             Moldova|         1|\n",
      "|             Bolivia|        30|\n",
      "|             Algeria|         4|\n",
      "|Turks and Caicos ...|       230|\n",
      "|            Pakistan|        12|\n",
      "|    Marshall Islands|        42|\n",
      "|            Suriname|         1|\n",
      "|              Panama|       510|\n",
      "|         New Zealand|       111|\n",
      "|             Liberia|         2|\n",
      "|             Ireland|       335|\n",
      "|              Zambia|         1|\n",
      "|            Malaysia|         2|\n",
      "|               Japan|      1548|\n",
      "|    French Polynesia|        43|\n",
      "|           Singapore|         3|\n",
      "|             Denmark|       153|\n",
      "|               Spain|       420|\n",
      "|             Bermuda|       183|\n",
      "|            Kiribati|        26|\n",
      "|      Czech Republic|        13|\n",
      "|             Belgium|       259|\n",
      "|          Cape Verde|        20|\n",
      "|         Saint Lucia|       123|\n",
      "|             Tunisia|         3|\n",
      "|               Niger|         2|\n",
      "|      United Kingdom|      2025|\n",
      "|            Portugal|       127|\n",
      "|           Indonesia|         1|\n",
      "|             Austria|        62|\n",
      "|              Angola|        15|\n",
      "|              France|       935|\n",
      "|             Nigeria|        59|\n",
      "|             Uruguay|        43|\n",
      "|Bonaire, Sint Eus...|        58|\n",
      "|               Egypt|        15|\n",
      "|          Costa Rica|       588|\n",
      "|Saint Vincent and...|         1|\n",
      "|            Honduras|       362|\n",
      "|         The Bahamas|       955|\n",
      "|         El Salvador|       561|\n",
      "|           Hong Kong|       332|\n",
      "|              Mexico|      7140|\n",
      "|          Azerbaijan|        21|\n",
      "|            Barbados|       154|\n",
      "|                Fiji|        24|\n",
      "|              Canada|      8399|\n",
      "|       French Guiana|         5|\n",
      "|      Cayman Islands|       314|\n",
      "|       Cote d'Ivoire|         1|\n",
      "+--------------------+----------+\n",
      "only showing top 50 rows\n",
      "\n"
     ]
    }
   ],
   "source": [
    "count_per_dest.show(50)"
   ]
  },
  {
   "cell_type": "code",
   "execution_count": 16,
   "metadata": {},
   "outputs": [
    {
     "name": "stdout",
     "output_type": "stream",
     "text": [
      "+------------------+----------+\n",
      "| DEST_COUNTRY_NAME|dest_total|\n",
      "+------------------+----------+\n",
      "|     United States|    411352|\n",
      "|            Canada|      8399|\n",
      "|            Mexico|      7140|\n",
      "|    United Kingdom|      2025|\n",
      "|             Japan|      1548|\n",
      "|           Germany|      1468|\n",
      "|Dominican Republic|      1353|\n",
      "|       South Korea|      1048|\n",
      "|       The Bahamas|       955|\n",
      "|            France|       935|\n",
      "|          Colombia|       873|\n",
      "|            Brazil|       853|\n",
      "|       Netherlands|       776|\n",
      "|             China|       772|\n",
      "|           Jamaica|       666|\n",
      "+------------------+----------+\n",
      "\n"
     ]
    }
   ],
   "source": [
    "from pyspark.sql.functions import desc\n",
    "\n",
    "# Now sort in desc order\n",
    "(flight_data_2015\n",
    " .groupBy(\"DEST_COUNTRY_NAME\")\n",
    " .sum(\"count\")\n",
    " .withColumnRenamed(\"sum(count)\", \"dest_total\")\n",
    " .sort(desc(\"dest_total\"))\n",
    " .limit(15)\n",
    " .show()\n",
    ")"
   ]
  },
  {
   "cell_type": "markdown",
   "metadata": {},
   "source": [
    "## Data Frames from JSON files"
   ]
  },
  {
   "cell_type": "code",
   "execution_count": 17,
   "metadata": {},
   "outputs": [
    {
     "name": "stderr",
     "output_type": "stream",
     "text": [
      "                                                                                24/11/13 18:28:36 WARN SparkStringUtils: Truncated the string representation of a plan since it was too large. This behavior can be adjusted by setting 'spark.sql.debug.maxToStringFields'.\n",
      "                                                                                "
     ]
    },
    {
     "data": {
      "text/plain": [
       "[Row(\n",
       " activities=None, \n",
       " coordinates=None, \n",
       " created_at=None, \n",
       " favorited=None, \n",
       " geo=None, \n",
       " id=None, \n",
       " id_str=None, \n",
       " in_reply_to_screen_name=None, \n",
       " in_reply_to_status_id=None, \n",
       " in_reply_to_status_id_str=None, \n",
       " in_reply_to_user_id_str=None, \n",
       " place=None, \n",
       " possibly_sensitive=None, \n",
       " retweet_count=None, \n",
       " retweeted=None, \n",
       " source=None, \n",
       " truncated=None, \n",
       " user=None, activities=Row(\n",
       " favoriters=None, \n",
       " favoriters_count=None, \n",
       " repliers=None, \n",
       " repliers_count=None, \n",
       " retweeters=None, \n",
       " retweeters_count=None, favoriters=[], favoriters_\n",
       " count=None, favoriters_count='0', repliers=[], repliers_\n",
       " count=None, repliers_count='0', retweeters=[], retweeters_\n",
       " count=None, retweeters_count='0'), contributors=None, coordinates=None, created_\n",
       " at=None, created_at='Mon Oct 10 14:46:18 +0000 2011', entities=Row(hashtags=[Row(\n",
       " indices=None, indices=[64, 80], text='occupyamsterdam'), Row(\n",
       " indices=None, indices=[81, 98], text='occupywallstreet'), Row(\n",
       " indices=None, indices=[99, 109], text='99percent')], media=None, urls=[Row(display_url='bit.ly/pfyXO8', expanded_url='http://bit.ly/pfyXO8', indices=[43, 63], url='http://t.co/o2vCf6z4')], user_mentions=[]), favorited=False, geo=None, id=123409021318336512, id_\n",
       " str=None, id_str='123409021318336512', in_\n",
       " reply_to_screen_name=None, in_\n",
       " reply_to_status_id=None, in_\n",
       " reply_to_status_id_str=None, in_\n",
       " reply_to_user_id_str=None, in_reply_\n",
       " to_screen_name=None, in_reply_\n",
       " to_status_id=None, in_reply_\n",
       " to_status_id_str=None, in_reply_\n",
       " to_user_id=None, in_reply_\n",
       " to_user_id_str=None, in_reply_to_\n",
       " screen_name=None, in_reply_to_\n",
       " status_id=None, in_reply_to_\n",
       " status_id_str=None, in_reply_to_\n",
       " user_id_str=None, in_reply_to_screen_\n",
       " name=None, in_reply_to_screen_name=None, in_reply_to_status_\n",
       " id=None, in_reply_to_status_\n",
       " id_str=None, in_reply_to_status_id=None, in_reply_to_status_id_\n",
       " str=None, in_reply_to_status_id_str=None, in_reply_to_user_\n",
       " id_str=None, in_reply_to_user_id=None, in_reply_to_user_id_\n",
       " str=None, in_reply_to_user_id_str=None, place=None, possibly_\n",
       " sensitive=None, possibly_sensitive=False, retweet_\n",
       " count=None, retweet_count='0', retweeted=False, retweeted_status=None, source='<a href=\"http://twitter.com/tweetbutton\" rel=\"nofollow\">Tweet Button</a>', text='Occupy wall Street is nu Occupy Amsterdam  http://t.co/o2vCf6z4 #occupyamsterdam #occupywallstreet #99percent', truncated=False, user=Row(\n",
       " contributors_enabled=None, \n",
       " created_at=None, \n",
       " default_profile=None, \n",
       " default_profile_image=None, \n",
       " description=None, \n",
       " favourites_count=None, \n",
       " follow_request_sent=None, \n",
       " followers_count=None, \n",
       " following=None, \n",
       " friends_count=None, \n",
       " geo_enabled=None, \n",
       " id=None, \n",
       " id_str=None, \n",
       " is_translator=None, \n",
       " lang=None, \n",
       " listed_count=None, \n",
       " location=None, \n",
       " name=None, \n",
       " notifications=None, \n",
       " profile_background_color=None, \n",
       " profile_background_image_url=None, \n",
       " profile_background_image_url_https=None, \n",
       " profile_background_tile=None, \n",
       " profile_image_url=None, \n",
       " profile_image_url_https=None, \n",
       " profile_link_color=None, \n",
       " profile_sidebar_border_color=None, \n",
       " profile_sidebar_fill_color=None, \n",
       " profile_text_color=None, \n",
       " profile_use_background_image=None, \n",
       " protected=None, \n",
       " screen_name=None, \n",
       " show_all_inline_media=None, \n",
       " statuses_count=None, \n",
       " time_zone=None, \n",
       " url=None, \n",
       " utc_offset=None, \n",
       " verified=None, contributors_\n",
       " enabled=None, contributors_enabled=False, created_\n",
       " at=None, created_at='Wed Jun 09 12:24:47 +0000 2010', default_\n",
       " profile=None, default_\n",
       " profile_image=None, default_profile=False, default_profile_\n",
       " image=None, default_profile_image=False, description='Amsterdam http://www.facebook.com/zangeres.Jacqueline http://my.opera.com/JacquelineXXX blogger \\r\\n', favourites_\n",
       " count=None, favourites_count=5, follow_\n",
       " request_sent=None, follow_request_\n",
       " sent=None, follow_request_sent=None, followers_\n",
       " count=None, followers_count=2669, following=None, friends_\n",
       " count=None, friends_count=2926, geo_\n",
       " enabled=None, geo_enabled=True, id=153776534, id_\n",
       " str=None, id_str='153776534', is_\n",
       " translator=None, is_translator=False, lang='en', listed_\n",
       " count=None, listed_count=57, location='Netherlands', name='Jacqueline Wouters', notifications=None, profile_\n",
       " background_color=None, profile_\n",
       " background_image_url=None, profile_\n",
       " background_image_url_https=None, profile_\n",
       " background_tile=None, profile_\n",
       " image_url=None, profile_\n",
       " image_url_https=None, profile_\n",
       " link_color=None, profile_\n",
       " sidebar_border_color=None, profile_\n",
       " sidebar_fill_color=None, profile_\n",
       " text_color=None, profile_\n",
       " use_background_image=None, profile_background_\n",
       " color=None, profile_background_\n",
       " image_url=None, profile_background_\n",
       " image_url_https=None, profile_background_\n",
       " tile=None, profile_background_color='C0DEED', profile_background_image_\n",
       " url=None, profile_background_image_\n",
       " url_https=None, profile_background_image_url='http://a3.twimg.com/profile_background_images/202514290/valentine_hugs.jpg', profile_background_image_url_\n",
       " https=None, profile_background_image_url_https='https://si0.twimg.com/profile_background_images/202514290/valentine_hugs.jpg', profile_background_tile=True, profile_image_\n",
       " url=None, profile_image_\n",
       " url_https=None, profile_image_url='http://a2.twimg.com/profile_images/1567843366/5a19edb4-1204-497a-938d-312e7ae5aca6_normal.png', profile_image_url_\n",
       " https=None, profile_image_url_https='https://si0.twimg.com/profile_images/1567843366/5a19edb4-1204-497a-938d-312e7ae5aca6_normal.png', profile_link_\n",
       " color=None, profile_link_color='0084B4', profile_sidebar_\n",
       " border_color=None, profile_sidebar_\n",
       " fill_color=None, profile_sidebar_border_\n",
       " color=None, profile_sidebar_border_color='C0DEED', profile_sidebar_fill_\n",
       " color=None, profile_sidebar_fill_color='DDEEF6', profile_text_\n",
       " color=None, profile_text_color='333333', profile_use_\n",
       " background_image=None, profile_use_background_\n",
       " image=None, profile_use_background_image=True, protected=False, screen_\n",
       " name=None, screen_name='jajwouters', show_\n",
       " all_inline_media=None, show_all_\n",
       " inline_media=None, show_all_inline_\n",
       " media=None, show_all_inline_media=True, statuses_\n",
       " count=None, statuses_count=34440, time_\n",
       " zone=None, time_zone='Amsterdam', url='http://batgirl-forever.hyves.nl/', utc_\n",
       " offset=None, utc_offset=3600, verified=False))]"
      ]
     },
     "execution_count": 17,
     "metadata": {},
     "output_type": "execute_result"
    }
   ],
   "source": [
    "# Creation \n",
    "tweets = spark.read.json(\"data/15m-sample.json\")\n",
    "tweets.take(1)"
   ]
  },
  {
   "cell_type": "code",
   "execution_count": 18,
   "metadata": {},
   "outputs": [
    {
     "name": "stderr",
     "output_type": "stream",
     "text": [
      "                                                                                "
     ]
    },
    {
     "data": {
      "text/plain": [
       "8028"
      ]
     },
     "execution_count": 18,
     "metadata": {},
     "output_type": "execute_result"
    }
   ],
   "source": [
    "tweets.count()"
   ]
  },
  {
   "cell_type": "markdown",
   "metadata": {},
   "source": [
    "## Analyze data with Spark SQL API"
   ]
  },
  {
   "cell_type": "code",
   "execution_count": 19,
   "metadata": {},
   "outputs": [
    {
     "data": {
      "text/plain": [
       "pyspark.sql.dataframe.DataFrame"
      ]
     },
     "execution_count": 19,
     "metadata": {},
     "output_type": "execute_result"
    }
   ],
   "source": [
    "from pyspark.sql.types import *\n",
    "from pyspark.sql import functions\n",
    "\n",
    "students = spark.read.json(\"data/estudiantes.json\",\n",
    "                                   StructType([StructField(\"_id\",StringType(),False),\n",
    "                                               StructField(\"name\",StringType(),False),\n",
    "                                               StructField(\"surname\",StringType(),False),\n",
    "                                               StructField(\"age\",ByteType(),False),\n",
    "                                               StructField(\"email\",StringType(),False),\n",
    "                                               StructField(\"grade\",FloatType(),False)])\n",
    "                          )\n",
    "type(students)\n"
   ]
  },
  {
   "cell_type": "code",
   "execution_count": 20,
   "metadata": {},
   "outputs": [
    {
     "data": {
      "text/plain": [
       "10000"
      ]
     },
     "execution_count": 20,
     "metadata": {},
     "output_type": "execute_result"
    }
   ],
   "source": [
    "students.count()"
   ]
  },
  {
   "cell_type": "code",
   "execution_count": 21,
   "metadata": {},
   "outputs": [
    {
     "name": "stderr",
     "output_type": "stream",
     "text": [
      "[Stage 26:>                                                         (0 + 1) / 1]"
     ]
    },
    {
     "name": "stdout",
     "output_type": "stream",
     "text": [
      "+----------+----------+------------+---------+\n",
      "|min(grade)|max(grade)|min(surname)|min(name)|\n",
      "+----------+----------+------------+---------+\n",
      "|      5.03|      10.0|   Abad Abad|  Agustin|\n",
      "+----------+----------+------------+---------+\n",
      "\n"
     ]
    },
    {
     "name": "stderr",
     "output_type": "stream",
     "text": [
      "                                                                                "
     ]
    }
   ],
   "source": [
    "summary = students.agg(\n",
    "    functions.min(students.grade),\n",
    "    functions.max(students.grade),\n",
    "    functions.min(students.surname),\n",
    "    functions.min(students.name))\n",
    "#summary.collect()\n",
    "summary.show()"
   ]
  },
  {
   "cell_type": "code",
   "execution_count": 22,
   "metadata": {},
   "outputs": [
    {
     "name": "stderr",
     "output_type": "stream",
     "text": [
      "[Stage 29:>                                                         (0 + 1) / 1]"
     ]
    },
    {
     "name": "stdout",
     "output_type": "stream",
     "text": [
      "Correlation between 'age' and 'grade':  0.005887\n"
     ]
    },
    {
     "name": "stderr",
     "output_type": "stream",
     "text": [
      "                                                                                "
     ]
    }
   ],
   "source": [
    "# Correlations)\n",
    "print(\"Correlation between 'age' and 'grade': \", round(students.corr(\"age\", \"grade\"),6))"
   ]
  },
  {
   "cell_type": "code",
   "execution_count": 23,
   "metadata": {},
   "outputs": [
    {
     "name": "stderr",
     "output_type": "stream",
     "text": [
      "                                                                                "
     ]
    },
    {
     "data": {
      "text/plain": [
       "[Row(age_grade='19', 10.0=0, 5.03=0, 5.04=0, 5.05=0, 5.08=0, 5.09=0, 5.13=0, 5.16=0, 5.17=1, 5.18=0, 5.2=0, 5.24=0, 5.25=0, 5.29=1, 5.3=0, 5.31=0, 5.32=0, 5.35=0, 5.36=0, 5.37=0, 5.38=0, 5.4=0, 5.45=0, 5.46=2, 5.47=1, 5.48=0, 5.49=1, 5.5=1, 5.51=1, 5.53=0, 5.54=0, 5.55=0, 5.56=0, 5.57=0, 5.58=0, 5.59=0, 5.6=0, 5.62=0, 5.64=0, 5.65=0, 5.66=0, 5.67=0, 5.68=0, 5.69=1, 5.7=0, 5.71=1, 5.72=1, 5.73=1, 5.74=0, 5.75=1, 5.76=0, 5.77=0, 5.78=0, 5.79=0, 5.8=0, 5.81=1, 5.82=1, 5.83=0, 5.84=0, 5.85=1, 5.86=1, 5.87=1, 5.88=3, 5.89=1, 5.9=1, 5.91=0, 5.92=0, 5.93=0, 5.94=1, 5.95=2, 5.96=0, 5.97=1, 5.98=0, 5.99=3, 6.0=1, 6.01=0, 6.02=1, 6.03=1, 6.04=0, 6.05=0, 6.06=0, 6.07=1, 6.08=0, 6.09=1, 6.1=0, 6.11=1, 6.12=2, 6.13=1, 6.14=1, 6.15=3, 6.16=1, 6.17=1, 6.18=1, 6.19=0, 6.2=2, 6.21=1, 6.22=4, 6.23=1, 6.24=0, 6.25=0, 6.26=0, 6.27=3, 6.28=0, 6.29=0, 6.3=1, 6.31=1, 6.32=2, 6.33=1, 6.34=1, 6.35=1, 6.36=0, 6.37=1, 6.38=4, 6.39=0, 6.4=1, 6.41=3, 6.42=3, 6.43=0, 6.44=4, 6.45=1, 6.46=1, 6.47=3, 6.48=1, 6.49=0, 6.5=1, 6.51=2, 6.52=1, 6.53=1, 6.54=4, 6.55=0, 6.56=3, 6.57=2, 6.58=6, 6.59=0, 6.6=0, 6.61=0, 6.62=2, 6.63=0, 6.64=1, 6.65=4, 6.66=1, 6.67=2, 6.68=0, 6.69=1, 6.7=0, 6.71=2, 6.72=2, 6.73=4, 6.74=1, 6.75=2, 6.76=2, 6.77=2, 6.78=6, 6.79=1, 6.8=2, 6.81=1, 6.82=2, 6.83=2, 6.84=1, 6.85=0, 6.86=2, 6.87=2, 6.88=6, 6.89=0, 6.9=3, 6.91=1, 6.92=3, 6.93=1, 6.94=2, 6.95=1, 6.96=1, 6.97=3, 6.98=5, 6.99=5, 7.0=0, 7.01=2, 7.02=3, 7.03=2, 7.04=2, 7.05=4, 7.06=4, 7.07=3, 7.08=5, 7.09=3, 7.1=1, 7.11=5, 7.12=0, 7.13=6, 7.14=2, 7.15=1, 7.16=6, 7.17=1, 7.18=4, 7.19=3, 7.2=3, 7.21=4, 7.22=3, 7.23=3, 7.24=3, 7.25=4, 7.26=1, 7.27=3, 7.28=2, 7.29=2, 7.3=4, 7.31=3, 7.32=3, 7.33=8, 7.34=6, 7.35=5, 7.36=1, 7.37=2, 7.38=3, 7.39=7, 7.4=5, 7.41=3, 7.42=3, 7.43=8, 7.44=2, 7.45=4, 7.46=4, 7.47=1, 7.48=7, 7.49=3, 7.5=3, 7.51=4, 7.52=4, 7.53=2, 7.54=6, 7.55=4, 7.56=5, 7.57=4, 7.58=3, 7.59=5, 7.6=1, 7.61=2, 7.62=6, 7.63=4, 7.64=6, 7.65=5, 7.66=6, 7.67=2, 7.68=2, 7.69=5, 7.7=5, 7.71=4, 7.72=2, 7.73=3, 7.74=6, 7.75=7, 7.76=2, 7.77=9, 7.78=4, 7.79=2, 7.8=7, 7.81=2, 7.82=1, 7.83=6, 7.84=8, 7.85=0, 7.86=6, 7.87=1, 7.88=2, 7.89=3, 7.9=7, 7.91=10, 7.92=8, 7.93=3, 7.94=4, 7.95=4, 7.96=2, 7.97=3, 7.98=7, 7.99=10, 8.0=11, 8.01=9, 8.02=4, 8.03=2, 8.04=6, 8.05=2, 8.06=6, 8.07=4, 8.08=7, 8.09=3, 8.1=2, 8.11=9, 8.12=2, 8.13=4, 8.14=4, 8.15=4, 8.16=4, 8.17=5, 8.18=3, 8.19=6, 8.2=6, 8.21=7, 8.22=2, 8.23=6, 8.24=7, 8.25=3, 8.26=3, 8.27=3, 8.28=3, 8.29=3, 8.3=2, 8.31=4, 8.32=5, 8.33=5, 8.34=4, 8.35=3, 8.36=9, 8.37=5, 8.38=2, 8.39=4, 8.4=5, 8.41=8, 8.42=4, 8.43=8, 8.44=1, 8.45=6, 8.46=5, 8.47=9, 8.48=5, 8.49=5, 8.5=4, 8.51=5, 8.52=7, 8.53=4, 8.54=3, 8.55=7, 8.56=1, 8.57=4, 8.58=5, 8.59=4, 8.6=8, 8.61=5, 8.62=1, 8.63=3, 8.64=4, 8.65=4, 8.66=4, 8.67=4, 8.68=5, 8.69=4, 8.7=5, 8.71=4, 8.72=4, 8.73=4, 8.74=2, 8.75=3, 8.76=1, 8.77=5, 8.78=4, 8.79=7, 8.8=7, 8.81=2, 8.82=3, 8.83=8, 8.84=3, 8.85=2, 8.86=4, 8.87=4, 8.88=1, 8.89=5, 8.9=0, 8.91=3, 8.92=1, 8.93=1, 8.94=4, 8.95=0, 8.96=2, 8.97=2, 8.98=4, 8.99=2, 9.0=4, 9.01=3, 9.02=3, 9.03=2, 9.04=2, 9.05=5, 9.06=4, 9.07=3, 9.08=2, 9.09=3, 9.1=6, 9.11=0, 9.12=0, 9.13=2, 9.14=0, 9.15=2, 9.16=5, 9.17=1, 9.18=4, 9.19=2, 9.2=1, 9.21=2, 9.22=3, 9.23=5, 9.24=1, 9.25=0, 9.26=2, 9.27=3, 9.28=2, 9.29=3, 9.3=1, 9.31=4, 9.32=4, 9.33=1, 9.34=3, 9.35=0, 9.36=2, 9.37=0, 9.38=4, 9.39=2, 9.4=4, 9.41=1, 9.42=2, 9.43=3, 9.44=3, 9.45=2, 9.46=2, 9.47=1, 9.48=1, 9.49=2, 9.5=2, 9.51=3, 9.52=6, 9.53=1, 9.54=1, 9.55=3, 9.56=2, 9.57=2, 9.58=3, 9.59=3, 9.6=3, 9.61=2, 9.62=2, 9.63=0, 9.64=0, 9.65=1, 9.66=1, 9.67=2, 9.68=1, 9.69=2, 9.7=0, 9.71=2, 9.72=1, 9.73=0, 9.74=2, 9.75=0, 9.76=1, 9.77=1, 9.78=1, 9.79=3, 9.8=2, 9.81=0, 9.82=1, 9.83=0, 9.84=1, 9.85=1, 9.86=0, 9.87=1, 9.88=0, 9.89=1, 9.9=1, 9.91=3, 9.92=0, 9.93=1, 9.94=1, 9.95=0, 9.96=0, 9.97=0, 9.98=1, 9.99=0),\n",
       " Row(age_grade='31', 10.0=0, 5.03=0, 5.04=0, 5.05=0, 5.08=0, 5.09=0, 5.13=0, 5.16=0, 5.17=0, 5.18=0, 5.2=0, 5.24=0, 5.25=0, 5.29=0, 5.3=0, 5.31=0, 5.32=0, 5.35=0, 5.36=0, 5.37=0, 5.38=1, 5.4=0, 5.45=0, 5.46=0, 5.47=0, 5.48=0, 5.49=0, 5.5=0, 5.51=0, 5.53=0, 5.54=0, 5.55=0, 5.56=0, 5.57=0, 5.58=0, 5.59=0, 5.6=1, 5.62=0, 5.64=0, 5.65=0, 5.66=0, 5.67=0, 5.68=0, 5.69=0, 5.7=0, 5.71=0, 5.72=0, 5.73=0, 5.74=0, 5.75=0, 5.76=0, 5.77=0, 5.78=0, 5.79=0, 5.8=0, 5.81=0, 5.82=0, 5.83=0, 5.84=0, 5.85=0, 5.86=0, 5.87=0, 5.88=1, 5.89=0, 5.9=0, 5.91=0, 5.92=0, 5.93=0, 5.94=0, 5.95=0, 5.96=0, 5.97=0, 5.98=0, 5.99=0, 6.0=0, 6.01=2, 6.02=0, 6.03=0, 6.04=0, 6.05=0, 6.06=0, 6.07=0, 6.08=0, 6.09=0, 6.1=0, 6.11=0, 6.12=0, 6.13=0, 6.14=0, 6.15=0, 6.16=1, 6.17=0, 6.18=0, 6.19=0, 6.2=0, 6.21=0, 6.22=0, 6.23=0, 6.24=0, 6.25=0, 6.26=0, 6.27=0, 6.28=0, 6.29=0, 6.3=0, 6.31=0, 6.32=0, 6.33=0, 6.34=0, 6.35=0, 6.36=0, 6.37=1, 6.38=0, 6.39=0, 6.4=0, 6.41=0, 6.42=0, 6.43=0, 6.44=0, 6.45=0, 6.46=0, 6.47=0, 6.48=0, 6.49=0, 6.5=0, 6.51=0, 6.52=0, 6.53=0, 6.54=0, 6.55=0, 6.56=0, 6.57=0, 6.58=0, 6.59=0, 6.6=0, 6.61=0, 6.62=0, 6.63=0, 6.64=0, 6.65=0, 6.66=0, 6.67=0, 6.68=0, 6.69=0, 6.7=0, 6.71=0, 6.72=0, 6.73=1, 6.74=0, 6.75=0, 6.76=0, 6.77=0, 6.78=0, 6.79=0, 6.8=0, 6.81=0, 6.82=0, 6.83=0, 6.84=0, 6.85=0, 6.86=0, 6.87=0, 6.88=0, 6.89=0, 6.9=0, 6.91=0, 6.92=0, 6.93=0, 6.94=0, 6.95=0, 6.96=0, 6.97=0, 6.98=0, 6.99=0, 7.0=0, 7.01=0, 7.02=0, 7.03=0, 7.04=0, 7.05=0, 7.06=0, 7.07=0, 7.08=0, 7.09=0, 7.1=1, 7.11=0, 7.12=0, 7.13=0, 7.14=0, 7.15=0, 7.16=0, 7.17=0, 7.18=0, 7.19=0, 7.2=0, 7.21=1, 7.22=0, 7.23=0, 7.24=0, 7.25=0, 7.26=0, 7.27=0, 7.28=0, 7.29=0, 7.3=0, 7.31=0, 7.32=0, 7.33=1, 7.34=0, 7.35=0, 7.36=0, 7.37=0, 7.38=0, 7.39=0, 7.4=0, 7.41=0, 7.42=0, 7.43=0, 7.44=1, 7.45=0, 7.46=0, 7.47=0, 7.48=1, 7.49=0, 7.5=1, 7.51=3, 7.52=0, 7.53=0, 7.54=1, 7.55=0, 7.56=0, 7.57=1, 7.58=0, 7.59=1, 7.6=0, 7.61=0, 7.62=0, 7.63=0, 7.64=1, 7.65=0, 7.66=1, 7.67=0, 7.68=0, 7.69=2, 7.7=0, 7.71=1, 7.72=1, 7.73=0, 7.74=0, 7.75=0, 7.76=0, 7.77=0, 7.78=1, 7.79=0, 7.8=0, 7.81=0, 7.82=0, 7.83=0, 7.84=0, 7.85=0, 7.86=0, 7.87=0, 7.88=0, 7.89=0, 7.9=0, 7.91=0, 7.92=0, 7.93=0, 7.94=1, 7.95=1, 7.96=0, 7.97=0, 7.98=0, 7.99=0, 8.0=0, 8.01=0, 8.02=0, 8.03=0, 8.04=1, 8.05=0, 8.06=0, 8.07=1, 8.08=0, 8.09=0, 8.1=3, 8.11=0, 8.12=0, 8.13=0, 8.14=0, 8.15=0, 8.16=2, 8.17=0, 8.18=0, 8.19=1, 8.2=0, 8.21=0, 8.22=0, 8.23=1, 8.24=1, 8.25=0, 8.26=0, 8.27=0, 8.28=0, 8.29=1, 8.3=0, 8.31=0, 8.32=0, 8.33=0, 8.34=0, 8.35=0, 8.36=0, 8.37=0, 8.38=1, 8.39=0, 8.4=2, 8.41=0, 8.42=0, 8.43=0, 8.44=0, 8.45=0, 8.46=0, 8.47=0, 8.48=0, 8.49=0, 8.5=1, 8.51=1, 8.52=1, 8.53=0, 8.54=0, 8.55=2, 8.56=0, 8.57=0, 8.58=0, 8.59=0, 8.6=0, 8.61=0, 8.62=0, 8.63=1, 8.64=0, 8.65=0, 8.66=0, 8.67=1, 8.68=0, 8.69=0, 8.7=0, 8.71=0, 8.72=0, 8.73=0, 8.74=0, 8.75=0, 8.76=0, 8.77=1, 8.78=0, 8.79=0, 8.8=0, 8.81=0, 8.82=0, 8.83=0, 8.84=1, 8.85=0, 8.86=0, 8.87=0, 8.88=0, 8.89=0, 8.9=0, 8.91=2, 8.92=0, 8.93=1, 8.94=0, 8.95=0, 8.96=0, 8.97=0, 8.98=0, 8.99=1, 9.0=0, 9.01=0, 9.02=0, 9.03=0, 9.04=1, 9.05=1, 9.06=0, 9.07=0, 9.08=1, 9.09=0, 9.1=0, 9.11=0, 9.12=0, 9.13=0, 9.14=0, 9.15=0, 9.16=0, 9.17=0, 9.18=0, 9.19=0, 9.2=0, 9.21=0, 9.22=0, 9.23=0, 9.24=0, 9.25=0, 9.26=0, 9.27=0, 9.28=0, 9.29=0, 9.3=0, 9.31=1, 9.32=0, 9.33=0, 9.34=0, 9.35=0, 9.36=2, 9.37=0, 9.38=0, 9.39=0, 9.4=0, 9.41=0, 9.42=0, 9.43=0, 9.44=0, 9.45=1, 9.46=0, 9.47=0, 9.48=0, 9.49=0, 9.5=0, 9.51=0, 9.52=0, 9.53=0, 9.54=0, 9.55=1, 9.56=0, 9.57=0, 9.58=0, 9.59=0, 9.6=0, 9.61=0, 9.62=0, 9.63=0, 9.64=0, 9.65=0, 9.66=1, 9.67=0, 9.68=0, 9.69=0, 9.7=0, 9.71=0, 9.72=0, 9.73=1, 9.74=0, 9.75=0, 9.76=0, 9.77=0, 9.78=0, 9.79=0, 9.8=0, 9.81=0, 9.82=0, 9.83=0, 9.84=0, 9.85=0, 9.86=0, 9.87=0, 9.88=0, 9.89=0, 9.9=0, 9.91=0, 9.92=0, 9.93=0, 9.94=0, 9.95=0, 9.96=0, 9.97=0, 9.98=0, 9.99=0),\n",
       " Row(age_grade='34', 10.0=0, 5.03=0, 5.04=0, 5.05=0, 5.08=0, 5.09=0, 5.13=0, 5.16=0, 5.17=0, 5.18=0, 5.2=0, 5.24=0, 5.25=0, 5.29=0, 5.3=0, 5.31=0, 5.32=0, 5.35=0, 5.36=0, 5.37=0, 5.38=0, 5.4=0, 5.45=0, 5.46=0, 5.47=0, 5.48=0, 5.49=0, 5.5=0, 5.51=0, 5.53=0, 5.54=0, 5.55=0, 5.56=0, 5.57=0, 5.58=0, 5.59=0, 5.6=0, 5.62=0, 5.64=0, 5.65=0, 5.66=0, 5.67=0, 5.68=0, 5.69=0, 5.7=0, 5.71=0, 5.72=0, 5.73=0, 5.74=0, 5.75=0, 5.76=0, 5.77=0, 5.78=0, 5.79=0, 5.8=0, 5.81=0, 5.82=0, 5.83=1, 5.84=0, 5.85=0, 5.86=0, 5.87=0, 5.88=0, 5.89=0, 5.9=0, 5.91=0, 5.92=0, 5.93=0, 5.94=0, 5.95=0, 5.96=0, 5.97=0, 5.98=0, 5.99=0, 6.0=0, 6.01=0, 6.02=0, 6.03=0, 6.04=0, 6.05=0, 6.06=0, 6.07=0, 6.08=0, 6.09=0, 6.1=0, 6.11=0, 6.12=0, 6.13=0, 6.14=0, 6.15=0, 6.16=0, 6.17=0, 6.18=0, 6.19=0, 6.2=0, 6.21=0, 6.22=0, 6.23=0, 6.24=0, 6.25=0, 6.26=0, 6.27=0, 6.28=0, 6.29=0, 6.3=0, 6.31=0, 6.32=0, 6.33=0, 6.34=0, 6.35=0, 6.36=0, 6.37=0, 6.38=0, 6.39=0, 6.4=0, 6.41=0, 6.42=0, 6.43=0, 6.44=0, 6.45=0, 6.46=0, 6.47=0, 6.48=0, 6.49=0, 6.5=0, 6.51=0, 6.52=0, 6.53=0, 6.54=0, 6.55=0, 6.56=0, 6.57=0, 6.58=0, 6.59=0, 6.6=0, 6.61=0, 6.62=0, 6.63=0, 6.64=0, 6.65=0, 6.66=0, 6.67=0, 6.68=0, 6.69=0, 6.7=0, 6.71=0, 6.72=0, 6.73=0, 6.74=0, 6.75=0, 6.76=0, 6.77=0, 6.78=0, 6.79=0, 6.8=0, 6.81=0, 6.82=0, 6.83=0, 6.84=0, 6.85=0, 6.86=0, 6.87=0, 6.88=0, 6.89=0, 6.9=0, 6.91=0, 6.92=0, 6.93=0, 6.94=0, 6.95=0, 6.96=0, 6.97=0, 6.98=0, 6.99=0, 7.0=0, 7.01=0, 7.02=0, 7.03=0, 7.04=0, 7.05=0, 7.06=0, 7.07=0, 7.08=0, 7.09=0, 7.1=0, 7.11=0, 7.12=0, 7.13=0, 7.14=0, 7.15=0, 7.16=0, 7.17=0, 7.18=0, 7.19=0, 7.2=0, 7.21=0, 7.22=0, 7.23=0, 7.24=0, 7.25=0, 7.26=0, 7.27=0, 7.28=0, 7.29=0, 7.3=0, 7.31=0, 7.32=0, 7.33=0, 7.34=1, 7.35=0, 7.36=0, 7.37=0, 7.38=0, 7.39=0, 7.4=0, 7.41=0, 7.42=0, 7.43=1, 7.44=0, 7.45=0, 7.46=0, 7.47=0, 7.48=0, 7.49=0, 7.5=0, 7.51=0, 7.52=0, 7.53=0, 7.54=0, 7.55=0, 7.56=0, 7.57=0, 7.58=0, 7.59=0, 7.6=0, 7.61=0, 7.62=0, 7.63=0, 7.64=0, 7.65=0, 7.66=0, 7.67=0, 7.68=0, 7.69=0, 7.7=0, 7.71=0, 7.72=0, 7.73=0, 7.74=0, 7.75=0, 7.76=0, 7.77=0, 7.78=0, 7.79=0, 7.8=0, 7.81=0, 7.82=0, 7.83=0, 7.84=0, 7.85=0, 7.86=0, 7.87=0, 7.88=0, 7.89=0, 7.9=0, 7.91=0, 7.92=0, 7.93=0, 7.94=0, 7.95=0, 7.96=1, 7.97=0, 7.98=0, 7.99=0, 8.0=0, 8.01=0, 8.02=0, 8.03=0, 8.04=0, 8.05=0, 8.06=0, 8.07=0, 8.08=0, 8.09=0, 8.1=0, 8.11=0, 8.12=0, 8.13=0, 8.14=0, 8.15=0, 8.16=1, 8.17=0, 8.18=0, 8.19=0, 8.2=0, 8.21=1, 8.22=0, 8.23=0, 8.24=0, 8.25=0, 8.26=0, 8.27=0, 8.28=0, 8.29=0, 8.3=0, 8.31=0, 8.32=0, 8.33=0, 8.34=0, 8.35=0, 8.36=0, 8.37=0, 8.38=0, 8.39=0, 8.4=0, 8.41=0, 8.42=0, 8.43=0, 8.44=0, 8.45=0, 8.46=0, 8.47=0, 8.48=0, 8.49=0, 8.5=0, 8.51=0, 8.52=0, 8.53=0, 8.54=0, 8.55=0, 8.56=0, 8.57=0, 8.58=0, 8.59=0, 8.6=0, 8.61=0, 8.62=0, 8.63=0, 8.64=0, 8.65=0, 8.66=0, 8.67=0, 8.68=0, 8.69=0, 8.7=0, 8.71=0, 8.72=0, 8.73=0, 8.74=0, 8.75=0, 8.76=0, 8.77=0, 8.78=0, 8.79=0, 8.8=0, 8.81=0, 8.82=0, 8.83=0, 8.84=1, 8.85=0, 8.86=0, 8.87=0, 8.88=0, 8.89=0, 8.9=0, 8.91=0, 8.92=0, 8.93=0, 8.94=0, 8.95=0, 8.96=0, 8.97=0, 8.98=0, 8.99=0, 9.0=0, 9.01=0, 9.02=0, 9.03=0, 9.04=0, 9.05=0, 9.06=0, 9.07=0, 9.08=0, 9.09=0, 9.1=0, 9.11=0, 9.12=0, 9.13=0, 9.14=0, 9.15=0, 9.16=0, 9.17=0, 9.18=0, 9.19=0, 9.2=0, 9.21=0, 9.22=0, 9.23=0, 9.24=0, 9.25=0, 9.26=0, 9.27=0, 9.28=0, 9.29=0, 9.3=0, 9.31=0, 9.32=0, 9.33=0, 9.34=0, 9.35=0, 9.36=0, 9.37=0, 9.38=0, 9.39=0, 9.4=0, 9.41=0, 9.42=0, 9.43=0, 9.44=0, 9.45=0, 9.46=0, 9.47=0, 9.48=0, 9.49=0, 9.5=0, 9.51=0, 9.52=0, 9.53=0, 9.54=0, 9.55=0, 9.56=0, 9.57=0, 9.58=0, 9.59=0, 9.6=0, 9.61=0, 9.62=0, 9.63=0, 9.64=0, 9.65=0, 9.66=0, 9.67=0, 9.68=0, 9.69=0, 9.7=0, 9.71=0, 9.72=0, 9.73=0, 9.74=0, 9.75=1, 9.76=0, 9.77=0, 9.78=0, 9.79=0, 9.8=0, 9.81=0, 9.82=0, 9.83=0, 9.84=0, 9.85=0, 9.86=0, 9.87=0, 9.88=0, 9.89=0, 9.9=0, 9.91=0, 9.92=0, 9.93=0, 9.94=0, 9.95=0, 9.96=0, 9.97=0, 9.98=0, 9.99=0),\n",
       " Row(age_grade='25', 10.0=0, 5.03=0, 5.04=0, 5.05=0, 5.08=0, 5.09=0, 5.13=0, 5.16=0, 5.17=0, 5.18=0, 5.2=0, 5.24=0, 5.25=0, 5.29=0, 5.3=0, 5.31=0, 5.32=1, 5.35=0, 5.36=0, 5.37=0, 5.38=0, 5.4=0, 5.45=0, 5.46=0, 5.47=0, 5.48=0, 5.49=0, 5.5=0, 5.51=0, 5.53=0, 5.54=1, 5.55=0, 5.56=0, 5.57=1, 5.58=0, 5.59=0, 5.6=0, 5.62=0, 5.64=0, 5.65=0, 5.66=0, 5.67=0, 5.68=0, 5.69=0, 5.7=0, 5.71=0, 5.72=0, 5.73=0, 5.74=0, 5.75=0, 5.76=0, 5.77=1, 5.78=1, 5.79=0, 5.8=1, 5.81=0, 5.82=0, 5.83=0, 5.84=0, 5.85=0, 5.86=0, 5.87=0, 5.88=0, 5.89=0, 5.9=0, 5.91=0, 5.92=0, 5.93=0, 5.94=0, 5.95=0, 5.96=0, 5.97=0, 5.98=0, 5.99=1, 6.0=3, 6.01=0, 6.02=0, 6.03=0, 6.04=0, 6.05=1, 6.06=0, 6.07=0, 6.08=1, 6.09=0, 6.1=1, 6.11=0, 6.12=1, 6.13=1, 6.14=1, 6.15=0, 6.16=0, 6.17=0, 6.18=3, 6.19=1, 6.2=0, 6.21=1, 6.22=0, 6.23=1, 6.24=0, 6.25=1, 6.26=2, 6.27=0, 6.28=0, 6.29=2, 6.3=0, 6.31=2, 6.32=2, 6.33=0, 6.34=1, 6.35=0, 6.36=1, 6.37=2, 6.38=1, 6.39=1, 6.4=0, 6.41=2, 6.42=0, 6.43=0, 6.44=4, 6.45=1, 6.46=1, 6.47=0, 6.48=1, 6.49=0, 6.5=0, 6.51=1, 6.52=1, 6.53=1, 6.54=2, 6.55=1, 6.56=1, 6.57=1, 6.58=3, 6.59=2, 6.6=3, 6.61=1, 6.62=2, 6.63=1, 6.64=1, 6.65=0, 6.66=3, 6.67=3, 6.68=2, 6.69=0, 6.7=2, 6.71=1, 6.72=1, 6.73=1, 6.74=1, 6.75=0, 6.76=0, 6.77=1, 6.78=0, 6.79=1, 6.8=1, 6.81=1, 6.82=1, 6.83=1, 6.84=1, 6.85=2, 6.86=0, 6.87=1, 6.88=2, 6.89=1, 6.9=1, 6.91=1, 6.92=1, 6.93=0, 6.94=1, 6.95=1, 6.96=1, 6.97=1, 6.98=1, 6.99=1, 7.0=1, 7.01=5, 7.02=5, 7.03=3, 7.04=1, 7.05=1, 7.06=2, 7.07=3, 7.08=1, 7.09=5, 7.1=1, 7.11=2, 7.12=6, 7.13=1, 7.14=2, 7.15=4, 7.16=3, 7.17=2, 7.18=1, 7.19=0, 7.2=2, 7.21=2, 7.22=5, 7.23=1, 7.24=1, 7.25=3, 7.26=1, 7.27=4, 7.28=2, 7.29=1, 7.3=3, 7.31=1, 7.32=4, 7.33=2, 7.34=1, 7.35=1, 7.36=3, 7.37=3, 7.38=1, 7.39=2, 7.4=4, 7.41=2, 7.42=5, 7.43=3, 7.44=2, 7.45=3, 7.46=4, 7.47=2, 7.48=1, 7.49=1, 7.5=1, 7.51=2, 7.52=1, 7.53=3, 7.54=1, 7.55=2, 7.56=1, 7.57=1, 7.58=0, 7.59=1, 7.6=2, 7.61=2, 7.62=3, 7.63=1, 7.64=2, 7.65=4, 7.66=0, 7.67=3, 7.68=5, 7.69=3, 7.7=1, 7.71=3, 7.72=4, 7.73=3, 7.74=4, 7.75=3, 7.76=2, 7.77=3, 7.78=2, 7.79=3, 7.8=8, 7.81=5, 7.82=6, 7.83=6, 7.84=5, 7.85=4, 7.86=1, 7.87=3, 7.88=1, 7.89=0, 7.9=3, 7.91=0, 7.92=1, 7.93=3, 7.94=3, 7.95=4, 7.96=5, 7.97=3, 7.98=3, 7.99=3, 8.0=0, 8.01=0, 8.02=3, 8.03=3, 8.04=2, 8.05=3, 8.06=7, 8.07=3, 8.08=0, 8.09=2, 8.1=1, 8.11=5, 8.12=7, 8.13=1, 8.14=3, 8.15=0, 8.16=6, 8.17=3, 8.18=3, 8.19=2, 8.2=1, 8.21=3, 8.22=4, 8.23=5, 8.24=4, 8.25=3, 8.26=6, 8.27=1, 8.28=5, 8.29=3, 8.3=4, 8.31=3, 8.32=2, 8.33=3, 8.34=4, 8.35=5, 8.36=3, 8.37=2, 8.38=3, 8.39=3, 8.4=2, 8.41=3, 8.42=1, 8.43=3, 8.44=2, 8.45=2, 8.46=4, 8.47=1, 8.48=1, 8.49=4, 8.5=2, 8.51=3, 8.52=3, 8.53=0, 8.54=1, 8.55=4, 8.56=0, 8.57=4, 8.58=4, 8.59=1, 8.6=2, 8.61=2, 8.62=3, 8.63=1, 8.64=1, 8.65=3, 8.66=0, 8.67=1, 8.68=2, 8.69=1, 8.7=1, 8.71=1, 8.72=2, 8.73=2, 8.74=1, 8.75=3, 8.76=2, 8.77=4, 8.78=2, 8.79=3, 8.8=1, 8.81=3, 8.82=2, 8.83=4, 8.84=2, 8.85=3, 8.86=3, 8.87=1, 8.88=0, 8.89=3, 8.9=2, 8.91=0, 8.92=1, 8.93=3, 8.94=2, 8.95=1, 8.96=1, 8.97=1, 8.98=4, 8.99=3, 9.0=4, 9.01=1, 9.02=1, 9.03=0, 9.04=3, 9.05=1, 9.06=2, 9.07=1, 9.08=1, 9.09=3, 9.1=1, 9.11=1, 9.12=2, 9.13=0, 9.14=0, 9.15=1, 9.16=1, 9.17=2, 9.18=4, 9.19=6, 9.2=2, 9.21=4, 9.22=1, 9.23=0, 9.24=3, 9.25=1, 9.26=0, 9.27=0, 9.28=2, 9.29=0, 9.3=2, 9.31=1, 9.32=1, 9.33=1, 9.34=2, 9.35=0, 9.36=1, 9.37=1, 9.38=1, 9.39=1, 9.4=0, 9.41=1, 9.42=2, 9.43=0, 9.44=0, 9.45=2, 9.46=0, 9.47=0, 9.48=1, 9.49=0, 9.5=0, 9.51=0, 9.52=0, 9.53=0, 9.54=0, 9.55=0, 9.56=1, 9.57=0, 9.58=0, 9.59=1, 9.6=0, 9.61=0, 9.62=4, 9.63=1, 9.64=0, 9.65=2, 9.66=2, 9.67=1, 9.68=1, 9.69=0, 9.7=1, 9.71=0, 9.72=0, 9.73=0, 9.74=0, 9.75=0, 9.76=0, 9.77=0, 9.78=1, 9.79=1, 9.8=0, 9.81=0, 9.82=2, 9.83=0, 9.84=0, 9.85=0, 9.86=0, 9.87=0, 9.88=1, 9.89=0, 9.9=0, 9.91=0, 9.92=0, 9.93=0, 9.94=1, 9.95=1, 9.96=0, 9.97=1, 9.98=2, 9.99=1),\n",
       " Row(age_grade='20', 10.0=0, 5.03=0, 5.04=0, 5.05=0, 5.08=1, 5.09=0, 5.13=0, 5.16=1, 5.17=0, 5.18=0, 5.2=0, 5.24=0, 5.25=1, 5.29=0, 5.3=0, 5.31=0, 5.32=0, 5.35=0, 5.36=0, 5.37=1, 5.38=0, 5.4=1, 5.45=0, 5.46=0, 5.47=1, 5.48=0, 5.49=0, 5.5=0, 5.51=0, 5.53=1, 5.54=0, 5.55=0, 5.56=0, 5.57=0, 5.58=0, 5.59=0, 5.6=0, 5.62=1, 5.64=0, 5.65=0, 5.66=0, 5.67=1, 5.68=1, 5.69=0, 5.7=0, 5.71=0, 5.72=0, 5.73=0, 5.74=0, 5.75=1, 5.76=0, 5.77=0, 5.78=0, 5.79=0, 5.8=1, 5.81=1, 5.82=1, 5.83=1, 5.84=0, 5.85=2, 5.86=0, 5.87=0, 5.88=1, 5.89=1, 5.9=0, 5.91=0, 5.92=1, 5.93=2, 5.94=0, 5.95=0, 5.96=1, 5.97=0, 5.98=0, 5.99=2, 6.0=1, 6.01=0, 6.02=0, 6.03=0, 6.04=0, 6.05=0, 6.06=1, 6.07=1, 6.08=0, 6.09=1, 6.1=1, 6.11=0, 6.12=1, 6.13=1, 6.14=0, 6.15=0, 6.16=2, 6.17=3, 6.18=0, 6.19=0, 6.2=1, 6.21=1, 6.22=0, 6.23=1, 6.24=1, 6.25=0, 6.26=1, 6.27=2, 6.28=0, 6.29=1, 6.3=0, 6.31=3, 6.32=1, 6.33=2, 6.34=1, 6.35=2, 6.36=2, 6.37=3, 6.38=1, 6.39=1, 6.4=0, 6.41=1, 6.42=1, 6.43=2, 6.44=2, 6.45=1, 6.46=1, 6.47=1, 6.48=1, 6.49=2, 6.5=3, 6.51=1, 6.52=3, 6.53=1, 6.54=1, 6.55=4, 6.56=3, 6.57=1, 6.58=0, 6.59=0, 6.6=2, 6.61=5, 6.62=3, 6.63=3, 6.64=7, 6.65=1, 6.66=1, 6.67=3, 6.68=2, 6.69=4, 6.7=2, 6.71=4, 6.72=1, 6.73=2, 6.74=1, 6.75=1, 6.76=3, 6.77=3, 6.78=2, 6.79=2, 6.8=3, 6.81=3, 6.82=1, 6.83=1, 6.84=1, 6.85=2, 6.86=4, 6.87=2, 6.88=1, 6.89=2, 6.9=2, 6.91=8, 6.92=2, 6.93=2, 6.94=4, 6.95=0, 6.96=4, 6.97=0, 6.98=4, 6.99=3, 7.0=4, 7.01=2, 7.02=7, 7.03=8, 7.04=3, 7.05=2, 7.06=0, 7.07=3, 7.08=5, 7.09=4, 7.1=2, 7.11=2, 7.12=7, 7.13=3, 7.14=3, 7.15=5, 7.16=2, 7.17=7, 7.18=2, 7.19=4, 7.2=3, 7.21=3, 7.22=6, 7.23=6, 7.24=2, 7.25=10, 7.26=4, 7.27=11, 7.28=3, 7.29=5, 7.3=3, 7.31=4, 7.32=5, 7.33=1, 7.34=4, 7.35=7, 7.36=3, 7.37=4, 7.38=3, 7.39=6, 7.4=3, 7.41=2, 7.42=2, 7.43=8, 7.44=6, 7.45=6, 7.46=3, 7.47=3, 7.48=7, 7.49=4, 7.5=2, 7.51=2, 7.52=1, 7.53=3, 7.54=4, 7.55=1, 7.56=3, 7.57=3, 7.58=4, 7.59=4, 7.6=2, 7.61=8, 7.62=8, 7.63=5, 7.64=5, 7.65=6, 7.66=4, 7.67=4, 7.68=4, 7.69=1, 7.7=8, 7.71=6, 7.72=8, 7.73=3, 7.74=4, 7.75=3, 7.76=3, 7.77=6, 7.78=3, 7.79=3, 7.8=7, 7.81=1, 7.82=3, 7.83=8, 7.84=5, 7.85=3, 7.86=7, 7.87=3, 7.88=7, 7.89=7, 7.9=7, 7.91=1, 7.92=5, 7.93=5, 7.94=7, 7.95=4, 7.96=2, 7.97=7, 7.98=1, 7.99=6, 8.0=3, 8.01=6, 8.02=7, 8.03=7, 8.04=4, 8.05=1, 8.06=3, 8.07=8, 8.08=6, 8.09=12, 8.1=5, 8.11=5, 8.12=6, 8.13=5, 8.14=3, 8.15=6, 8.16=3, 8.17=2, 8.18=6, 8.19=4, 8.2=3, 8.21=5, 8.22=8, 8.23=8, 8.24=3, 8.25=9, 8.26=7, 8.27=2, 8.28=6, 8.29=3, 8.3=5, 8.31=2, 8.32=3, 8.33=3, 8.34=0, 8.35=9, 8.36=7, 8.37=2, 8.38=8, 8.39=2, 8.4=4, 8.41=1, 8.42=5, 8.43=2, 8.44=3, 8.45=4, 8.46=5, 8.47=4, 8.48=2, 8.49=5, 8.5=5, 8.51=3, 8.52=2, 8.53=3, 8.54=3, 8.55=2, 8.56=8, 8.57=4, 8.58=3, 8.59=3, 8.6=5, 8.61=2, 8.62=2, 8.63=5, 8.64=9, 8.65=6, 8.66=2, 8.67=4, 8.68=5, 8.69=5, 8.7=8, 8.71=5, 8.72=0, 8.73=6, 8.74=6, 8.75=4, 8.76=2, 8.77=3, 8.78=5, 8.79=4, 8.8=2, 8.81=5, 8.82=3, 8.83=4, 8.84=4, 8.85=2, 8.86=0, 8.87=5, 8.88=2, 8.89=1, 8.9=4, 8.91=7, 8.92=2, 8.93=4, 8.94=6, 8.95=0, 8.96=2, 8.97=1, 8.98=6, 8.99=4, 9.0=4, 9.01=3, 9.02=1, 9.03=4, 9.04=0, 9.05=5, 9.06=4, 9.07=3, 9.08=0, 9.09=2, 9.1=2, 9.11=2, 9.12=5, 9.13=1, 9.14=0, 9.15=1, 9.16=1, 9.17=4, 9.18=4, 9.19=1, 9.2=5, 9.21=3, 9.22=2, 9.23=0, 9.24=2, 9.25=4, 9.26=2, 9.27=4, 9.28=1, 9.29=2, 9.3=2, 9.31=1, 9.32=0, 9.33=3, 9.34=1, 9.35=1, 9.36=0, 9.37=0, 9.38=1, 9.39=3, 9.4=1, 9.41=2, 9.42=3, 9.43=1, 9.44=1, 9.45=1, 9.46=2, 9.47=1, 9.48=0, 9.49=4, 9.5=3, 9.51=1, 9.52=2, 9.53=1, 9.54=1, 9.55=3, 9.56=0, 9.57=4, 9.58=0, 9.59=1, 9.6=2, 9.61=3, 9.62=0, 9.63=2, 9.64=2, 9.65=3, 9.66=0, 9.67=0, 9.68=1, 9.69=0, 9.7=0, 9.71=1, 9.72=1, 9.73=0, 9.74=1, 9.75=3, 9.76=4, 9.77=1, 9.78=0, 9.79=2, 9.8=0, 9.81=2, 9.82=1, 9.83=1, 9.84=0, 9.85=1, 9.86=0, 9.87=0, 9.88=2, 9.89=2, 9.9=0, 9.91=0, 9.92=1, 9.93=0, 9.94=1, 9.95=0, 9.96=0, 9.97=0, 9.98=0, 9.99=0),\n",
       " Row(age_grade='32', 10.0=0, 5.03=0, 5.04=0, 5.05=0, 5.08=0, 5.09=0, 5.13=0, 5.16=0, 5.17=0, 5.18=0, 5.2=0, 5.24=0, 5.25=0, 5.29=0, 5.3=0, 5.31=0, 5.32=0, 5.35=0, 5.36=0, 5.37=0, 5.38=0, 5.4=0, 5.45=0, 5.46=0, 5.47=0, 5.48=0, 5.49=0, 5.5=0, 5.51=0, 5.53=0, 5.54=0, 5.55=0, 5.56=0, 5.57=0, 5.58=0, 5.59=0, 5.6=0, 5.62=0, 5.64=0, 5.65=0, 5.66=0, 5.67=0, 5.68=0, 5.69=0, 5.7=0, 5.71=0, 5.72=0, 5.73=0, 5.74=0, 5.75=0, 5.76=0, 5.77=0, 5.78=0, 5.79=0, 5.8=0, 5.81=0, 5.82=1, 5.83=0, 5.84=0, 5.85=0, 5.86=0, 5.87=0, 5.88=0, 5.89=0, 5.9=0, 5.91=0, 5.92=0, 5.93=0, 5.94=0, 5.95=0, 5.96=0, 5.97=0, 5.98=0, 5.99=0, 6.0=0, 6.01=0, 6.02=0, 6.03=0, 6.04=0, 6.05=0, 6.06=0, 6.07=0, 6.08=0, 6.09=0, 6.1=0, 6.11=0, 6.12=0, 6.13=0, 6.14=0, 6.15=0, 6.16=0, 6.17=0, 6.18=0, 6.19=0, 6.2=0, 6.21=0, 6.22=0, 6.23=0, 6.24=0, 6.25=0, 6.26=0, 6.27=0, 6.28=0, 6.29=0, 6.3=0, 6.31=0, 6.32=0, 6.33=0, 6.34=0, 6.35=0, 6.36=0, 6.37=0, 6.38=0, 6.39=0, 6.4=0, 6.41=0, 6.42=0, 6.43=0, 6.44=0, 6.45=0, 6.46=0, 6.47=0, 6.48=0, 6.49=0, 6.5=0, 6.51=0, 6.52=0, 6.53=0, 6.54=0, 6.55=0, 6.56=0, 6.57=0, 6.58=0, 6.59=0, 6.6=0, 6.61=0, 6.62=0, 6.63=0, 6.64=0, 6.65=0, 6.66=0, 6.67=0, 6.68=0, 6.69=0, 6.7=0, 6.71=1, 6.72=0, 6.73=0, 6.74=0, 6.75=0, 6.76=0, 6.77=0, 6.78=0, 6.79=0, 6.8=0, 6.81=0, 6.82=0, 6.83=0, 6.84=0, 6.85=0, 6.86=0, 6.87=0, 6.88=0, 6.89=0, 6.9=0, 6.91=0, 6.92=0, 6.93=0, 6.94=0, 6.95=0, 6.96=0, 6.97=0, 6.98=0, 6.99=1, 7.0=0, 7.01=0, 7.02=0, 7.03=0, 7.04=0, 7.05=0, 7.06=0, 7.07=0, 7.08=0, 7.09=0, 7.1=0, 7.11=0, 7.12=0, 7.13=0, 7.14=0, 7.15=0, 7.16=0, 7.17=0, 7.18=0, 7.19=0, 7.2=0, 7.21=0, 7.22=0, 7.23=1, 7.24=0, 7.25=0, 7.26=0, 7.27=0, 7.28=0, 7.29=0, 7.3=0, 7.31=0, 7.32=0, 7.33=0, 7.34=0, 7.35=0, 7.36=0, 7.37=1, 7.38=1, 7.39=0, 7.4=1, 7.41=0, 7.42=0, 7.43=0, 7.44=0, 7.45=0, 7.46=0, 7.47=0, 7.48=0, 7.49=0, 7.5=0, 7.51=0, 7.52=0, 7.53=0, 7.54=0, 7.55=0, 7.56=0, 7.57=1, 7.58=0, 7.59=0, 7.6=0, 7.61=0, 7.62=0, 7.63=0, 7.64=0, 7.65=0, 7.66=0, 7.67=1, 7.68=1, 7.69=0, 7.7=0, 7.71=0, 7.72=1, 7.73=0, 7.74=0, 7.75=1, 7.76=0, 7.77=0, 7.78=0, 7.79=0, 7.8=1, 7.81=0, 7.82=0, 7.83=0, 7.84=0, 7.85=0, 7.86=1, 7.87=1, 7.88=1, 7.89=0, 7.9=0, 7.91=0, 7.92=0, 7.93=0, 7.94=0, 7.95=0, 7.96=0, 7.97=0, 7.98=0, 7.99=0, 8.0=0, 8.01=0, 8.02=0, 8.03=0, 8.04=0, 8.05=0, 8.06=0, 8.07=0, 8.08=0, 8.09=0, 8.1=0, 8.11=0, 8.12=0, 8.13=0, 8.14=0, 8.15=0, 8.16=0, 8.17=0, 8.18=0, 8.19=0, 8.2=0, 8.21=0, 8.22=0, 8.23=0, 8.24=0, 8.25=0, 8.26=0, 8.27=0, 8.28=0, 8.29=0, 8.3=0, 8.31=1, 8.32=0, 8.33=0, 8.34=0, 8.35=0, 8.36=0, 8.37=0, 8.38=1, 8.39=0, 8.4=0, 8.41=0, 8.42=0, 8.43=1, 8.44=0, 8.45=0, 8.46=0, 8.47=1, 8.48=1, 8.49=0, 8.5=0, 8.51=0, 8.52=0, 8.53=0, 8.54=0, 8.55=0, 8.56=0, 8.57=0, 8.58=0, 8.59=1, 8.6=0, 8.61=1, 8.62=0, 8.63=0, 8.64=0, 8.65=0, 8.66=0, 8.67=0, 8.68=0, 8.69=0, 8.7=0, 8.71=0, 8.72=0, 8.73=0, 8.74=0, 8.75=1, 8.76=1, 8.77=0, 8.78=0, 8.79=0, 8.8=0, 8.81=0, 8.82=0, 8.83=0, 8.84=0, 8.85=0, 8.86=0, 8.87=0, 8.88=0, 8.89=0, 8.9=0, 8.91=0, 8.92=0, 8.93=0, 8.94=0, 8.95=0, 8.96=0, 8.97=0, 8.98=0, 8.99=0, 9.0=0, 9.01=0, 9.02=0, 9.03=0, 9.04=0, 9.05=0, 9.06=0, 9.07=0, 9.08=1, 9.09=0, 9.1=0, 9.11=0, 9.12=0, 9.13=1, 9.14=0, 9.15=0, 9.16=0, 9.17=0, 9.18=0, 9.19=0, 9.2=0, 9.21=0, 9.22=0, 9.23=0, 9.24=0, 9.25=0, 9.26=0, 9.27=0, 9.28=0, 9.29=0, 9.3=0, 9.31=1, 9.32=0, 9.33=0, 9.34=0, 9.35=0, 9.36=0, 9.37=0, 9.38=0, 9.39=0, 9.4=0, 9.41=0, 9.42=0, 9.43=0, 9.44=0, 9.45=0, 9.46=0, 9.47=0, 9.48=0, 9.49=0, 9.5=0, 9.51=0, 9.52=0, 9.53=0, 9.54=0, 9.55=0, 9.56=0, 9.57=0, 9.58=0, 9.59=0, 9.6=0, 9.61=0, 9.62=0, 9.63=0, 9.64=0, 9.65=0, 9.66=0, 9.67=0, 9.68=0, 9.69=0, 9.7=0, 9.71=0, 9.72=0, 9.73=0, 9.74=0, 9.75=0, 9.76=0, 9.77=0, 9.78=0, 9.79=1, 9.8=0, 9.81=0, 9.82=0, 9.83=0, 9.84=0, 9.85=0, 9.86=0, 9.87=0, 9.88=0, 9.89=0, 9.9=0, 9.91=0, 9.92=0, 9.93=0, 9.94=1, 9.95=0, 9.96=0, 9.97=0, 9.98=0, 9.99=0),\n",
       " Row(age_grade='37', 10.0=0, 5.03=0, 5.04=0, 5.05=0, 5.08=0, 5.09=0, 5.13=0, 5.16=0, 5.17=0, 5.18=0, 5.2=0, 5.24=0, 5.25=0, 5.29=0, 5.3=0, 5.31=0, 5.32=0, 5.35=0, 5.36=0, 5.37=0, 5.38=0, 5.4=0, 5.45=0, 5.46=0, 5.47=0, 5.48=0, 5.49=0, 5.5=0, 5.51=0, 5.53=0, 5.54=0, 5.55=0, 5.56=0, 5.57=0, 5.58=0, 5.59=0, 5.6=0, 5.62=0, 5.64=0, 5.65=0, 5.66=0, 5.67=0, 5.68=0, 5.69=0, 5.7=0, 5.71=0, 5.72=0, 5.73=0, 5.74=0, 5.75=0, 5.76=0, 5.77=0, 5.78=0, 5.79=0, 5.8=0, 5.81=0, 5.82=0, 5.83=0, 5.84=0, 5.85=0, 5.86=0, 5.87=0, 5.88=0, 5.89=0, 5.9=0, 5.91=0, 5.92=0, 5.93=0, 5.94=0, 5.95=0, 5.96=0, 5.97=0, 5.98=0, 5.99=0, 6.0=0, 6.01=0, 6.02=0, 6.03=0, 6.04=0, 6.05=0, 6.06=0, 6.07=0, 6.08=0, 6.09=0, 6.1=0, 6.11=0, 6.12=0, 6.13=0, 6.14=0, 6.15=0, 6.16=0, 6.17=0, 6.18=0, 6.19=0, 6.2=0, 6.21=0, 6.22=0, 6.23=0, 6.24=0, 6.25=0, 6.26=0, 6.27=0, 6.28=0, 6.29=0, 6.3=0, 6.31=0, 6.32=0, 6.33=0, 6.34=0, 6.35=0, 6.36=0, 6.37=0, 6.38=0, 6.39=0, 6.4=0, 6.41=0, 6.42=0, 6.43=0, 6.44=0, 6.45=0, 6.46=0, 6.47=0, 6.48=0, 6.49=0, 6.5=0, 6.51=0, 6.52=0, 6.53=0, 6.54=0, 6.55=0, 6.56=0, 6.57=0, 6.58=0, 6.59=0, 6.6=0, 6.61=0, 6.62=0, 6.63=0, 6.64=0, 6.65=0, 6.66=0, 6.67=0, 6.68=0, 6.69=0, 6.7=0, 6.71=0, 6.72=0, 6.73=0, 6.74=0, 6.75=0, 6.76=0, 6.77=0, 6.78=0, 6.79=0, 6.8=0, 6.81=0, 6.82=0, 6.83=0, 6.84=0, 6.85=0, 6.86=0, 6.87=0, 6.88=0, 6.89=0, 6.9=0, 6.91=0, 6.92=0, 6.93=0, 6.94=0, 6.95=0, 6.96=0, 6.97=0, 6.98=0, 6.99=0, 7.0=0, 7.01=0, 7.02=0, 7.03=0, 7.04=0, 7.05=0, 7.06=0, 7.07=0, 7.08=0, 7.09=0, 7.1=0, 7.11=0, 7.12=0, 7.13=0, 7.14=0, 7.15=0, 7.16=0, 7.17=0, 7.18=0, 7.19=0, 7.2=0, 7.21=0, 7.22=0, 7.23=0, 7.24=0, 7.25=0, 7.26=0, 7.27=0, 7.28=0, 7.29=0, 7.3=0, 7.31=0, 7.32=0, 7.33=0, 7.34=0, 7.35=0, 7.36=0, 7.37=0, 7.38=0, 7.39=0, 7.4=0, 7.41=0, 7.42=0, 7.43=0, 7.44=0, 7.45=0, 7.46=0, 7.47=0, 7.48=0, 7.49=0, 7.5=0, 7.51=0, 7.52=0, 7.53=0, 7.54=0, 7.55=0, 7.56=0, 7.57=0, 7.58=0, 7.59=0, 7.6=0, 7.61=0, 7.62=0, 7.63=0, 7.64=0, 7.65=0, 7.66=0, 7.67=0, 7.68=0, 7.69=0, 7.7=0, 7.71=0, 7.72=0, 7.73=0, 7.74=0, 7.75=0, 7.76=0, 7.77=0, 7.78=0, 7.79=0, 7.8=0, 7.81=0, 7.82=0, 7.83=0, 7.84=0, 7.85=0, 7.86=0, 7.87=0, 7.88=0, 7.89=0, 7.9=0, 7.91=0, 7.92=0, 7.93=0, 7.94=0, 7.95=0, 7.96=0, 7.97=0, 7.98=0, 7.99=0, 8.0=0, 8.01=0, 8.02=0, 8.03=0, 8.04=0, 8.05=0, 8.06=0, 8.07=0, 8.08=0, 8.09=0, 8.1=0, 8.11=1, 8.12=0, 8.13=0, 8.14=0, 8.15=0, 8.16=0, 8.17=0, 8.18=0, 8.19=0, 8.2=0, 8.21=0, 8.22=0, 8.23=0, 8.24=0, 8.25=0, 8.26=0, 8.27=0, 8.28=0, 8.29=0, 8.3=0, 8.31=0, 8.32=0, 8.33=0, 8.34=0, 8.35=0, 8.36=0, 8.37=0, 8.38=0, 8.39=0, 8.4=0, 8.41=0, 8.42=0, 8.43=0, 8.44=0, 8.45=0, 8.46=0, 8.47=0, 8.48=0, 8.49=0, 8.5=0, 8.51=0, 8.52=0, 8.53=0, 8.54=0, 8.55=0, 8.56=0, 8.57=0, 8.58=0, 8.59=0, 8.6=0, 8.61=0, 8.62=0, 8.63=0, 8.64=0, 8.65=0, 8.66=0, 8.67=0, 8.68=0, 8.69=0, 8.7=0, 8.71=0, 8.72=0, 8.73=0, 8.74=0, 8.75=0, 8.76=0, 8.77=0, 8.78=0, 8.79=0, 8.8=0, 8.81=0, 8.82=0, 8.83=0, 8.84=0, 8.85=0, 8.86=0, 8.87=0, 8.88=0, 8.89=0, 8.9=0, 8.91=0, 8.92=0, 8.93=0, 8.94=0, 8.95=0, 8.96=0, 8.97=0, 8.98=0, 8.99=0, 9.0=0, 9.01=0, 9.02=0, 9.03=0, 9.04=0, 9.05=0, 9.06=0, 9.07=0, 9.08=0, 9.09=0, 9.1=0, 9.11=0, 9.12=0, 9.13=0, 9.14=0, 9.15=0, 9.16=0, 9.17=0, 9.18=0, 9.19=0, 9.2=0, 9.21=0, 9.22=0, 9.23=0, 9.24=0, 9.25=0, 9.26=0, 9.27=0, 9.28=0, 9.29=0, 9.3=0, 9.31=0, 9.32=0, 9.33=0, 9.34=0, 9.35=0, 9.36=0, 9.37=0, 9.38=0, 9.39=0, 9.4=0, 9.41=0, 9.42=0, 9.43=0, 9.44=0, 9.45=0, 9.46=0, 9.47=0, 9.48=0, 9.49=0, 9.5=0, 9.51=0, 9.52=0, 9.53=0, 9.54=0, 9.55=0, 9.56=0, 9.57=0, 9.58=0, 9.59=0, 9.6=0, 9.61=0, 9.62=0, 9.63=0, 9.64=0, 9.65=0, 9.66=0, 9.67=0, 9.68=0, 9.69=0, 9.7=0, 9.71=0, 9.72=0, 9.73=0, 9.74=0, 9.75=0, 9.76=0, 9.77=0, 9.78=0, 9.79=0, 9.8=0, 9.81=0, 9.82=0, 9.83=0, 9.84=0, 9.85=0, 9.86=0, 9.87=0, 9.88=0, 9.89=0, 9.9=0, 9.91=0, 9.92=0, 9.93=0, 9.94=0, 9.95=0, 9.96=0, 9.97=0, 9.98=0, 9.99=0),\n",
       " Row(age_grade='23', 10.0=0, 5.03=0, 5.04=0, 5.05=0, 5.08=0, 5.09=0, 5.13=0, 5.16=0, 5.17=0, 5.18=1, 5.2=0, 5.24=0, 5.25=0, 5.29=0, 5.3=0, 5.31=1, 5.32=0, 5.35=0, 5.36=0, 5.37=1, 5.38=0, 5.4=0, 5.45=0, 5.46=0, 5.47=0, 5.48=0, 5.49=1, 5.5=0, 5.51=0, 5.53=0, 5.54=0, 5.55=0, 5.56=0, 5.57=0, 5.58=0, 5.59=0, 5.6=0, 5.62=2, 5.64=2, 5.65=0, 5.66=0, 5.67=0, 5.68=0, 5.69=0, 5.7=0, 5.71=0, 5.72=0, 5.73=0, 5.74=2, 5.75=0, 5.76=4, 5.77=0, 5.78=0, 5.79=0, 5.8=0, 5.81=0, 5.82=0, 5.83=0, 5.84=0, 5.85=0, 5.86=0, 5.87=1, 5.88=0, 5.89=2, 5.9=0, 5.91=0, 5.92=1, 5.93=0, 5.94=0, 5.95=0, 5.96=0, 5.97=0, 5.98=0, 5.99=0, 6.0=0, 6.01=2, 6.02=1, 6.03=0, 6.04=2, 6.05=0, 6.06=3, 6.07=0, 6.08=0, 6.09=0, 6.1=0, 6.11=1, 6.12=0, 6.13=1, 6.14=0, 6.15=1, 6.16=1, 6.17=1, 6.18=0, 6.19=1, 6.2=1, 6.21=2, 6.22=0, 6.23=0, 6.24=1, 6.25=0, 6.26=0, 6.27=0, 6.28=2, 6.29=1, 6.3=2, 6.31=1, 6.32=1, 6.33=0, 6.34=4, 6.35=1, 6.36=2, 6.37=1, 6.38=2, 6.39=1, 6.4=0, 6.41=1, 6.42=4, 6.43=0, 6.44=2, 6.45=1, 6.46=1, 6.47=0, 6.48=0, 6.49=0, 6.5=1, 6.51=2, 6.52=0, 6.53=0, 6.54=1, 6.55=2, 6.56=0, 6.57=1, 6.58=3, 6.59=0, 6.6=3, 6.61=1, 6.62=2, 6.63=2, 6.64=1, 6.65=2, 6.66=0, 6.67=2, 6.68=1, 6.69=1, 6.7=1, 6.71=1, 6.72=0, 6.73=2, 6.74=3, 6.75=3, 6.76=4, 6.77=1, 6.78=3, 6.79=4, 6.8=6, 6.81=3, 6.82=3, 6.83=2, 6.84=3, 6.85=4, 6.86=2, 6.87=0, 6.88=1, 6.89=1, 6.9=2, 6.91=1, 6.92=3, 6.93=1, 6.94=2, 6.95=2, 6.96=3, 6.97=1, 6.98=2, 6.99=4, 7.0=9, 7.01=2, 7.02=3, 7.03=1, 7.04=5, 7.05=2, 7.06=2, 7.07=5, 7.08=1, 7.09=4, 7.1=4, 7.11=2, 7.12=2, 7.13=2, 7.14=1, 7.15=5, 7.16=3, 7.17=3, 7.18=3, 7.19=1, 7.2=3, 7.21=4, 7.22=4, 7.23=2, 7.24=0, 7.25=0, 7.26=1, 7.27=3, 7.28=3, 7.29=1, 7.3=0, 7.31=5, 7.32=2, 7.33=2, 7.34=7, 7.35=3, 7.36=5, 7.37=1, 7.38=2, 7.39=0, 7.4=3, 7.41=7, 7.42=6, 7.43=5, 7.44=2, 7.45=3, 7.46=4, 7.47=3, 7.48=5, 7.49=5, 7.5=0, 7.51=4, 7.52=4, 7.53=2, 7.54=8, 7.55=5, 7.56=7, 7.57=4, 7.58=4, 7.59=2, 7.6=5, 7.61=5, 7.62=5, 7.63=4, 7.64=4, 7.65=3, 7.66=3, 7.67=4, 7.68=2, 7.69=2, 7.7=3, 7.71=7, 7.72=6, 7.73=1, 7.74=4, 7.75=3, 7.76=6, 7.77=4, 7.78=1, 7.79=6, 7.8=3, 7.81=7, 7.82=1, 7.83=8, 7.84=4, 7.85=2, 7.86=5, 7.87=4, 7.88=3, 7.89=7, 7.9=7, 7.91=3, 7.92=5, 7.93=5, 7.94=3, 7.95=3, 7.96=2, 7.97=6, 7.98=2, 7.99=6, 8.0=2, 8.01=6, 8.02=5, 8.03=2, 8.04=4, 8.05=4, 8.06=7, 8.07=5, 8.08=5, 8.09=6, 8.1=2, 8.11=3, 8.12=1, 8.13=5, 8.14=3, 8.15=1, 8.16=4, 8.17=4, 8.18=0, 8.19=4, 8.2=4, 8.21=4, 8.22=4, 8.23=5, 8.24=10, 8.25=1, 8.26=2, 8.27=5, 8.28=3, 8.29=5, 8.3=4, 8.31=7, 8.32=4, 8.33=2, 8.34=4, 8.35=4, 8.36=2, 8.37=6, 8.38=4, 8.39=6, 8.4=4, 8.41=4, 8.42=5, 8.43=4, 8.44=2, 8.45=0, 8.46=3, 8.47=4, 8.48=2, 8.49=7, 8.5=5, 8.51=3, 8.52=1, 8.53=4, 8.54=6, 8.55=2, 8.56=0, 8.57=4, 8.58=6, 8.59=5, 8.6=1, 8.61=6, 8.62=3, 8.63=4, 8.64=3, 8.65=1, 8.66=2, 8.67=4, 8.68=2, 8.69=6, 8.7=3, 8.71=6, 8.72=2, 8.73=2, 8.74=6, 8.75=5, 8.76=7, 8.77=4, 8.78=3, 8.79=6, 8.8=5, 8.81=4, 8.82=3, 8.83=2, 8.84=4, 8.85=4, 8.86=3, 8.87=3, 8.88=2, 8.89=3, 8.9=1, 8.91=3, 8.92=0, 8.93=3, 8.94=0, 8.95=4, 8.96=2, 8.97=3, 8.98=4, 8.99=3, 9.0=3, 9.01=2, 9.02=4, 9.03=1, 9.04=3, 9.05=0, 9.06=4, 9.07=3, 9.08=1, 9.09=1, 9.1=2, 9.11=2, 9.12=1, 9.13=4, 9.14=2, 9.15=1, 9.16=2, 9.17=3, 9.18=3, 9.19=3, 9.2=4, 9.21=3, 9.22=1, 9.23=2, 9.24=4, 9.25=1, 9.26=3, 9.27=0, 9.28=1, 9.29=3, 9.3=0, 9.31=2, 9.32=1, 9.33=1, 9.34=2, 9.35=3, 9.36=2, 9.37=1, 9.38=1, 9.39=1, 9.4=3, 9.41=3, 9.42=1, 9.43=0, 9.44=2, 9.45=3, 9.46=1, 9.47=0, 9.48=1, 9.49=0, 9.5=1, 9.51=2, 9.52=3, 9.53=0, 9.54=0, 9.55=0, 9.56=0, 9.57=2, 9.58=1, 9.59=1, 9.6=4, 9.61=2, 9.62=3, 9.63=0, 9.64=1, 9.65=0, 9.66=1, 9.67=1, 9.68=2, 9.69=0, 9.7=0, 9.71=1, 9.72=1, 9.73=0, 9.74=2, 9.75=0, 9.76=0, 9.77=0, 9.78=2, 9.79=0, 9.8=1, 9.81=0, 9.82=3, 9.83=2, 9.84=1, 9.85=2, 9.86=3, 9.87=3, 9.88=0, 9.89=0, 9.9=0, 9.91=0, 9.92=1, 9.93=0, 9.94=1, 9.95=1, 9.96=0, 9.97=0, 9.98=0, 9.99=1),\n",
       " Row(age_grade='21', 10.0=0, 5.03=0, 5.04=0, 5.05=0, 5.08=0, 5.09=0, 5.13=1, 5.16=0, 5.17=0, 5.18=0, 5.2=0, 5.24=0, 5.25=0, 5.29=0, 5.3=0, 5.31=0, 5.32=0, 5.35=0, 5.36=0, 5.37=0, 5.38=1, 5.4=0, 5.45=0, 5.46=0, 5.47=0, 5.48=0, 5.49=0, 5.5=0, 5.51=0, 5.53=1, 5.54=0, 5.55=1, 5.56=0, 5.57=0, 5.58=1, 5.59=0, 5.6=0, 5.62=0, 5.64=0, 5.65=0, 5.66=0, 5.67=0, 5.68=0, 5.69=0, 5.7=0, 5.71=0, 5.72=0, 5.73=0, 5.74=0, 5.75=0, 5.76=0, 5.77=0, 5.78=1, 5.79=2, 5.8=0, 5.81=1, 5.82=0, 5.83=0, 5.84=0, 5.85=1, 5.86=0, 5.87=0, 5.88=1, 5.89=1, 5.9=2, 5.91=0, 5.92=0, 5.93=0, 5.94=2, 5.95=1, 5.96=0, 5.97=0, 5.98=2, 5.99=2, 6.0=0, 6.01=1, 6.02=0, 6.03=1, 6.04=0, 6.05=0, 6.06=1, 6.07=0, 6.08=1, 6.09=0, 6.1=0, 6.11=0, 6.12=0, 6.13=0, 6.14=1, 6.15=1, 6.16=2, 6.17=1, 6.18=2, 6.19=0, 6.2=1, 6.21=1, 6.22=6, 6.23=1, 6.24=0, 6.25=0, 6.26=3, 6.27=3, 6.28=1, 6.29=0, 6.3=1, 6.31=0, 6.32=0, 6.33=0, 6.34=1, 6.35=0, 6.36=1, 6.37=0, 6.38=0, 6.39=4, 6.4=2, 6.41=4, 6.42=0, 6.43=3, 6.44=2, 6.45=3, 6.46=0, 6.47=1, 6.48=2, 6.49=3, 6.5=1, 6.51=0, 6.52=0, 6.53=0, 6.54=1, 6.55=2, 6.56=2, 6.57=1, 6.58=4, 6.59=2, 6.6=1, 6.61=0, 6.62=3, 6.63=1, 6.64=2, 6.65=2, 6.66=2, 6.67=0, 6.68=2, 6.69=0, 6.7=2, 6.71=1, 6.72=0, 6.73=1, 6.74=1, 6.75=1, 6.76=1, 6.77=2, 6.78=2, 6.79=1, 6.8=1, 6.81=0, 6.82=1, 6.83=1, 6.84=2, 6.85=2, 6.86=1, 6.87=1, 6.88=1, 6.89=1, 6.9=3, 6.91=4, 6.92=3, 6.93=4, 6.94=2, 6.95=3, 6.96=8, 6.97=3, 6.98=3, 6.99=6, 7.0=4, 7.01=1, 7.02=2, 7.03=5, 7.04=2, 7.05=3, 7.06=6, 7.07=2, 7.08=6, 7.09=3, 7.1=5, 7.11=2, 7.12=3, 7.13=8, 7.14=1, 7.15=5, 7.16=3, 7.17=6, 7.18=2, 7.19=2, 7.2=4, 7.21=4, 7.22=4, 7.23=1, 7.24=4, 7.25=1, 7.26=3, 7.27=4, 7.28=4, 7.29=7, 7.3=3, 7.31=0, 7.32=2, 7.33=7, 7.34=2, 7.35=2, 7.36=4, 7.37=4, 7.38=4, 7.39=7, 7.4=1, 7.41=5, 7.42=5, 7.43=0, 7.44=4, 7.45=2, 7.46=0, 7.47=4, 7.48=5, 7.49=5, 7.5=5, 7.51=7, 7.52=3, 7.53=5, 7.54=1, 7.55=6, 7.56=3, 7.57=1, 7.58=7, 7.59=4, 7.6=2, 7.61=11, 7.62=3, 7.63=5, 7.64=7, 7.65=3, 7.66=7, 7.67=3, 7.68=3, 7.69=4, 7.7=2, 7.71=2, 7.72=5, 7.73=5, 7.74=5, 7.75=5, 7.76=8, 7.77=6, 7.78=5, 7.79=1, 7.8=7, 7.81=6, 7.82=4, 7.83=5, 7.84=3, 7.85=6, 7.86=3, 7.87=8, 7.88=7, 7.89=3, 7.9=5, 7.91=4, 7.92=4, 7.93=5, 7.94=4, 7.95=5, 7.96=1, 7.97=10, 7.98=7, 7.99=1, 8.0=3, 8.01=3, 8.02=6, 8.03=7, 8.04=4, 8.05=5, 8.06=4, 8.07=7, 8.08=5, 8.09=6, 8.1=6, 8.11=6, 8.12=9, 8.13=3, 8.14=7, 8.15=2, 8.16=3, 8.17=5, 8.18=7, 8.19=5, 8.2=1, 8.21=5, 8.22=4, 8.23=4, 8.24=0, 8.25=4, 8.26=3, 8.27=7, 8.28=3, 8.29=1, 8.3=6, 8.31=6, 8.32=11, 8.33=4, 8.34=5, 8.35=3, 8.36=7, 8.37=6, 8.38=3, 8.39=2, 8.4=5, 8.41=10, 8.42=6, 8.43=4, 8.44=3, 8.45=5, 8.46=6, 8.47=6, 8.48=3, 8.49=2, 8.5=8, 8.51=4, 8.52=4, 8.53=5, 8.54=3, 8.55=7, 8.56=2, 8.57=3, 8.58=10, 8.59=5, 8.6=9, 8.61=3, 8.62=3, 8.63=8, 8.64=3, 8.65=10, 8.66=5, 8.67=1, 8.68=8, 8.69=3, 8.7=3, 8.71=1, 8.72=3, 8.73=4, 8.74=4, 8.75=5, 8.76=4, 8.77=3, 8.78=6, 8.79=2, 8.8=3, 8.81=0, 8.82=2, 8.83=1, 8.84=6, 8.85=2, 8.86=5, 8.87=2, 8.88=2, 8.89=3, 8.9=4, 8.91=6, 8.92=1, 8.93=3, 8.94=3, 8.95=3, 8.96=3, 8.97=0, 8.98=4, 8.99=2, 9.0=5, 9.01=2, 9.02=4, 9.03=2, 9.04=1, 9.05=3, 9.06=4, 9.07=0, 9.08=3, 9.09=1, 9.1=2, 9.11=1, 9.12=1, 9.13=3, 9.14=2, 9.15=3, 9.16=1, 9.17=4, 9.18=3, 9.19=1, 9.2=1, 9.21=1, 9.22=1, 9.23=0, 9.24=0, 9.25=2, 9.26=2, 9.27=4, 9.28=4, 9.29=2, 9.3=3, 9.31=3, 9.32=3, 9.33=2, 9.34=1, 9.35=2, 9.36=2, 9.37=3, 9.38=2, 9.39=1, 9.4=2, 9.41=3, 9.42=2, 9.43=2, 9.44=3, 9.45=2, 9.46=1, 9.47=1, 9.48=1, 9.49=3, 9.5=1, 9.51=3, 9.52=1, 9.53=0, 9.54=0, 9.55=2, 9.56=3, 9.57=1, 9.58=2, 9.59=0, 9.6=1, 9.61=1, 9.62=3, 9.63=0, 9.64=0, 9.65=3, 9.66=2, 9.67=0, 9.68=1, 9.69=0, 9.7=2, 9.71=0, 9.72=2, 9.73=5, 9.74=0, 9.75=0, 9.76=0, 9.77=2, 9.78=3, 9.79=1, 9.8=0, 9.81=1, 9.82=1, 9.83=1, 9.84=1, 9.85=0, 9.86=0, 9.87=1, 9.88=0, 9.89=0, 9.9=1, 9.91=1, 9.92=0, 9.93=3, 9.94=0, 9.95=1, 9.96=2, 9.97=1, 9.98=0, 9.99=0),\n",
       " Row(age_grade='18', 10.0=0, 5.03=0, 5.04=0, 5.05=0, 5.08=0, 5.09=0, 5.13=0, 5.16=1, 5.17=0, 5.18=0, 5.2=0, 5.24=1, 5.25=0, 5.29=3, 5.3=0, 5.31=0, 5.32=0, 5.35=1, 5.36=0, 5.37=1, 5.38=1, 5.4=0, 5.45=0, 5.46=0, 5.47=0, 5.48=1, 5.49=0, 5.5=0, 5.51=1, 5.53=1, 5.54=1, 5.55=0, 5.56=0, 5.57=0, 5.58=0, 5.59=1, 5.6=0, 5.62=0, 5.64=0, 5.65=0, 5.66=2, 5.67=0, 5.68=0, 5.69=0, 5.7=0, 5.71=0, 5.72=0, 5.73=2, 5.74=0, 5.75=0, 5.76=0, 5.77=0, 5.78=0, 5.79=1, 5.8=0, 5.81=0, 5.82=0, 5.83=0, 5.84=0, 5.85=0, 5.86=0, 5.87=0, 5.88=0, 5.89=0, 5.9=0, 5.91=1, 5.92=0, 5.93=2, 5.94=1, 5.95=0, 5.96=0, 5.97=1, 5.98=1, 5.99=2, 6.0=1, 6.01=0, 6.02=1, 6.03=0, 6.04=0, 6.05=3, 6.06=3, 6.07=1, 6.08=1, 6.09=1, 6.1=0, 6.11=1, 6.12=0, 6.13=1, 6.14=0, 6.15=1, 6.16=0, 6.17=0, 6.18=0, 6.19=0, 6.2=2, 6.21=0, 6.22=1, 6.23=1, 6.24=1, 6.25=0, 6.26=0, 6.27=1, 6.28=0, 6.29=2, 6.3=1, 6.31=0, 6.32=2, 6.33=1, 6.34=3, 6.35=2, 6.36=0, 6.37=0, 6.38=1, 6.39=1, 6.4=2, 6.41=0, 6.42=0, 6.43=2, 6.44=1, 6.45=3, 6.46=0, 6.47=2, 6.48=1, 6.49=1, 6.5=3, 6.51=1, 6.52=0, 6.53=1, 6.54=3, 6.55=2, 6.56=2, 6.57=4, 6.58=3, 6.59=0, 6.6=1, 6.61=1, 6.62=3, 6.63=0, 6.64=3, 6.65=0, 6.66=0, 6.67=3, 6.68=2, 6.69=3, 6.7=1, 6.71=1, 6.72=5, 6.73=1, 6.74=1, 6.75=5, 6.76=3, 6.77=2, 6.78=5, 6.79=2, 6.8=3, 6.81=0, 6.82=2, 6.83=3, 6.84=1, 6.85=2, 6.86=5, 6.87=1, 6.88=0, 6.89=2, 6.9=6, 6.91=2, 6.92=3, 6.93=4, 6.94=4, 6.95=7, 6.96=0, 6.97=2, 6.98=5, 6.99=3, 7.0=2, 7.01=5, 7.02=6, 7.03=5, 7.04=2, 7.05=7, 7.06=1, 7.07=8, 7.08=5, 7.09=3, 7.1=4, 7.11=4, 7.12=6, 7.13=3, 7.14=4, 7.15=2, 7.16=6, 7.17=4, 7.18=3, 7.19=4, 7.2=5, 7.21=3, 7.22=6, 7.23=6, 7.24=5, 7.25=2, 7.26=5, 7.27=6, 7.28=8, 7.29=5, 7.3=4, 7.31=4, 7.32=6, 7.33=5, 7.34=5, 7.35=7, 7.36=6, 7.37=3, 7.38=2, 7.39=2, 7.4=6, 7.41=4, 7.42=2, 7.43=2, 7.44=8, 7.45=3, 7.46=3, 7.47=3, 7.48=6, 7.49=1, 7.5=3, 7.51=3, 7.52=3, 7.53=6, 7.54=6, 7.55=1, 7.56=6, 7.57=5, 7.58=7, 7.59=2, 7.6=6, 7.61=8, 7.62=10, 7.63=2, 7.64=7, 7.65=6, 7.66=9, 7.67=5, 7.68=8, 7.69=5, 7.7=2, 7.71=3, 7.72=7, 7.73=6, 7.74=4, 7.75=6, 7.76=2, 7.77=6, 7.78=6, 7.79=4, 7.8=5, 7.81=4, 7.82=8, 7.83=6, 7.84=3, 7.85=6, 7.86=5, 7.87=1, 7.88=11, 7.89=5, 7.9=12, 7.91=4, 7.92=8, 7.93=4, 7.94=3, 7.95=3, 7.96=4, 7.97=8, 7.98=1, 7.99=6, 8.0=3, 8.01=1, 8.02=8, 8.03=8, 8.04=4, 8.05=4, 8.06=5, 8.07=4, 8.08=9, 8.09=5, 8.1=4, 8.11=5, 8.12=2, 8.13=4, 8.14=3, 8.15=9, 8.16=7, 8.17=2, 8.18=3, 8.19=2, 8.2=8, 8.21=12, 8.22=5, 8.23=1, 8.24=4, 8.25=4, 8.26=5, 8.27=2, 8.28=3, 8.29=5, 8.3=4, 8.31=9, 8.32=5, 8.33=5, 8.34=4, 8.35=5, 8.36=6, 8.37=5, 8.38=5, 8.39=2, 8.4=5, 8.41=3, 8.42=2, 8.43=6, 8.44=7, 8.45=2, 8.46=3, 8.47=4, 8.48=3, 8.49=4, 8.5=1, 8.51=3, 8.52=1, 8.53=9, 8.54=3, 8.55=4, 8.56=6, 8.57=7, 8.58=2, 8.59=0, 8.6=1, 8.61=2, 8.62=2, 8.63=9, 8.64=7, 8.65=2, 8.66=3, 8.67=2, 8.68=0, 8.69=7, 8.7=2, 8.71=8, 8.72=5, 8.73=6, 8.74=3, 8.75=6, 8.76=2, 8.77=1, 8.78=4, 8.79=5, 8.8=3, 8.81=5, 8.82=7, 8.83=2, 8.84=7, 8.85=5, 8.86=2, 8.87=2, 8.88=5, 8.89=3, 8.9=3, 8.91=6, 8.92=2, 8.93=2, 8.94=4, 8.95=5, 8.96=2, 8.97=3, 8.98=8, 8.99=4, 9.0=5, 9.01=3, 9.02=2, 9.03=1, 9.04=1, 9.05=2, 9.06=1, 9.07=1, 9.08=2, 9.09=0, 9.1=2, 9.11=2, 9.12=4, 9.13=2, 9.14=2, 9.15=1, 9.16=1, 9.17=7, 9.18=6, 9.19=2, 9.2=3, 9.21=2, 9.22=4, 9.23=2, 9.24=1, 9.25=3, 9.26=3, 9.27=3, 9.28=3, 9.29=2, 9.3=0, 9.31=4, 9.32=4, 9.33=2, 9.34=2, 9.35=1, 9.36=1, 9.37=0, 9.38=2, 9.39=3, 9.4=0, 9.41=3, 9.42=2, 9.43=1, 9.44=5, 9.45=4, 9.46=1, 9.47=2, 9.48=3, 9.49=1, 9.5=1, 9.51=1, 9.52=0, 9.53=3, 9.54=3, 9.55=2, 9.56=0, 9.57=1, 9.58=4, 9.59=1, 9.6=3, 9.61=1, 9.62=2, 9.63=2, 9.64=1, 9.65=0, 9.66=2, 9.67=2, 9.68=1, 9.69=3, 9.7=1, 9.71=0, 9.72=2, 9.73=3, 9.74=0, 9.75=1, 9.76=1, 9.77=0, 9.78=2, 9.79=0, 9.8=2, 9.81=0, 9.82=1, 9.83=2, 9.84=0, 9.85=0, 9.86=1, 9.87=0, 9.88=1, 9.89=2, 9.9=0, 9.91=0, 9.92=1, 9.93=0, 9.94=0, 9.95=0, 9.96=0, 9.97=1, 9.98=0, 9.99=0),\n",
       " Row(age_grade='26', 10.0=0, 5.03=0, 5.04=1, 5.05=0, 5.08=0, 5.09=1, 5.13=0, 5.16=0, 5.17=0, 5.18=0, 5.2=1, 5.24=0, 5.25=0, 5.29=0, 5.3=0, 5.31=0, 5.32=0, 5.35=0, 5.36=0, 5.37=1, 5.38=0, 5.4=0, 5.45=0, 5.46=1, 5.47=0, 5.48=0, 5.49=0, 5.5=0, 5.51=0, 5.53=0, 5.54=0, 5.55=0, 5.56=0, 5.57=0, 5.58=1, 5.59=0, 5.6=0, 5.62=0, 5.64=0, 5.65=0, 5.66=0, 5.67=0, 5.68=0, 5.69=0, 5.7=0, 5.71=1, 5.72=1, 5.73=0, 5.74=0, 5.75=0, 5.76=0, 5.77=0, 5.78=0, 5.79=0, 5.8=0, 5.81=0, 5.82=0, 5.83=1, 5.84=0, 5.85=0, 5.86=2, 5.87=0, 5.88=1, 5.89=1, 5.9=0, 5.91=0, 5.92=0, 5.93=1, 5.94=1, 5.95=1, 5.96=0, 5.97=1, 5.98=0, 5.99=0, 6.0=0, 6.01=0, 6.02=0, 6.03=1, 6.04=1, 6.05=0, 6.06=1, 6.07=0, 6.08=0, 6.09=0, 6.1=0, 6.11=0, 6.12=0, 6.13=2, 6.14=0, 6.15=0, 6.16=0, 6.17=0, 6.18=0, 6.19=1, 6.2=0, 6.21=1, 6.22=1, 6.23=0, 6.24=0, 6.25=0, 6.26=1, 6.27=0, 6.28=0, 6.29=1, 6.3=0, 6.31=1, 6.32=0, 6.33=0, 6.34=0, 6.35=1, 6.36=0, 6.37=0, 6.38=1, 6.39=0, 6.4=0, 6.41=1, 6.42=0, 6.43=0, 6.44=0, 6.45=0, 6.46=1, 6.47=0, 6.48=1, 6.49=0, 6.5=0, 6.51=0, 6.52=0, 6.53=1, 6.54=1, 6.55=1, 6.56=1, 6.57=0, 6.58=0, 6.59=2, 6.6=2, 6.61=0, 6.62=2, 6.63=0, 6.64=0, 6.65=1, 6.66=1, 6.67=2, 6.68=1, 6.69=1, 6.7=1, 6.71=0, 6.72=2, 6.73=1, 6.74=1, 6.75=1, 6.76=0, 6.77=0, 6.78=2, 6.79=2, 6.8=0, 6.81=1, 6.82=2, 6.83=1, 6.84=1, 6.85=0, 6.86=1, 6.87=1, 6.88=1, 6.89=0, 6.9=1, 6.91=3, 6.92=1, 6.93=2, 6.94=1, 6.95=0, 6.96=0, 6.97=4, 6.98=2, 6.99=0, 7.0=1, 7.01=1, 7.02=1, 7.03=2, 7.04=0, 7.05=3, 7.06=1, 7.07=1, 7.08=3, 7.09=1, 7.1=2, 7.11=0, 7.12=1, 7.13=1, 7.14=1, 7.15=1, 7.16=0, 7.17=2, 7.18=1, 7.19=1, 7.2=2, 7.21=2, 7.22=0, 7.23=4, 7.24=2, 7.25=2, 7.26=2, 7.27=0, 7.28=1, 7.29=3, 7.3=3, 7.31=3, 7.32=0, 7.33=3, 7.34=1, 7.35=2, 7.36=1, 7.37=2, 7.38=2, 7.39=0, 7.4=3, 7.41=4, 7.42=2, 7.43=0, 7.44=1, 7.45=0, 7.46=0, 7.47=3, 7.48=3, 7.49=3, 7.5=2, 7.51=3, 7.52=3, 7.53=1, 7.54=3, 7.55=5, 7.56=1, 7.57=3, 7.58=1, 7.59=0, 7.6=2, 7.61=4, 7.62=4, 7.63=1, 7.64=3, 7.65=3, 7.66=4, 7.67=2, 7.68=2, 7.69=2, 7.7=2, 7.71=1, 7.72=3, 7.73=4, 7.74=2, 7.75=1, 7.76=1, 7.77=0, 7.78=0, 7.79=4, 7.8=2, 7.81=4, 7.82=1, 7.83=4, 7.84=4, 7.85=1, 7.86=1, 7.87=3, 7.88=2, 7.89=2, 7.9=3, 7.91=2, 7.92=3, 7.93=1, 7.94=4, 7.95=1, 7.96=1, 7.97=2, 7.98=1, 7.99=2, 8.0=1, 8.01=4, 8.02=5, 8.03=1, 8.04=1, 8.05=1, 8.06=1, 8.07=2, 8.08=3, 8.09=2, 8.1=3, 8.11=2, 8.12=3, 8.13=2, 8.14=6, 8.15=1, 8.16=0, 8.17=2, 8.18=2, 8.19=1, 8.2=4, 8.21=2, 8.22=1, 8.23=4, 8.24=1, 8.25=2, 8.26=3, 8.27=1, 8.28=2, 8.29=0, 8.3=1, 8.31=2, 8.32=5, 8.33=2, 8.34=2, 8.35=2, 8.36=2, 8.37=1, 8.38=1, 8.39=1, 8.4=0, 8.41=4, 8.42=1, 8.43=1, 8.44=3, 8.45=3, 8.46=2, 8.47=0, 8.48=2, 8.49=1, 8.5=2, 8.51=1, 8.52=5, 8.53=3, 8.54=1, 8.55=2, 8.56=2, 8.57=2, 8.58=6, 8.59=1, 8.6=3, 8.61=2, 8.62=4, 8.63=1, 8.64=2, 8.65=3, 8.66=0, 8.67=0, 8.68=1, 8.69=2, 8.7=1, 8.71=3, 8.72=1, 8.73=1, 8.74=2, 8.75=3, 8.76=3, 8.77=2, 8.78=2, 8.79=0, 8.8=2, 8.81=0, 8.82=5, 8.83=3, 8.84=0, 8.85=1, 8.86=3, 8.87=3, 8.88=1, 8.89=1, 8.9=1, 8.91=0, 8.92=0, 8.93=2, 8.94=0, 8.95=0, 8.96=1, 8.97=3, 8.98=3, 8.99=0, 9.0=2, 9.01=1, 9.02=0, 9.03=1, 9.04=1, 9.05=1, 9.06=1, 9.07=1, 9.08=1, 9.09=1, 9.1=2, 9.11=0, 9.12=1, 9.13=2, 9.14=0, 9.15=0, 9.16=3, 9.17=1, 9.18=0, 9.19=1, 9.2=1, 9.21=1, 9.22=1, 9.23=0, 9.24=1, 9.25=2, 9.26=1, 9.27=0, 9.28=0, 9.29=3, 9.3=1, 9.31=0, 9.32=1, 9.33=0, 9.34=2, 9.35=3, 9.36=1, 9.37=1, 9.38=1, 9.39=0, 9.4=1, 9.41=0, 9.42=2, 9.43=1, 9.44=0, 9.45=0, 9.46=1, 9.47=1, 9.48=0, 9.49=0, 9.5=0, 9.51=0, 9.52=0, 9.53=0, 9.54=1, 9.55=0, 9.56=0, 9.57=0, 9.58=0, 9.59=0, 9.6=1, 9.61=0, 9.62=1, 9.63=0, 9.64=0, 9.65=1, 9.66=0, 9.67=0, 9.68=2, 9.69=1, 9.7=0, 9.71=0, 9.72=1, 9.73=0, 9.74=0, 9.75=0, 9.76=1, 9.77=0, 9.78=0, 9.79=0, 9.8=0, 9.81=0, 9.82=0, 9.83=0, 9.84=1, 9.85=0, 9.86=0, 9.87=1, 9.88=0, 9.89=0, 9.9=0, 9.91=0, 9.92=1, 9.93=0, 9.94=0, 9.95=0, 9.96=0, 9.97=0, 9.98=0, 9.99=0),\n",
       " Row(age_grade='27', 10.0=0, 5.03=1, 5.04=0, 5.05=0, 5.08=0, 5.09=0, 5.13=0, 5.16=0, 5.17=0, 5.18=0, 5.2=0, 5.24=0, 5.25=0, 5.29=0, 5.3=1, 5.31=0, 5.32=0, 5.35=0, 5.36=0, 5.37=0, 5.38=0, 5.4=0, 5.45=0, 5.46=0, 5.47=0, 5.48=0, 5.49=0, 5.5=0, 5.51=0, 5.53=0, 5.54=0, 5.55=0, 5.56=0, 5.57=0, 5.58=0, 5.59=0, 5.6=0, 5.62=1, 5.64=0, 5.65=1, 5.66=0, 5.67=0, 5.68=0, 5.69=0, 5.7=1, 5.71=0, 5.72=0, 5.73=0, 5.74=0, 5.75=0, 5.76=0, 5.77=0, 5.78=0, 5.79=0, 5.8=0, 5.81=0, 5.82=1, 5.83=0, 5.84=0, 5.85=0, 5.86=0, 5.87=0, 5.88=0, 5.89=0, 5.9=0, 5.91=0, 5.92=0, 5.93=0, 5.94=1, 5.95=1, 5.96=0, 5.97=0, 5.98=0, 5.99=0, 6.0=0, 6.01=0, 6.02=0, 6.03=0, 6.04=0, 6.05=0, 6.06=0, 6.07=0, 6.08=2, 6.09=2, 6.1=1, 6.11=1, 6.12=0, 6.13=0, 6.14=0, 6.15=1, 6.16=0, 6.17=0, 6.18=0, 6.19=0, 6.2=1, 6.21=1, 6.22=1, 6.23=0, 6.24=1, 6.25=1, 6.26=1, 6.27=0, 6.28=0, 6.29=2, 6.3=0, 6.31=0, 6.32=0, 6.33=0, 6.34=0, 6.35=0, 6.36=0, 6.37=1, 6.38=2, 6.39=0, 6.4=1, 6.41=0, 6.42=0, 6.43=0, 6.44=0, 6.45=0, 6.46=0, 6.47=1, 6.48=0, 6.49=0, 6.5=1, 6.51=0, 6.52=1, 6.53=1, 6.54=0, 6.55=0, 6.56=1, 6.57=1, 6.58=0, 6.59=1, 6.6=0, 6.61=0, 6.62=0, 6.63=0, 6.64=0, 6.65=0, 6.66=0, 6.67=1, 6.68=1, 6.69=5, 6.7=0, 6.71=0, 6.72=1, 6.73=0, 6.74=1, 6.75=0, 6.76=0, 6.77=0, 6.78=0, 6.79=1, 6.8=1, 6.81=1, 6.82=1, 6.83=1, 6.84=2, 6.85=2, 6.86=1, 6.87=0, 6.88=2, 6.89=1, 6.9=1, 6.91=0, 6.92=1, 6.93=3, 6.94=3, 6.95=0, 6.96=1, 6.97=0, 6.98=0, 6.99=1, 7.0=1, 7.01=0, 7.02=0, 7.03=6, 7.04=3, 7.05=0, 7.06=0, 7.07=1, 7.08=0, 7.09=0, 7.1=2, 7.11=2, 7.12=3, 7.13=1, 7.14=2, 7.15=3, 7.16=1, 7.17=0, 7.18=1, 7.19=2, 7.2=0, 7.21=3, 7.22=1, 7.23=2, 7.24=1, 7.25=2, 7.26=1, 7.27=0, 7.28=0, 7.29=0, 7.3=1, 7.31=0, 7.32=0, 7.33=2, 7.34=2, 7.35=1, 7.36=0, 7.37=1, 7.38=0, 7.39=3, 7.4=2, 7.41=0, 7.42=3, 7.43=1, 7.44=1, 7.45=1, 7.46=3, 7.47=0, 7.48=1, 7.49=1, 7.5=4, 7.51=0, 7.52=2, 7.53=2, 7.54=1, 7.55=1, 7.56=0, 7.57=1, 7.58=4, 7.59=2, 7.6=0, 7.61=3, 7.62=0, 7.63=2, 7.64=0, 7.65=0, 7.66=1, 7.67=0, 7.68=1, 7.69=4, 7.7=0, 7.71=2, 7.72=3, 7.73=0, 7.74=4, 7.75=0, 7.76=2, 7.77=2, 7.78=1, 7.79=0, 7.8=1, 7.81=3, 7.82=1, 7.83=3, 7.84=2, 7.85=2, 7.86=4, 7.87=0, 7.88=2, 7.89=2, 7.9=1, 7.91=3, 7.92=4, 7.93=3, 7.94=1, 7.95=2, 7.96=4, 7.97=0, 7.98=0, 7.99=5, 8.0=1, 8.01=2, 8.02=2, 8.03=2, 8.04=2, 8.05=2, 8.06=2, 8.07=2, 8.08=2, 8.09=0, 8.1=0, 8.11=2, 8.12=2, 8.13=0, 8.14=1, 8.15=2, 8.16=0, 8.17=2, 8.18=4, 8.19=0, 8.2=1, 8.21=0, 8.22=2, 8.23=1, 8.24=0, 8.25=1, 8.26=1, 8.27=1, 8.28=4, 8.29=3, 8.3=4, 8.31=3, 8.32=3, 8.33=2, 8.34=2, 8.35=5, 8.36=2, 8.37=2, 8.38=3, 8.39=2, 8.4=4, 8.41=3, 8.42=2, 8.43=2, 8.44=2, 8.45=1, 8.46=3, 8.47=2, 8.48=0, 8.49=2, 8.5=0, 8.51=0, 8.52=1, 8.53=1, 8.54=4, 8.55=1, 8.56=0, 8.57=3, 8.58=1, 8.59=1, 8.6=1, 8.61=3, 8.62=2, 8.63=3, 8.64=3, 8.65=1, 8.66=0, 8.67=0, 8.68=3, 8.69=0, 8.7=1, 8.71=0, 8.72=0, 8.73=1, 8.74=0, 8.75=1, 8.76=1, 8.77=2, 8.78=2, 8.79=0, 8.8=0, 8.81=3, 8.82=2, 8.83=0, 8.84=2, 8.85=1, 8.86=0, 8.87=0, 8.88=2, 8.89=1, 8.9=1, 8.91=2, 8.92=1, 8.93=3, 8.94=2, 8.95=0, 8.96=0, 8.97=0, 8.98=0, 8.99=1, 9.0=0, 9.01=1, 9.02=0, 9.03=0, 9.04=0, 9.05=1, 9.06=1, 9.07=0, 9.08=0, 9.09=0, 9.1=2, 9.11=2, 9.12=0, 9.13=0, 9.14=0, 9.15=1, 9.16=1, 9.17=1, 9.18=0, 9.19=0, 9.2=0, 9.21=1, 9.22=1, 9.23=1, 9.24=0, 9.25=1, 9.26=1, 9.27=1, 9.28=1, 9.29=0, 9.3=2, 9.31=0, 9.32=0, 9.33=0, 9.34=1, 9.35=0, 9.36=1, 9.37=2, 9.38=1, 9.39=0, 9.4=0, 9.41=0, 9.42=2, 9.43=0, 9.44=2, 9.45=0, 9.46=3, 9.47=1, 9.48=1, 9.49=0, 9.5=0, 9.51=0, 9.52=0, 9.53=1, 9.54=0, 9.55=0, 9.56=0, 9.57=0, 9.58=0, 9.59=0, 9.6=1, 9.61=0, 9.62=0, 9.63=0, 9.64=0, 9.65=2, 9.66=0, 9.67=0, 9.68=0, 9.69=2, 9.7=0, 9.71=0, 9.72=1, 9.73=0, 9.74=0, 9.75=0, 9.76=0, 9.77=0, 9.78=1, 9.79=1, 9.8=0, 9.81=0, 9.82=0, 9.83=0, 9.84=0, 9.85=0, 9.86=0, 9.87=1, 9.88=1, 9.89=0, 9.9=3, 9.91=0, 9.92=0, 9.93=0, 9.94=0, 9.95=0, 9.96=0, 9.97=1, 9.98=0, 9.99=0),\n",
       " Row(age_grade='33', 10.0=0, 5.03=0, 5.04=0, 5.05=0, 5.08=0, 5.09=0, 5.13=0, 5.16=0, 5.17=0, 5.18=0, 5.2=0, 5.24=0, 5.25=0, 5.29=0, 5.3=0, 5.31=0, 5.32=0, 5.35=0, 5.36=0, 5.37=0, 5.38=0, 5.4=0, 5.45=0, 5.46=0, 5.47=0, 5.48=0, 5.49=0, 5.5=0, 5.51=0, 5.53=0, 5.54=0, 5.55=0, 5.56=0, 5.57=0, 5.58=0, 5.59=0, 5.6=0, 5.62=0, 5.64=0, 5.65=0, 5.66=0, 5.67=0, 5.68=0, 5.69=0, 5.7=0, 5.71=0, 5.72=0, 5.73=0, 5.74=0, 5.75=0, 5.76=0, 5.77=0, 5.78=0, 5.79=0, 5.8=0, 5.81=0, 5.82=0, 5.83=0, 5.84=0, 5.85=0, 5.86=0, 5.87=0, 5.88=0, 5.89=0, 5.9=0, 5.91=0, 5.92=0, 5.93=0, 5.94=0, 5.95=0, 5.96=0, 5.97=0, 5.98=0, 5.99=0, 6.0=0, 6.01=0, 6.02=0, 6.03=0, 6.04=0, 6.05=0, 6.06=0, 6.07=0, 6.08=0, 6.09=0, 6.1=0, 6.11=0, 6.12=0, 6.13=0, 6.14=0, 6.15=0, 6.16=0, 6.17=0, 6.18=0, 6.19=0, 6.2=0, 6.21=0, 6.22=0, 6.23=0, 6.24=0, 6.25=0, 6.26=0, 6.27=0, 6.28=0, 6.29=0, 6.3=0, 6.31=0, 6.32=0, 6.33=0, 6.34=0, 6.35=0, 6.36=0, 6.37=0, 6.38=0, 6.39=0, 6.4=0, 6.41=0, 6.42=0, 6.43=0, 6.44=0, 6.45=0, 6.46=0, 6.47=0, 6.48=0, 6.49=0, 6.5=0, 6.51=0, 6.52=0, 6.53=0, 6.54=0, 6.55=0, 6.56=0, 6.57=0, 6.58=0, 6.59=0, 6.6=0, 6.61=0, 6.62=0, 6.63=0, 6.64=1, 6.65=0, 6.66=0, 6.67=0, 6.68=0, 6.69=0, 6.7=0, 6.71=0, 6.72=0, 6.73=0, 6.74=0, 6.75=0, 6.76=0, 6.77=0, 6.78=0, 6.79=0, 6.8=0, 6.81=0, 6.82=0, 6.83=0, 6.84=0, 6.85=0, 6.86=0, 6.87=0, 6.88=0, 6.89=0, 6.9=0, 6.91=0, 6.92=0, 6.93=0, 6.94=0, 6.95=0, 6.96=0, 6.97=0, 6.98=1, 6.99=0, 7.0=0, 7.01=0, 7.02=0, 7.03=0, 7.04=0, 7.05=0, 7.06=0, 7.07=0, 7.08=0, 7.09=0, 7.1=0, 7.11=0, 7.12=0, 7.13=0, 7.14=0, 7.15=0, 7.16=0, 7.17=0, 7.18=0, 7.19=0, 7.2=0, 7.21=0, 7.22=0, 7.23=0, 7.24=0, 7.25=0, 7.26=0, 7.27=0, 7.28=0, 7.29=0, 7.3=0, 7.31=0, 7.32=0, 7.33=0, 7.34=0, 7.35=0, 7.36=0, 7.37=0, 7.38=0, 7.39=0, 7.4=0, 7.41=0, 7.42=0, 7.43=0, 7.44=0, 7.45=0, 7.46=0, 7.47=0, 7.48=0, 7.49=0, 7.5=0, 7.51=0, 7.52=0, 7.53=0, 7.54=0, 7.55=0, 7.56=0, 7.57=0, 7.58=0, 7.59=0, 7.6=0, 7.61=0, 7.62=0, 7.63=0, 7.64=1, 7.65=0, 7.66=1, 7.67=0, 7.68=0, 7.69=0, 7.7=0, 7.71=0, 7.72=1, 7.73=0, 7.74=0, 7.75=1, 7.76=0, 7.77=0, 7.78=0, 7.79=0, 7.8=0, 7.81=0, 7.82=0, 7.83=0, 7.84=0, 7.85=0, 7.86=0, 7.87=0, 7.88=0, 7.89=0, 7.9=0, 7.91=0, 7.92=0, 7.93=0, 7.94=0, 7.95=0, 7.96=0, 7.97=0, 7.98=0, 7.99=0, 8.0=0, 8.01=0, 8.02=0, 8.03=0, 8.04=0, 8.05=0, 8.06=0, 8.07=0, 8.08=0, 8.09=0, 8.1=0, 8.11=3, 8.12=0, 8.13=0, 8.14=0, 8.15=0, 8.16=0, 8.17=0, 8.18=0, 8.19=0, 8.2=0, 8.21=0, 8.22=0, 8.23=0, 8.24=0, 8.25=0, 8.26=0, 8.27=0, 8.28=0, 8.29=0, 8.3=1, 8.31=0, 8.32=0, 8.33=0, 8.34=1, 8.35=1, 8.36=0, 8.37=0, 8.38=0, 8.39=0, 8.4=0, 8.41=0, 8.42=0, 8.43=0, 8.44=0, 8.45=0, 8.46=0, 8.47=0, 8.48=0, 8.49=0, 8.5=0, 8.51=0, 8.52=0, 8.53=0, 8.54=0, 8.55=0, 8.56=0, 8.57=0, 8.58=0, 8.59=0, 8.6=0, 8.61=0, 8.62=0, 8.63=0, 8.64=0, 8.65=0, 8.66=0, 8.67=0, 8.68=0, 8.69=0, 8.7=0, 8.71=0, 8.72=0, 8.73=0, 8.74=0, 8.75=0, 8.76=0, 8.77=0, 8.78=0, 8.79=0, 8.8=0, 8.81=1, 8.82=1, 8.83=0, 8.84=0, 8.85=0, 8.86=0, 8.87=0, 8.88=0, 8.89=0, 8.9=0, 8.91=0, 8.92=0, 8.93=0, 8.94=0, 8.95=0, 8.96=1, 8.97=0, 8.98=0, 8.99=0, 9.0=0, 9.01=0, 9.02=0, 9.03=0, 9.04=0, 9.05=0, 9.06=0, 9.07=0, 9.08=0, 9.09=0, 9.1=0, 9.11=0, 9.12=0, 9.13=0, 9.14=0, 9.15=0, 9.16=0, 9.17=0, 9.18=0, 9.19=0, 9.2=0, 9.21=0, 9.22=0, 9.23=0, 9.24=0, 9.25=0, 9.26=0, 9.27=0, 9.28=0, 9.29=0, 9.3=0, 9.31=0, 9.32=0, 9.33=0, 9.34=0, 9.35=1, 9.36=0, 9.37=0, 9.38=0, 9.39=0, 9.4=0, 9.41=0, 9.42=1, 9.43=0, 9.44=0, 9.45=0, 9.46=0, 9.47=0, 9.48=0, 9.49=0, 9.5=0, 9.51=0, 9.52=0, 9.53=0, 9.54=0, 9.55=0, 9.56=0, 9.57=0, 9.58=0, 9.59=0, 9.6=0, 9.61=0, 9.62=0, 9.63=0, 9.64=0, 9.65=0, 9.66=0, 9.67=0, 9.68=0, 9.69=0, 9.7=0, 9.71=0, 9.72=0, 9.73=0, 9.74=0, 9.75=0, 9.76=0, 9.77=0, 9.78=0, 9.79=0, 9.8=0, 9.81=0, 9.82=0, 9.83=0, 9.84=0, 9.85=0, 9.86=0, 9.87=0, 9.88=0, 9.89=0, 9.9=0, 9.91=0, 9.92=0, 9.93=0, 9.94=0, 9.95=0, 9.96=0, 9.97=0, 9.98=0, 9.99=0),\n",
       " Row(age_grade='35', 10.0=0, 5.03=0, 5.04=0, 5.05=0, 5.08=0, 5.09=0, 5.13=0, 5.16=0, 5.17=0, 5.18=0, 5.2=0, 5.24=0, 5.25=0, 5.29=0, 5.3=0, 5.31=0, 5.32=0, 5.35=0, 5.36=0, 5.37=0, 5.38=0, 5.4=0, 5.45=0, 5.46=0, 5.47=0, 5.48=0, 5.49=0, 5.5=0, 5.51=0, 5.53=0, 5.54=0, 5.55=0, 5.56=0, 5.57=0, 5.58=0, 5.59=0, 5.6=0, 5.62=0, 5.64=0, 5.65=0, 5.66=0, 5.67=0, 5.68=0, 5.69=0, 5.7=0, 5.71=0, 5.72=0, 5.73=0, 5.74=0, 5.75=0, 5.76=0, 5.77=0, 5.78=0, 5.79=0, 5.8=0, 5.81=0, 5.82=0, 5.83=0, 5.84=0, 5.85=0, 5.86=0, 5.87=0, 5.88=0, 5.89=0, 5.9=0, 5.91=0, 5.92=0, 5.93=0, 5.94=0, 5.95=0, 5.96=0, 5.97=0, 5.98=0, 5.99=0, 6.0=0, 6.01=0, 6.02=0, 6.03=0, 6.04=0, 6.05=0, 6.06=0, 6.07=0, 6.08=0, 6.09=0, 6.1=0, 6.11=0, 6.12=0, 6.13=0, 6.14=0, 6.15=0, 6.16=0, 6.17=0, 6.18=0, 6.19=0, 6.2=0, 6.21=0, 6.22=0, 6.23=0, 6.24=0, 6.25=0, 6.26=0, 6.27=0, 6.28=0, 6.29=0, 6.3=0, 6.31=0, 6.32=0, 6.33=0, 6.34=0, 6.35=0, 6.36=0, 6.37=0, 6.38=0, 6.39=0, 6.4=0, 6.41=0, 6.42=0, 6.43=0, 6.44=0, 6.45=0, 6.46=0, 6.47=0, 6.48=0, 6.49=0, 6.5=0, 6.51=0, 6.52=0, 6.53=0, 6.54=0, 6.55=0, 6.56=0, 6.57=0, 6.58=0, 6.59=0, 6.6=0, 6.61=0, 6.62=0, 6.63=0, 6.64=0, 6.65=0, 6.66=0, 6.67=0, 6.68=0, 6.69=0, 6.7=0, 6.71=0, 6.72=0, 6.73=0, 6.74=0, 6.75=0, 6.76=0, 6.77=0, 6.78=0, 6.79=0, 6.8=0, 6.81=0, 6.82=0, 6.83=0, 6.84=0, 6.85=0, 6.86=0, 6.87=0, 6.88=0, 6.89=0, 6.9=0, 6.91=1, 6.92=0, 6.93=0, 6.94=0, 6.95=0, 6.96=0, 6.97=0, 6.98=0, 6.99=0, 7.0=0, 7.01=0, 7.02=0, 7.03=0, 7.04=0, 7.05=0, 7.06=0, 7.07=0, 7.08=0, 7.09=0, 7.1=0, 7.11=0, 7.12=0, 7.13=0, 7.14=1, 7.15=0, 7.16=0, 7.17=0, 7.18=0, 7.19=0, 7.2=0, 7.21=0, 7.22=0, 7.23=0, 7.24=0, 7.25=0, 7.26=0, 7.27=0, 7.28=0, 7.29=0, 7.3=0, 7.31=0, 7.32=0, 7.33=0, 7.34=0, 7.35=0, 7.36=0, 7.37=0, 7.38=0, 7.39=0, 7.4=0, 7.41=0, 7.42=0, 7.43=0, 7.44=0, 7.45=0, 7.46=0, 7.47=0, 7.48=0, 7.49=0, 7.5=0, 7.51=1, 7.52=0, 7.53=0, 7.54=0, 7.55=0, 7.56=0, 7.57=0, 7.58=0, 7.59=0, 7.6=0, 7.61=0, 7.62=0, 7.63=0, 7.64=0, 7.65=0, 7.66=0, 7.67=0, 7.68=0, 7.69=0, 7.7=0, 7.71=0, 7.72=0, 7.73=0, 7.74=0, 7.75=0, 7.76=0, 7.77=0, 7.78=0, 7.79=0, 7.8=0, 7.81=0, 7.82=0, 7.83=0, 7.84=0, 7.85=0, 7.86=0, 7.87=0, 7.88=0, 7.89=0, 7.9=0, 7.91=0, 7.92=0, 7.93=0, 7.94=0, 7.95=0, 7.96=0, 7.97=0, 7.98=0, 7.99=0, 8.0=0, 8.01=0, 8.02=0, 8.03=0, 8.04=0, 8.05=0, 8.06=0, 8.07=0, 8.08=0, 8.09=0, 8.1=0, 8.11=0, 8.12=0, 8.13=0, 8.14=0, 8.15=0, 8.16=0, 8.17=0, 8.18=0, 8.19=0, 8.2=0, 8.21=0, 8.22=0, 8.23=0, 8.24=0, 8.25=0, 8.26=0, 8.27=0, 8.28=0, 8.29=0, 8.3=0, 8.31=0, 8.32=0, 8.33=0, 8.34=0, 8.35=0, 8.36=0, 8.37=0, 8.38=0, 8.39=0, 8.4=0, 8.41=0, 8.42=0, 8.43=0, 8.44=1, 8.45=0, 8.46=0, 8.47=0, 8.48=0, 8.49=1, 8.5=0, 8.51=0, 8.52=0, 8.53=0, 8.54=0, 8.55=0, 8.56=0, 8.57=0, 8.58=0, 8.59=0, 8.6=0, 8.61=0, 8.62=0, 8.63=0, 8.64=0, 8.65=0, 8.66=0, 8.67=0, 8.68=0, 8.69=0, 8.7=0, 8.71=0, 8.72=0, 8.73=0, 8.74=0, 8.75=0, 8.76=0, 8.77=0, 8.78=0, 8.79=0, 8.8=0, 8.81=0, 8.82=0, 8.83=0, 8.84=0, 8.85=0, 8.86=0, 8.87=0, 8.88=0, 8.89=0, 8.9=0, 8.91=0, 8.92=0, 8.93=0, 8.94=0, 8.95=0, 8.96=0, 8.97=0, 8.98=0, 8.99=0, 9.0=0, 9.01=0, 9.02=0, 9.03=0, 9.04=0, 9.05=0, 9.06=0, 9.07=0, 9.08=0, 9.09=0, 9.1=0, 9.11=0, 9.12=0, 9.13=0, 9.14=0, 9.15=0, 9.16=0, 9.17=0, 9.18=0, 9.19=0, 9.2=0, 9.21=0, 9.22=0, 9.23=0, 9.24=0, 9.25=0, 9.26=0, 9.27=0, 9.28=0, 9.29=0, 9.3=0, 9.31=0, 9.32=0, 9.33=0, 9.34=0, 9.35=0, 9.36=0, 9.37=0, 9.38=0, 9.39=0, 9.4=0, 9.41=0, 9.42=0, 9.43=0, 9.44=0, 9.45=0, 9.46=0, 9.47=0, 9.48=0, 9.49=0, 9.5=0, 9.51=0, 9.52=0, 9.53=0, 9.54=0, 9.55=0, 9.56=0, 9.57=0, 9.58=0, 9.59=0, 9.6=0, 9.61=0, 9.62=0, 9.63=0, 9.64=0, 9.65=0, 9.66=0, 9.67=0, 9.68=0, 9.69=0, 9.7=0, 9.71=0, 9.72=0, 9.73=0, 9.74=0, 9.75=0, 9.76=0, 9.77=0, 9.78=0, 9.79=0, 9.8=0, 9.81=0, 9.82=0, 9.83=0, 9.84=0, 9.85=0, 9.86=0, 9.87=0, 9.88=0, 9.89=0, 9.9=0, 9.91=0, 9.92=0, 9.93=0, 9.94=0, 9.95=0, 9.96=0, 9.97=0, 9.98=0, 9.99=0),\n",
       " Row(age_grade='24', 10.0=0, 5.03=0, 5.04=0, 5.05=0, 5.08=0, 5.09=0, 5.13=0, 5.16=0, 5.17=1, 5.18=0, 5.2=1, 5.24=0, 5.25=0, 5.29=0, 5.3=0, 5.31=0, 5.32=0, 5.35=0, 5.36=0, 5.37=0, 5.38=0, 5.4=0, 5.45=1, 5.46=0, 5.47=0, 5.48=1, 5.49=1, 5.5=0, 5.51=0, 5.53=1, 5.54=1, 5.55=0, 5.56=1, 5.57=0, 5.58=0, 5.59=0, 5.6=0, 5.62=0, 5.64=0, 5.65=0, 5.66=0, 5.67=0, 5.68=0, 5.69=0, 5.7=0, 5.71=1, 5.72=0, 5.73=0, 5.74=0, 5.75=0, 5.76=0, 5.77=0, 5.78=1, 5.79=0, 5.8=0, 5.81=0, 5.82=0, 5.83=0, 5.84=0, 5.85=0, 5.86=0, 5.87=1, 5.88=0, 5.89=1, 5.9=0, 5.91=0, 5.92=0, 5.93=0, 5.94=3, 5.95=0, 5.96=0, 5.97=1, 5.98=0, 5.99=0, 6.0=0, 6.01=0, 6.02=0, 6.03=1, 6.04=0, 6.05=0, 6.06=0, 6.07=1, 6.08=2, 6.09=0, 6.1=0, 6.11=1, 6.12=1, 6.13=0, 6.14=2, 6.15=0, 6.16=1, 6.17=0, 6.18=2, 6.19=0, 6.2=1, 6.21=0, 6.22=3, 6.23=1, 6.24=1, 6.25=0, 6.26=0, 6.27=1, 6.28=0, 6.29=1, 6.3=0, 6.31=1, 6.32=0, 6.33=0, 6.34=1, 6.35=0, 6.36=1, 6.37=2, 6.38=2, 6.39=0, 6.4=2, 6.41=1, 6.42=0, 6.43=2, 6.44=0, 6.45=1, 6.46=2, 6.47=1, 6.48=0, 6.49=2, 6.5=1, 6.51=1, 6.52=1, 6.53=1, 6.54=1, 6.55=2, 6.56=1, 6.57=0, 6.58=0, 6.59=1, 6.6=1, 6.61=0, 6.62=0, 6.63=2, 6.64=0, 6.65=1, 6.66=0, 6.67=1, 6.68=2, 6.69=1, 6.7=0, 6.71=1, 6.72=1, 6.73=2, 6.74=1, 6.75=2, 6.76=2, 6.77=0, 6.78=3, 6.79=2, 6.8=0, 6.81=3, 6.82=2, 6.83=0, 6.84=3, 6.85=0, 6.86=2, 6.87=3, 6.88=0, 6.89=2, 6.9=1, 6.91=1, 6.92=1, 6.93=1, 6.94=0, 6.95=2, 6.96=2, 6.97=3, 6.98=2, 6.99=0, 7.0=3, 7.01=4, 7.02=2, 7.03=4, 7.04=3, 7.05=6, 7.06=1, 7.07=2, 7.08=1, 7.09=1, 7.1=7, 7.11=3, 7.12=3, 7.13=3, 7.14=3, 7.15=3, 7.16=1, 7.17=4, 7.18=2, 7.19=4, 7.2=2, 7.21=1, 7.22=2, 7.23=0, 7.24=4, 7.25=2, 7.26=5, 7.27=3, 7.28=0, 7.29=1, 7.3=4, 7.31=1, 7.32=2, 7.33=2, 7.34=0, 7.35=1, 7.36=3, 7.37=3, 7.38=2, 7.39=4, 7.4=3, 7.41=2, 7.42=1, 7.43=1, 7.44=6, 7.45=1, 7.46=5, 7.47=4, 7.48=0, 7.49=1, 7.5=2, 7.51=4, 7.52=3, 7.53=2, 7.54=2, 7.55=3, 7.56=3, 7.57=3, 7.58=5, 7.59=2, 7.6=5, 7.61=1, 7.62=3, 7.63=5, 7.64=0, 7.65=3, 7.66=4, 7.67=3, 7.68=3, 7.69=3, 7.7=1, 7.71=1, 7.72=4, 7.73=7, 7.74=4, 7.75=2, 7.76=4, 7.77=3, 7.78=4, 7.79=5, 7.8=4, 7.81=1, 7.82=3, 7.83=5, 7.84=4, 7.85=3, 7.86=5, 7.87=2, 7.88=2, 7.89=2, 7.9=4, 7.91=1, 7.92=2, 7.93=4, 7.94=3, 7.95=4, 7.96=1, 7.97=2, 7.98=3, 7.99=4, 8.0=3, 8.01=1, 8.02=1, 8.03=3, 8.04=5, 8.05=1, 8.06=3, 8.07=5, 8.08=6, 8.09=2, 8.1=3, 8.11=4, 8.12=2, 8.13=3, 8.14=5, 8.15=3, 8.16=5, 8.17=6, 8.18=5, 8.19=2, 8.2=2, 8.21=5, 8.22=3, 8.23=3, 8.24=4, 8.25=4, 8.26=5, 8.27=4, 8.28=0, 8.29=5, 8.3=5, 8.31=7, 8.32=2, 8.33=1, 8.34=3, 8.35=7, 8.36=4, 8.37=5, 8.38=4, 8.39=3, 8.4=3, 8.41=5, 8.42=2, 8.43=2, 8.44=5, 8.45=3, 8.46=4, 8.47=2, 8.48=4, 8.49=2, 8.5=4, 8.51=1, 8.52=4, 8.53=3, 8.54=3, 8.55=2, 8.56=3, 8.57=1, 8.58=3, 8.59=0, 8.6=3, 8.61=3, 8.62=2, 8.63=2, 8.64=0, 8.65=6, 8.66=3, 8.67=8, 8.68=2, 8.69=2, 8.7=3, 8.71=2, 8.72=4, 8.73=3, 8.74=0, 8.75=3, 8.76=2, 8.77=3, 8.78=3, 8.79=6, 8.8=4, 8.81=1, 8.82=0, 8.83=2, 8.84=4, 8.85=3, 8.86=1, 8.87=1, 8.88=1, 8.89=4, 8.9=3, 8.91=1, 8.92=4, 8.93=1, 8.94=3, 8.95=3, 8.96=3, 8.97=2, 8.98=4, 8.99=4, 9.0=0, 9.01=2, 9.02=5, 9.03=1, 9.04=1, 9.05=0, 9.06=1, 9.07=4, 9.08=2, 9.09=2, 9.1=2, 9.11=5, 9.12=3, 9.13=1, 9.14=6, 9.15=0, 9.16=2, 9.17=1, 9.18=2, 9.19=1, 9.2=1, 9.21=0, 9.22=0, 9.23=2, 9.24=1, 9.25=2, 9.26=1, 9.27=3, 9.28=1, 9.29=1, 9.3=0, 9.31=2, 9.32=0, 9.33=3, 9.34=1, 9.35=1, 9.36=0, 9.37=2, 9.38=2, 9.39=3, 9.4=0, 9.41=3, 9.42=4, 9.43=0, 9.44=2, 9.45=0, 9.46=2, 9.47=4, 9.48=2, 9.49=1, 9.5=1, 9.51=1, 9.52=2, 9.53=1, 9.54=1, 9.55=1, 9.56=0, 9.57=2, 9.58=0, 9.59=2, 9.6=1, 9.61=1, 9.62=1, 9.63=1, 9.64=0, 9.65=0, 9.66=3, 9.67=0, 9.68=0, 9.69=1, 9.7=1, 9.71=2, 9.72=1, 9.73=0, 9.74=0, 9.75=3, 9.76=2, 9.77=1, 9.78=0, 9.79=0, 9.8=1, 9.81=0, 9.82=1, 9.83=0, 9.84=0, 9.85=1, 9.86=0, 9.87=1, 9.88=0, 9.89=1, 9.9=0, 9.91=0, 9.92=1, 9.93=0, 9.94=0, 9.95=0, 9.96=0, 9.97=1, 9.98=0, 9.99=0),\n",
       " Row(age_grade='28', 10.0=0, 5.03=0, 5.04=0, 5.05=0, 5.08=0, 5.09=0, 5.13=0, 5.16=0, 5.17=0, 5.18=0, 5.2=0, 5.24=0, 5.25=0, 5.29=0, 5.3=0, 5.31=0, 5.32=0, 5.35=0, 5.36=0, 5.37=0, 5.38=0, 5.4=0, 5.45=0, 5.46=0, 5.47=0, 5.48=0, 5.49=0, 5.5=0, 5.51=0, 5.53=0, 5.54=0, 5.55=0, 5.56=0, 5.57=0, 5.58=0, 5.59=0, 5.6=0, 5.62=0, 5.64=0, 5.65=0, 5.66=0, 5.67=0, 5.68=0, 5.69=0, 5.7=0, 5.71=0, 5.72=0, 5.73=0, 5.74=0, 5.75=0, 5.76=0, 5.77=0, 5.78=0, 5.79=0, 5.8=0, 5.81=0, 5.82=0, 5.83=0, 5.84=1, 5.85=0, 5.86=0, 5.87=0, 5.88=0, 5.89=0, 5.9=0, 5.91=0, 5.92=0, 5.93=0, 5.94=0, 5.95=0, 5.96=0, 5.97=0, 5.98=0, 5.99=0, 6.0=0, 6.01=0, 6.02=1, 6.03=1, 6.04=0, 6.05=0, 6.06=1, 6.07=0, 6.08=0, 6.09=0, 6.1=0, 6.11=0, 6.12=0, 6.13=0, 6.14=0, 6.15=0, 6.16=0, 6.17=0, 6.18=0, 6.19=0, 6.2=0, 6.21=0, 6.22=0, 6.23=0, 6.24=1, 6.25=0, 6.26=0, 6.27=0, 6.28=0, 6.29=0, 6.3=0, 6.31=0, 6.32=1, 6.33=0, 6.34=0, 6.35=0, 6.36=0, 6.37=0, 6.38=0, 6.39=0, 6.4=1, 6.41=0, 6.42=2, 6.43=1, 6.44=0, 6.45=0, 6.46=0, 6.47=1, 6.48=0, 6.49=0, 6.5=0, 6.51=0, 6.52=0, 6.53=1, 6.54=0, 6.55=0, 6.56=1, 6.57=0, 6.58=1, 6.59=0, 6.6=2, 6.61=1, 6.62=0, 6.63=1, 6.64=0, 6.65=2, 6.66=1, 6.67=0, 6.68=0, 6.69=2, 6.7=1, 6.71=0, 6.72=0, 6.73=0, 6.74=1, 6.75=1, 6.76=0, 6.77=1, 6.78=0, 6.79=0, 6.8=0, 6.81=0, 6.82=0, 6.83=0, 6.84=0, 6.85=0, 6.86=1, 6.87=1, 6.88=0, 6.89=1, 6.9=1, 6.91=0, 6.92=0, 6.93=0, 6.94=1, 6.95=0, 6.96=0, 6.97=1, 6.98=1, 6.99=0, 7.0=0, 7.01=0, 7.02=0, 7.03=0, 7.04=1, 7.05=1, 7.06=2, 7.07=2, 7.08=1, 7.09=0, 7.1=2, 7.11=1, 7.12=0, 7.13=0, 7.14=0, 7.15=0, 7.16=3, 7.17=1, 7.18=2, 7.19=0, 7.2=2, 7.21=0, 7.22=0, 7.23=0, 7.24=1, 7.25=2, 7.26=0, 7.27=2, 7.28=0, 7.29=2, 7.3=2, 7.31=2, 7.32=1, 7.33=2, 7.34=1, 7.35=2, 7.36=1, 7.37=0, 7.38=0, 7.39=3, 7.4=0, 7.41=0, 7.42=1, 7.43=4, 7.44=0, 7.45=1, 7.46=2, 7.47=2, 7.48=2, 7.49=0, 7.5=1, 7.51=1, 7.52=0, 7.53=2, 7.54=2, 7.55=2, 7.56=0, 7.57=4, 7.58=3, 7.59=1, 7.6=1, 7.61=0, 7.62=1, 7.63=2, 7.64=0, 7.65=1, 7.66=1, 7.67=0, 7.68=1, 7.69=1, 7.7=0, 7.71=0, 7.72=2, 7.73=1, 7.74=0, 7.75=1, 7.76=3, 7.77=2, 7.78=0, 7.79=2, 7.8=2, 7.81=2, 7.82=1, 7.83=3, 7.84=2, 7.85=1, 7.86=1, 7.87=1, 7.88=0, 7.89=1, 7.9=3, 7.91=2, 7.92=0, 7.93=2, 7.94=1, 7.95=2, 7.96=2, 7.97=2, 7.98=1, 7.99=2, 8.0=0, 8.01=1, 8.02=0, 8.03=1, 8.04=1, 8.05=0, 8.06=3, 8.07=2, 8.08=2, 8.09=1, 8.1=5, 8.11=1, 8.12=1, 8.13=0, 8.14=2, 8.15=2, 8.16=0, 8.17=2, 8.18=2, 8.19=1, 8.2=1, 8.21=1, 8.22=2, 8.23=0, 8.24=2, 8.25=0, 8.26=1, 8.27=2, 8.28=2, 8.29=1, 8.3=1, 8.31=2, 8.32=0, 8.33=1, 8.34=3, 8.35=0, 8.36=1, 8.37=2, 8.38=2, 8.39=2, 8.4=1, 8.41=0, 8.42=2, 8.43=0, 8.44=0, 8.45=3, 8.46=0, 8.47=0, 8.48=2, 8.49=2, 8.5=1, 8.51=0, 8.52=0, 8.53=0, 8.54=1, 8.55=0, 8.56=1, 8.57=0, 8.58=1, 8.59=2, 8.6=0, 8.61=0, 8.62=1, 8.63=1, 8.64=2, 8.65=2, 8.66=1, 8.67=0, 8.68=1, 8.69=0, 8.7=1, 8.71=1, 8.72=1, 8.73=0, 8.74=3, 8.75=0, 8.76=1, 8.77=0, 8.78=0, 8.79=2, 8.8=0, 8.81=0, 8.82=1, 8.83=0, 8.84=1, 8.85=0, 8.86=2, 8.87=0, 8.88=2, 8.89=0, 8.9=2, 8.91=1, 8.92=1, 8.93=0, 8.94=1, 8.95=1, 8.96=1, 8.97=0, 8.98=1, 8.99=0, 9.0=2, 9.01=1, 9.02=0, 9.03=1, 9.04=0, 9.05=0, 9.06=1, 9.07=0, 9.08=0, 9.09=0, 9.1=0, 9.11=1, 9.12=1, 9.13=0, 9.14=0, 9.15=1, 9.16=0, 9.17=0, 9.18=0, 9.19=1, 9.2=1, 9.21=0, 9.22=0, 9.23=0, 9.24=0, 9.25=0, 9.26=0, 9.27=3, 9.28=1, 9.29=0, 9.3=0, 9.31=0, 9.32=0, 9.33=0, 9.34=1, 9.35=0, 9.36=0, 9.37=0, 9.38=0, 9.39=1, 9.4=0, 9.41=1, 9.42=0, 9.43=0, 9.44=0, 9.45=1, 9.46=0, 9.47=0, 9.48=0, 9.49=1, 9.5=0, 9.51=0, 9.52=0, 9.53=2, 9.54=0, 9.55=0, 9.56=0, 9.57=0, 9.58=1, 9.59=1, 9.6=0, 9.61=0, 9.62=1, 9.63=0, 9.64=0, 9.65=0, 9.66=0, 9.67=0, 9.68=0, 9.69=0, 9.7=0, 9.71=0, 9.72=0, 9.73=1, 9.74=0, 9.75=0, 9.76=0, 9.77=0, 9.78=1, 9.79=0, 9.8=0, 9.81=0, 9.82=0, 9.83=1, 9.84=0, 9.85=0, 9.86=0, 9.87=0, 9.88=0, 9.89=0, 9.9=0, 9.91=0, 9.92=0, 9.93=0, 9.94=0, 9.95=0, 9.96=0, 9.97=0, 9.98=0, 9.99=0),\n",
       " Row(age_grade='22', 10.0=1, 5.03=0, 5.04=0, 5.05=1, 5.08=0, 5.09=0, 5.13=0, 5.16=0, 5.17=0, 5.18=0, 5.2=0, 5.24=0, 5.25=0, 5.29=1, 5.3=0, 5.31=0, 5.32=0, 5.35=0, 5.36=1, 5.37=0, 5.38=0, 5.4=1, 5.45=0, 5.46=1, 5.47=0, 5.48=1, 5.49=0, 5.5=0, 5.51=0, 5.53=0, 5.54=0, 5.55=0, 5.56=1, 5.57=0, 5.58=0, 5.59=0, 5.6=0, 5.62=0, 5.64=0, 5.65=1, 5.66=0, 5.67=1, 5.68=0, 5.69=0, 5.7=1, 5.71=0, 5.72=0, 5.73=0, 5.74=0, 5.75=1, 5.76=0, 5.77=2, 5.78=1, 5.79=0, 5.8=0, 5.81=0, 5.82=2, 5.83=0, 5.84=0, 5.85=2, 5.86=0, 5.87=2, 5.88=0, 5.89=1, 5.9=0, 5.91=3, 5.92=0, 5.93=0, 5.94=1, 5.95=2, 5.96=1, 5.97=0, 5.98=0, 5.99=1, 6.0=1, 6.01=1, 6.02=2, 6.03=1, 6.04=0, 6.05=2, 6.06=3, 6.07=0, 6.08=2, 6.09=1, 6.1=1, 6.11=0, 6.12=0, 6.13=0, 6.14=1, 6.15=1, 6.16=0, 6.17=1, 6.18=1, 6.19=1, 6.2=1, 6.21=2, 6.22=3, 6.23=2, 6.24=2, 6.25=2, 6.26=0, 6.27=0, 6.28=1, 6.29=1, 6.3=3, 6.31=1, 6.32=0, 6.33=1, 6.34=1, 6.35=2, 6.36=2, 6.37=0, 6.38=2, 6.39=0, 6.4=0, 6.41=2, 6.42=1, 6.43=4, 6.44=1, 6.45=2, 6.46=1, 6.47=2, 6.48=0, 6.49=1, 6.5=4, 6.51=0, 6.52=3, 6.53=2, 6.54=1, 6.55=0, 6.56=1, 6.57=2, 6.58=2, 6.59=0, 6.6=3, 6.61=2, 6.62=0, 6.63=3, 6.64=1, 6.65=1, 6.66=1, 6.67=3, 6.68=2, 6.69=4, 6.7=3, 6.71=3, 6.72=2, 6.73=2, 6.74=1, 6.75=2, 6.76=1, 6.77=2, 6.78=1, 6.79=2, 6.8=3, 6.81=2, 6.82=5, 6.83=3, 6.84=4, 6.85=2, 6.86=3, 6.87=2, 6.88=1, 6.89=4, 6.9=3, 6.91=2, 6.92=0, 6.93=2, 6.94=1, 6.95=4, 6.96=3, 6.97=2, 6.98=5, 6.99=3, 7.0=2, 7.01=2, 7.02=2, 7.03=5, 7.04=4, 7.05=1, 7.06=2, 7.07=2, 7.08=4, 7.09=3, 7.1=3, 7.11=2, 7.12=5, 7.13=3, 7.14=3, 7.15=2, 7.16=5, 7.17=5, 7.18=6, 7.19=5, 7.2=2, 7.21=1, 7.22=3, 7.23=5, 7.24=3, 7.25=0, 7.26=5, 7.27=3, 7.28=2, 7.29=2, 7.3=6, 7.31=4, 7.32=1, 7.33=2, 7.34=5, 7.35=3, 7.36=2, 7.37=4, 7.38=2, 7.39=4, 7.4=3, 7.41=4, 7.42=1, 7.43=4, 7.44=4, 7.45=6, 7.46=3, 7.47=3, 7.48=3, 7.49=5, 7.5=4, 7.51=2, 7.52=2, 7.53=2, 7.54=1, 7.55=2, 7.56=4, 7.57=5, 7.58=3, 7.59=4, 7.6=7, 7.61=7, 7.62=5, 7.63=4, 7.64=0, 7.65=3, 7.66=8, 7.67=5, 7.68=5, 7.69=7, 7.7=1, 7.71=7, 7.72=5, 7.73=3, 7.74=4, 7.75=9, 7.76=5, 7.77=2, 7.78=1, 7.79=4, 7.8=6, 7.81=6, 7.82=2, 7.83=7, 7.84=4, 7.85=4, 7.86=8, 7.87=3, 7.88=4, 7.89=2, 7.9=7, 7.91=4, 7.92=7, 7.93=3, 7.94=5, 7.95=3, 7.96=2, 7.97=5, 7.98=5, 7.99=2, 8.0=5, 8.01=2, 8.02=6, 8.03=3, 8.04=6, 8.05=4, 8.06=6, 8.07=4, 8.08=5, 8.09=3, 8.1=1, 8.11=3, 8.12=8, 8.13=4, 8.14=7, 8.15=3, 8.16=3, 8.17=5, 8.18=4, 8.19=4, 8.2=7, 8.21=6, 8.22=7, 8.23=3, 8.24=4, 8.25=5, 8.26=2, 8.27=2, 8.28=4, 8.29=5, 8.3=5, 8.31=5, 8.32=1, 8.33=7, 8.34=4, 8.35=2, 8.36=5, 8.37=6, 8.38=4, 8.39=5, 8.4=5, 8.41=1, 8.42=3, 8.43=5, 8.44=3, 8.45=3, 8.46=4, 8.47=5, 8.48=6, 8.49=5, 8.5=0, 8.51=2, 8.52=3, 8.53=2, 8.54=4, 8.55=0, 8.56=1, 8.57=1, 8.58=4, 8.59=2, 8.6=6, 8.61=4, 8.62=6, 8.63=7, 8.64=3, 8.65=2, 8.66=4, 8.67=3, 8.68=3, 8.69=8, 8.7=1, 8.71=3, 8.72=3, 8.73=3, 8.74=3, 8.75=5, 8.76=4, 8.77=4, 8.78=4, 8.79=2, 8.8=2, 8.81=5, 8.82=5, 8.83=3, 8.84=3, 8.85=1, 8.86=4, 8.87=4, 8.88=2, 8.89=2, 8.9=4, 8.91=3, 8.92=1, 8.93=3, 8.94=0, 8.95=3, 8.96=3, 8.97=3, 8.98=6, 8.99=5, 9.0=2, 9.01=4, 9.02=5, 9.03=3, 9.04=4, 9.05=4, 9.06=3, 9.07=1, 9.08=2, 9.09=0, 9.1=1, 9.11=1, 9.12=2, 9.13=4, 9.14=4, 9.15=6, 9.16=4, 9.17=0, 9.18=3, 9.19=0, 9.2=2, 9.21=4, 9.22=1, 9.23=1, 9.24=1, 9.25=1, 9.26=2, 9.27=2, 9.28=3, 9.29=0, 9.3=1, 9.31=2, 9.32=4, 9.33=2, 9.34=0, 9.35=2, 9.36=1, 9.37=1, 9.38=1, 9.39=1, 9.4=1, 9.41=0, 9.42=0, 9.43=1, 9.44=0, 9.45=2, 9.46=0, 9.47=1, 9.48=1, 9.49=3, 9.5=2, 9.51=1, 9.52=1, 9.53=3, 9.54=0, 9.55=2, 9.56=2, 9.57=1, 9.58=1, 9.59=2, 9.6=2, 9.61=0, 9.62=3, 9.63=3, 9.64=1, 9.65=1, 9.66=1, 9.67=2, 9.68=1, 9.69=1, 9.7=0, 9.71=0, 9.72=2, 9.73=2, 9.74=1, 9.75=1, 9.76=3, 9.77=2, 9.78=3, 9.79=0, 9.8=1, 9.81=2, 9.82=2, 9.83=2, 9.84=0, 9.85=0, 9.86=0, 9.87=0, 9.88=0, 9.89=1, 9.9=0, 9.91=0, 9.92=1, 9.93=1, 9.94=2, 9.95=0, 9.96=1, 9.97=0, 9.98=0, 9.99=0),\n",
       " Row(age_grade='29', 10.0=0, 5.03=0, 5.04=0, 5.05=0, 5.08=0, 5.09=0, 5.13=0, 5.16=0, 5.17=0, 5.18=0, 5.2=0, 5.24=0, 5.25=0, 5.29=0, 5.3=0, 5.31=0, 5.32=0, 5.35=0, 5.36=0, 5.37=0, 5.38=0, 5.4=0, 5.45=0, 5.46=0, 5.47=0, 5.48=0, 5.49=0, 5.5=0, 5.51=0, 5.53=0, 5.54=0, 5.55=0, 5.56=0, 5.57=0, 5.58=0, 5.59=0, 5.6=0, 5.62=0, 5.64=0, 5.65=0, 5.66=0, 5.67=0, 5.68=0, 5.69=0, 5.7=0, 5.71=0, 5.72=0, 5.73=1, 5.74=0, 5.75=0, 5.76=0, 5.77=0, 5.78=0, 5.79=0, 5.8=0, 5.81=0, 5.82=0, 5.83=0, 5.84=0, 5.85=0, 5.86=0, 5.87=0, 5.88=0, 5.89=0, 5.9=0, 5.91=0, 5.92=0, 5.93=0, 5.94=0, 5.95=0, 5.96=0, 5.97=0, 5.98=0, 5.99=0, 6.0=0, 6.01=0, 6.02=0, 6.03=1, 6.04=0, 6.05=0, 6.06=0, 6.07=0, 6.08=0, 6.09=0, 6.1=0, 6.11=0, 6.12=0, 6.13=0, 6.14=0, 6.15=0, 6.16=0, 6.17=0, 6.18=0, 6.19=0, 6.2=0, 6.21=0, 6.22=0, 6.23=0, 6.24=0, 6.25=0, 6.26=0, 6.27=0, 6.28=0, 6.29=0, 6.3=0, 6.31=0, 6.32=0, 6.33=0, 6.34=0, 6.35=0, 6.36=1, 6.37=0, 6.38=0, 6.39=0, 6.4=1, 6.41=1, 6.42=0, 6.43=0, 6.44=0, 6.45=1, 6.46=0, 6.47=0, 6.48=0, 6.49=0, 6.5=0, 6.51=0, 6.52=1, 6.53=0, 6.54=1, 6.55=1, 6.56=0, 6.57=0, 6.58=0, 6.59=0, 6.6=0, 6.61=0, 6.62=0, 6.63=0, 6.64=0, 6.65=0, 6.66=0, 6.67=0, 6.68=0, 6.69=0, 6.7=0, 6.71=0, 6.72=0, 6.73=0, 6.74=0, 6.75=0, 6.76=0, 6.77=2, 6.78=0, 6.79=1, 6.8=0, 6.81=0, 6.82=2, 6.83=0, 6.84=0, 6.85=0, 6.86=1, 6.87=0, 6.88=0, 6.89=1, 6.9=0, 6.91=0, 6.92=0, 6.93=0, 6.94=0, 6.95=1, 6.96=1, 6.97=1, 6.98=0, 6.99=1, 7.0=1, 7.01=0, 7.02=1, 7.03=0, 7.04=1, 7.05=0, 7.06=0, 7.07=0, 7.08=0, 7.09=1, 7.1=2, 7.11=1, 7.12=0, 7.13=0, 7.14=0, 7.15=0, 7.16=0, 7.17=0, 7.18=1, 7.19=0, 7.2=2, 7.21=0, 7.22=0, 7.23=1, 7.24=0, 7.25=0, 7.26=1, 7.27=0, 7.28=3, 7.29=0, 7.3=2, 7.31=1, 7.32=1, 7.33=1, 7.34=0, 7.35=1, 7.36=0, 7.37=0, 7.38=0, 7.39=0, 7.4=0, 7.41=1, 7.42=0, 7.43=0, 7.44=1, 7.45=0, 7.46=2, 7.47=0, 7.48=0, 7.49=0, 7.5=0, 7.51=0, 7.52=2, 7.53=4, 7.54=1, 7.55=1, 7.56=1, 7.57=1, 7.58=1, 7.59=0, 7.6=0, 7.61=0, 7.62=0, 7.63=1, 7.64=1, 7.65=0, 7.66=0, 7.67=0, 7.68=0, 7.69=0, 7.7=0, 7.71=1, 7.72=2, 7.73=1, 7.74=2, 7.75=1, 7.76=0, 7.77=0, 7.78=0, 7.79=1, 7.8=1, 7.81=1, 7.82=1, 7.83=3, 7.84=0, 7.85=1, 7.86=0, 7.87=1, 7.88=0, 7.89=0, 7.9=1, 7.91=1, 7.92=1, 7.93=2, 7.94=0, 7.95=0, 7.96=3, 7.97=0, 7.98=0, 7.99=0, 8.0=0, 8.01=0, 8.02=0, 8.03=1, 8.04=0, 8.05=0, 8.06=1, 8.07=2, 8.08=1, 8.09=2, 8.1=4, 8.11=2, 8.12=2, 8.13=1, 8.14=0, 8.15=1, 8.16=4, 8.17=0, 8.18=1, 8.19=2, 8.2=0, 8.21=1, 8.22=1, 8.23=0, 8.24=0, 8.25=2, 8.26=1, 8.27=0, 8.28=0, 8.29=0, 8.3=0, 8.31=0, 8.32=0, 8.33=0, 8.34=1, 8.35=1, 8.36=0, 8.37=1, 8.38=1, 8.39=0, 8.4=0, 8.41=0, 8.42=0, 8.43=0, 8.44=1, 8.45=2, 8.46=1, 8.47=0, 8.48=1, 8.49=2, 8.5=1, 8.51=1, 8.52=0, 8.53=0, 8.54=2, 8.55=0, 8.56=0, 8.57=0, 8.58=1, 8.59=1, 8.6=0, 8.61=0, 8.62=1, 8.63=1, 8.64=2, 8.65=0, 8.66=1, 8.67=1, 8.68=2, 8.69=0, 8.7=0, 8.71=1, 8.72=1, 8.73=1, 8.74=0, 8.75=1, 8.76=0, 8.77=2, 8.78=0, 8.79=1, 8.8=2, 8.81=0, 8.82=1, 8.83=2, 8.84=1, 8.85=2, 8.86=0, 8.87=0, 8.88=1, 8.89=2, 8.9=1, 8.91=0, 8.92=0, 8.93=1, 8.94=0, 8.95=0, 8.96=0, 8.97=0, 8.98=0, 8.99=0, 9.0=0, 9.01=0, 9.02=0, 9.03=0, 9.04=0, 9.05=1, 9.06=1, 9.07=0, 9.08=0, 9.09=1, 9.1=0, 9.11=0, 9.12=0, 9.13=0, 9.14=0, 9.15=0, 9.16=0, 9.17=0, 9.18=0, 9.19=0, 9.2=0, 9.21=0, 9.22=1, 9.23=0, 9.24=0, 9.25=2, 9.26=0, 9.27=0, 9.28=0, 9.29=1, 9.3=0, 9.31=0, 9.32=2, 9.33=0, 9.34=0, 9.35=0, 9.36=0, 9.37=2, 9.38=0, 9.39=0, 9.4=1, 9.41=0, 9.42=1, 9.43=0, 9.44=0, 9.45=1, 9.46=0, 9.47=0, 9.48=0, 9.49=1, 9.5=0, 9.51=0, 9.52=0, 9.53=0, 9.54=0, 9.55=0, 9.56=0, 9.57=0, 9.58=0, 9.59=0, 9.6=0, 9.61=0, 9.62=1, 9.63=0, 9.64=0, 9.65=0, 9.66=1, 9.67=0, 9.68=0, 9.69=0, 9.7=1, 9.71=0, 9.72=0, 9.73=0, 9.74=0, 9.75=0, 9.76=0, 9.77=0, 9.78=1, 9.79=0, 9.8=0, 9.81=0, 9.82=0, 9.83=0, 9.84=0, 9.85=0, 9.86=0, 9.87=1, 9.88=0, 9.89=0, 9.9=0, 9.91=0, 9.92=0, 9.93=0, 9.94=0, 9.95=1, 9.96=0, 9.97=0, 9.98=0, 9.99=0),\n",
       " Row(age_grade='30', 10.0=0, 5.03=0, 5.04=0, 5.05=0, 5.08=0, 5.09=0, 5.13=0, 5.16=0, 5.17=0, 5.18=0, 5.2=0, 5.24=0, 5.25=0, 5.29=0, 5.3=0, 5.31=0, 5.32=0, 5.35=0, 5.36=0, 5.37=0, 5.38=0, 5.4=0, 5.45=0, 5.46=0, 5.47=0, 5.48=0, 5.49=0, 5.5=0, 5.51=0, 5.53=0, 5.54=0, 5.55=0, 5.56=0, 5.57=0, 5.58=0, 5.59=0, 5.6=0, 5.62=0, 5.64=0, 5.65=0, 5.66=0, 5.67=0, 5.68=0, 5.69=0, 5.7=0, 5.71=0, 5.72=0, 5.73=0, 5.74=0, 5.75=1, 5.76=0, 5.77=0, 5.78=0, 5.79=0, 5.8=0, 5.81=0, 5.82=0, 5.83=0, 5.84=0, 5.85=0, 5.86=0, 5.87=0, 5.88=0, 5.89=0, 5.9=1, 5.91=0, 5.92=0, 5.93=0, 5.94=0, 5.95=0, 5.96=0, 5.97=0, 5.98=0, 5.99=0, 6.0=0, 6.01=0, 6.02=0, 6.03=0, 6.04=0, 6.05=0, 6.06=0, 6.07=0, 6.08=0, 6.09=0, 6.1=0, 6.11=0, 6.12=0, 6.13=0, 6.14=0, 6.15=0, 6.16=0, 6.17=0, 6.18=0, 6.19=0, 6.2=0, 6.21=0, 6.22=0, 6.23=0, 6.24=0, 6.25=0, 6.26=0, 6.27=0, 6.28=0, 6.29=0, 6.3=0, 6.31=0, 6.32=0, 6.33=0, 6.34=0, 6.35=0, 6.36=1, 6.37=0, 6.38=0, 6.39=0, 6.4=1, 6.41=0, 6.42=0, 6.43=0, 6.44=0, 6.45=0, 6.46=0, 6.47=0, 6.48=0, 6.49=0, 6.5=0, 6.51=0, 6.52=1, 6.53=0, 6.54=0, 6.55=0, 6.56=0, 6.57=0, 6.58=0, 6.59=0, 6.6=0, 6.61=0, 6.62=0, 6.63=0, 6.64=0, 6.65=0, 6.66=0, 6.67=0, 6.68=0, 6.69=0, 6.7=0, 6.71=0, 6.72=0, 6.73=0, 6.74=0, 6.75=0, 6.76=0, 6.77=0, 6.78=1, 6.79=0, 6.8=0, 6.81=0, 6.82=0, 6.83=0, 6.84=0, 6.85=1, 6.86=0, 6.87=0, 6.88=0, 6.89=0, 6.9=0, 6.91=1, 6.92=0, 6.93=0, 6.94=1, 6.95=0, 6.96=0, 6.97=0, 6.98=0, 6.99=0, 7.0=0, 7.01=0, 7.02=0, 7.03=1, 7.04=0, 7.05=1, 7.06=0, 7.07=0, 7.08=0, 7.09=0, 7.1=0, 7.11=0, 7.12=0, 7.13=0, 7.14=0, 7.15=0, 7.16=0, 7.17=1, 7.18=1, 7.19=0, 7.2=0, 7.21=1, 7.22=0, 7.23=0, 7.24=1, 7.25=1, 7.26=1, 7.27=1, 7.28=0, 7.29=0, 7.3=0, 7.31=0, 7.32=0, 7.33=0, 7.34=0, 7.35=0, 7.36=1, 7.37=0, 7.38=0, 7.39=0, 7.4=0, 7.41=0, 7.42=0, 7.43=1, 7.44=0, 7.45=0, 7.46=1, 7.47=0, 7.48=0, 7.49=1, 7.5=0, 7.51=0, 7.52=0, 7.53=0, 7.54=0, 7.55=1, 7.56=0, 7.57=0, 7.58=0, 7.59=0, 7.6=0, 7.61=0, 7.62=0, 7.63=0, 7.64=0, 7.65=0, 7.66=0, 7.67=1, 7.68=3, 7.69=1, 7.7=0, 7.71=1, 7.72=0, 7.73=0, 7.74=0, 7.75=1, 7.76=0, 7.77=0, 7.78=0, 7.79=1, 7.8=0, 7.81=1, 7.82=1, 7.83=0, 7.84=0, 7.85=1, 7.86=0, 7.87=0, 7.88=1, 7.89=3, 7.9=0, 7.91=0, 7.92=0, 7.93=0, 7.94=1, 7.95=1, 7.96=0, 7.97=0, 7.98=1, 7.99=0, 8.0=1, 8.01=0, 8.02=0, 8.03=2, 8.04=1, 8.05=0, 8.06=0, 8.07=0, 8.08=0, 8.09=0, 8.1=0, 8.11=0, 8.12=0, 8.13=0, 8.14=0, 8.15=3, 8.16=0, 8.17=1, 8.18=1, 8.19=0, 8.2=1, 8.21=0, 8.22=1, 8.23=0, 8.24=0, 8.25=0, 8.26=0, 8.27=1, 8.28=2, 8.29=2, 8.3=0, 8.31=1, 8.32=1, 8.33=0, 8.34=0, 8.35=0, 8.36=0, 8.37=0, 8.38=1, 8.39=0, 8.4=0, 8.41=0, 8.42=0, 8.43=0, 8.44=1, 8.45=1, 8.46=0, 8.47=0, 8.48=0, 8.49=0, 8.5=0, 8.51=0, 8.52=0, 8.53=0, 8.54=0, 8.55=0, 8.56=0, 8.57=0, 8.58=0, 8.59=3, 8.6=1, 8.61=0, 8.62=0, 8.63=0, 8.64=0, 8.65=0, 8.66=0, 8.67=0, 8.68=2, 8.69=1, 8.7=1, 8.71=2, 8.72=0, 8.73=0, 8.74=1, 8.75=0, 8.76=1, 8.77=0, 8.78=0, 8.79=0, 8.8=0, 8.81=0, 8.82=1, 8.83=0, 8.84=0, 8.85=0, 8.86=1, 8.87=0, 8.88=0, 8.89=0, 8.9=0, 8.91=0, 8.92=0, 8.93=0, 8.94=0, 8.95=0, 8.96=1, 8.97=1, 8.98=0, 8.99=0, 9.0=0, 9.01=0, 9.02=0, 9.03=0, 9.04=0, 9.05=0, 9.06=0, 9.07=0, 9.08=3, 9.09=0, 9.1=0, 9.11=0, 9.12=2, 9.13=0, 9.14=0, 9.15=0, 9.16=1, 9.17=0, 9.18=0, 9.19=0, 9.2=0, 9.21=0, 9.22=0, 9.23=0, 9.24=1, 9.25=1, 9.26=0, 9.27=0, 9.28=0, 9.29=0, 9.3=1, 9.31=0, 9.32=0, 9.33=0, 9.34=0, 9.35=0, 9.36=0, 9.37=0, 9.38=1, 9.39=0, 9.4=0, 9.41=0, 9.42=0, 9.43=0, 9.44=0, 9.45=0, 9.46=0, 9.47=0, 9.48=0, 9.49=0, 9.5=0, 9.51=1, 9.52=0, 9.53=1, 9.54=0, 9.55=0, 9.56=0, 9.57=0, 9.58=1, 9.59=0, 9.6=0, 9.61=0, 9.62=0, 9.63=0, 9.64=0, 9.65=0, 9.66=0, 9.67=0, 9.68=1, 9.69=0, 9.7=0, 9.71=0, 9.72=0, 9.73=1, 9.74=0, 9.75=0, 9.76=0, 9.77=1, 9.78=0, 9.79=0, 9.8=0, 9.81=0, 9.82=0, 9.83=0, 9.84=0, 9.85=0, 9.86=0, 9.87=0, 9.88=0, 9.89=0, 9.9=0, 9.91=0, 9.92=0, 9.93=0, 9.94=0, 9.95=0, 9.96=0, 9.97=0, 9.98=0, 9.99=0),\n",
       " Row(age_grade='36', 10.0=0, 5.03=0, 5.04=0, 5.05=0, 5.08=0, 5.09=0, 5.13=0, 5.16=0, 5.17=0, 5.18=0, 5.2=0, 5.24=0, 5.25=0, 5.29=0, 5.3=0, 5.31=0, 5.32=0, 5.35=0, 5.36=0, 5.37=0, 5.38=0, 5.4=0, 5.45=0, 5.46=0, 5.47=0, 5.48=0, 5.49=0, 5.5=0, 5.51=0, 5.53=0, 5.54=0, 5.55=0, 5.56=0, 5.57=0, 5.58=0, 5.59=0, 5.6=0, 5.62=0, 5.64=0, 5.65=0, 5.66=0, 5.67=0, 5.68=0, 5.69=0, 5.7=0, 5.71=0, 5.72=0, 5.73=0, 5.74=0, 5.75=0, 5.76=0, 5.77=0, 5.78=0, 5.79=0, 5.8=0, 5.81=0, 5.82=0, 5.83=0, 5.84=0, 5.85=0, 5.86=0, 5.87=0, 5.88=0, 5.89=0, 5.9=0, 5.91=0, 5.92=0, 5.93=0, 5.94=0, 5.95=0, 5.96=0, 5.97=0, 5.98=0, 5.99=0, 6.0=0, 6.01=0, 6.02=0, 6.03=0, 6.04=0, 6.05=0, 6.06=0, 6.07=0, 6.08=0, 6.09=0, 6.1=0, 6.11=0, 6.12=0, 6.13=0, 6.14=0, 6.15=0, 6.16=0, 6.17=0, 6.18=0, 6.19=0, 6.2=0, 6.21=0, 6.22=0, 6.23=0, 6.24=0, 6.25=0, 6.26=0, 6.27=0, 6.28=0, 6.29=0, 6.3=0, 6.31=0, 6.32=0, 6.33=0, 6.34=0, 6.35=0, 6.36=0, 6.37=0, 6.38=0, 6.39=0, 6.4=0, 6.41=0, 6.42=0, 6.43=0, 6.44=0, 6.45=0, 6.46=0, 6.47=0, 6.48=0, 6.49=0, 6.5=0, 6.51=0, 6.52=0, 6.53=0, 6.54=0, 6.55=0, 6.56=0, 6.57=0, 6.58=0, 6.59=0, 6.6=0, 6.61=0, 6.62=0, 6.63=0, 6.64=0, 6.65=0, 6.66=0, 6.67=0, 6.68=0, 6.69=0, 6.7=0, 6.71=0, 6.72=0, 6.73=0, 6.74=0, 6.75=0, 6.76=0, 6.77=0, 6.78=0, 6.79=0, 6.8=0, 6.81=0, 6.82=0, 6.83=0, 6.84=0, 6.85=0, 6.86=0, 6.87=0, 6.88=0, 6.89=0, 6.9=0, 6.91=0, 6.92=0, 6.93=0, 6.94=0, 6.95=0, 6.96=0, 6.97=0, 6.98=0, 6.99=0, 7.0=0, 7.01=0, 7.02=0, 7.03=0, 7.04=0, 7.05=0, 7.06=0, 7.07=0, 7.08=0, 7.09=0, 7.1=0, 7.11=0, 7.12=0, 7.13=0, 7.14=0, 7.15=0, 7.16=0, 7.17=0, 7.18=0, 7.19=0, 7.2=0, 7.21=0, 7.22=0, 7.23=0, 7.24=0, 7.25=0, 7.26=0, 7.27=0, 7.28=0, 7.29=0, 7.3=0, 7.31=0, 7.32=0, 7.33=0, 7.34=0, 7.35=0, 7.36=0, 7.37=0, 7.38=0, 7.39=0, 7.4=0, 7.41=0, 7.42=0, 7.43=0, 7.44=0, 7.45=0, 7.46=0, 7.47=0, 7.48=0, 7.49=0, 7.5=0, 7.51=0, 7.52=0, 7.53=0, 7.54=0, 7.55=0, 7.56=0, 7.57=0, 7.58=0, 7.59=0, 7.6=0, 7.61=0, 7.62=0, 7.63=0, 7.64=0, 7.65=0, 7.66=0, 7.67=0, 7.68=1, 7.69=0, 7.7=0, 7.71=0, 7.72=0, 7.73=0, 7.74=0, 7.75=0, 7.76=0, 7.77=0, 7.78=0, 7.79=0, 7.8=0, 7.81=0, 7.82=0, 7.83=0, 7.84=0, 7.85=0, 7.86=0, 7.87=0, 7.88=0, 7.89=0, 7.9=0, 7.91=0, 7.92=0, 7.93=0, 7.94=0, 7.95=0, 7.96=0, 7.97=0, 7.98=0, 7.99=0, 8.0=0, 8.01=0, 8.02=0, 8.03=0, 8.04=0, 8.05=0, 8.06=0, 8.07=0, 8.08=0, 8.09=0, 8.1=0, 8.11=0, 8.12=0, 8.13=0, 8.14=0, 8.15=0, 8.16=0, 8.17=0, 8.18=0, 8.19=0, 8.2=0, 8.21=0, 8.22=0, 8.23=0, 8.24=0, 8.25=0, 8.26=0, 8.27=0, 8.28=0, 8.29=0, 8.3=0, 8.31=0, 8.32=0, 8.33=0, 8.34=0, 8.35=0, 8.36=0, 8.37=0, 8.38=0, 8.39=0, 8.4=0, 8.41=0, 8.42=0, 8.43=0, 8.44=0, 8.45=0, 8.46=0, 8.47=0, 8.48=0, 8.49=0, 8.5=0, 8.51=0, 8.52=0, 8.53=0, 8.54=0, 8.55=0, 8.56=0, 8.57=0, 8.58=0, 8.59=0, 8.6=0, 8.61=0, 8.62=0, 8.63=0, 8.64=0, 8.65=0, 8.66=0, 8.67=0, 8.68=0, 8.69=0, 8.7=0, 8.71=0, 8.72=0, 8.73=0, 8.74=0, 8.75=0, 8.76=0, 8.77=0, 8.78=0, 8.79=0, 8.8=0, 8.81=0, 8.82=0, 8.83=0, 8.84=0, 8.85=0, 8.86=0, 8.87=0, 8.88=0, 8.89=0, 8.9=0, 8.91=0, 8.92=0, 8.93=0, 8.94=0, 8.95=0, 8.96=0, 8.97=0, 8.98=0, 8.99=0, 9.0=0, 9.01=0, 9.02=0, 9.03=0, 9.04=0, 9.05=0, 9.06=0, 9.07=0, 9.08=0, 9.09=0, 9.1=0, 9.11=0, 9.12=0, 9.13=0, 9.14=0, 9.15=0, 9.16=0, 9.17=0, 9.18=0, 9.19=0, 9.2=0, 9.21=0, 9.22=0, 9.23=0, 9.24=0, 9.25=0, 9.26=0, 9.27=0, 9.28=0, 9.29=0, 9.3=0, 9.31=0, 9.32=0, 9.33=0, 9.34=0, 9.35=0, 9.36=0, 9.37=0, 9.38=0, 9.39=0, 9.4=0, 9.41=0, 9.42=0, 9.43=0, 9.44=0, 9.45=0, 9.46=0, 9.47=0, 9.48=0, 9.49=0, 9.5=0, 9.51=0, 9.52=0, 9.53=0, 9.54=0, 9.55=0, 9.56=0, 9.57=0, 9.58=0, 9.59=0, 9.6=0, 9.61=0, 9.62=0, 9.63=0, 9.64=0, 9.65=0, 9.66=0, 9.67=0, 9.68=0, 9.69=0, 9.7=0, 9.71=0, 9.72=0, 9.73=0, 9.74=0, 9.75=0, 9.76=0, 9.77=0, 9.78=0, 9.79=0, 9.8=0, 9.81=0, 9.82=0, 9.83=0, 9.84=0, 9.85=0, 9.86=0, 9.87=0, 9.88=0, 9.89=0, 9.9=0, 9.91=0, 9.92=0, 9.93=0, 9.94=0, 9.95=0, 9.96=0, 9.97=0, 9.98=0, 9.99=0)]"
      ]
     },
     "execution_count": 23,
     "metadata": {},
     "output_type": "execute_result"
    }
   ],
   "source": [
    "# Contingency table edad | nota\n",
    "students.crosstab(\"age\", \"grade\").collect()"
   ]
  },
  {
   "cell_type": "markdown",
   "metadata": {},
   "source": [
    "### Inspección de typos de columnas"
   ]
  },
  {
   "cell_type": "code",
   "execution_count": 24,
   "metadata": {},
   "outputs": [
    {
     "data": {
      "text/plain": [
       "[('_id', 'string'),\n",
       " ('name', 'string'),\n",
       " ('surname', 'string'),\n",
       " ('age', 'tinyint'),\n",
       " ('email', 'string'),\n",
       " ('grade', 'float')]"
      ]
     },
     "execution_count": 24,
     "metadata": {},
     "output_type": "execute_result"
    }
   ],
   "source": [
    "students.dtypes"
   ]
  },
  {
   "cell_type": "code",
   "execution_count": 25,
   "metadata": {},
   "outputs": [
    {
     "name": "stdout",
     "output_type": "stream",
     "text": [
      "root\n",
      " |-- _id: string (nullable = true)\n",
      " |-- name: string (nullable = true)\n",
      " |-- surname: string (nullable = true)\n",
      " |-- age: byte (nullable = true)\n",
      " |-- email: string (nullable = true)\n",
      " |-- grade: float (nullable = true)\n",
      "\n"
     ]
    }
   ],
   "source": [
    "students.printSchema()"
   ]
  },
  {
   "cell_type": "code",
   "execution_count": 26,
   "metadata": {},
   "outputs": [
    {
     "name": "stdout",
     "output_type": "stream",
     "text": [
      "+---------+-----------------+---+\n",
      "|     name|          surname|age|\n",
      "+---------+-----------------+---+\n",
      "|    David|   Miranda Grande| 19|\n",
      "|   Marcos|  Sarabia Gisbert| 19|\n",
      "|   Sergio|    Sanchez Agudo| 19|\n",
      "|  Natalia|  Moliner Sanchez| 19|\n",
      "|     Lope|    Cuesta Blasco| 19|\n",
      "|    Oriol|   Pascual Guerra| 19|\n",
      "|    Berta|   Sedano Pedrosa| 19|\n",
      "|   Daniel| Gonzalez Sanchez| 19|\n",
      "|     Jose|    Lopez Antunez| 19|\n",
      "|    Pablo|  Bermejo Antunez| 19|\n",
      "|Valentina|Corominas Antunez| 19|\n",
      "|    Pedro|   Cuervo Segovia| 19|\n",
      "|Alejandro|       Tous Bonet| 19|\n",
      "|     Sara|  Gonzalez Sastre| 19|\n",
      "|Guadalupe|      Seco Cuesta| 19|\n",
      "|  Enrique|  Bermejo Peinado| 19|\n",
      "|   Felipe|  Segovia Segarra| 19|\n",
      "|    Juana|   Sanchez Abadia| 19|\n",
      "|   Sergio|    Bermejo Gomez| 19|\n",
      "| Cristian|    Gomez Bermejo| 19|\n",
      "+---------+-----------------+---+\n",
      "only showing top 20 rows\n",
      "\n"
     ]
    }
   ],
   "source": [
    "(students.select('name', 'surname', 'age')\n",
    "         .filter((students.age > 18) & (students.age < 20))\n",
    "         .show())"
   ]
  },
  {
   "cell_type": "code",
   "execution_count": 27,
   "metadata": {},
   "outputs": [
    {
     "name": "stdout",
     "output_type": "stream",
     "text": [
      "+---------+------------------+----------+\n",
      "|     name|          avg(age)|min(grade)|\n",
      "+---------+------------------+----------+\n",
      "|  Agustin|             21.68|      5.59|\n",
      "|Alejandro|22.395522388059703|      5.62|\n",
      "|   Alonso|22.486238532110093|      5.57|\n",
      "|   Alvaro|22.385245901639344|      5.93|\n",
      "|  Antonia|21.783783783783782|      5.37|\n",
      "|  Antonio|21.663716814159294|      5.75|\n",
      "|    Berta|21.823529411764707|      5.76|\n",
      "|   Camila|22.041666666666668|      5.16|\n",
      "|  Claudia|22.085271317829456|      5.05|\n",
      "| Cristian|21.702479338842974|      5.75|\n",
      "|   Daniel|21.975806451612904|      5.66|\n",
      "|    David|22.296187683284458|      5.35|\n",
      "|    Diego|22.057142857142857|      5.17|\n",
      "|  Dolores|21.982905982905983|      5.85|\n",
      "|    Elena|22.023622047244096|      5.03|\n",
      "|   Emilia|22.495934959349594|       5.2|\n",
      "|     Emma|22.466666666666665|      5.17|\n",
      "|  Enrique| 22.37735849056604|      5.46|\n",
      "|  Esteban| 22.14503816793893|      5.54|\n",
      "|   Felipe|22.048458149779737|      5.91|\n",
      "+---------+------------------+----------+\n",
      "only showing top 20 rows\n",
      "\n"
     ]
    }
   ],
   "source": [
    "(students.groupBy('name')\n",
    "         .agg(functions.avg('age'),\n",
    "              functions.min('grade'))\n",
    "         .orderBy('name')\n",
    "         .show())\n",
    "         #.explain())"
   ]
  },
  {
   "cell_type": "code",
   "execution_count": 28,
   "metadata": {},
   "outputs": [
    {
     "name": "stdout",
     "output_type": "stream",
     "text": [
      "+-----------------+-----+---------+\n",
      "|          surname|grade|Excellent|\n",
      "+-----------------+-----+---------+\n",
      "|    Segovia Lopez| 10.0|     true|\n",
      "|  Sanchez Gisbert| 9.99|     true|\n",
      "|    Gomez Segarra| 9.99|     true|\n",
      "| Pascual Gonzalez| 9.98|     true|\n",
      "|    Comas Segovia| 9.98|     true|\n",
      "|  Bermejo Gisbert| 9.98|     true|\n",
      "|  Sanchez Peinado| 9.97|     true|\n",
      "|  Sedano Martinez| 9.97|     true|\n",
      "|Sarabia PeralSanz| 9.97|     true|\n",
      "|     Guerra Lopez| 9.97|     true|\n",
      "|   Parada Sanchez| 9.97|     true|\n",
      "| PeralSanz Grande| 9.96|     true|\n",
      "|     Aznar Abadia| 9.96|     true|\n",
      "|   Gomez Martinez| 9.96|     true|\n",
      "| Bermejo Belmonte| 9.95|     true|\n",
      "|      Torres Peña| 9.95|     true|\n",
      "|    Grande Crespo| 9.95|     true|\n",
      "|   Lopez Gonzalez| 9.95|     true|\n",
      "|     Rajoy Garcia| 9.94|     true|\n",
      "| Gonzalez Gisbert| 9.94|     true|\n",
      "+-----------------+-----+---------+\n",
      "only showing top 20 rows\n",
      "\n"
     ]
    }
   ],
   "source": [
    "(students.select(\"surname\", \"grade\")\n",
    "         .withColumn('Excellent', students.grade > 9.5)\n",
    "         .filter('Excellent == True')\n",
    "         .orderBy('grade', ascending=False)\n",
    "         .show())"
   ]
  },
  {
   "cell_type": "markdown",
   "metadata": {},
   "source": [
    "# SQL queries"
   ]
  },
  {
   "cell_type": "code",
   "execution_count": 29,
   "metadata": {},
   "outputs": [
    {
     "name": "stdout",
     "output_type": "stream",
     "text": [
      "+------------------+--------------------+--------------------+\n",
      "|                id|          created_at|                text|\n",
      "+------------------+--------------------+--------------------+\n",
      "|123409021318336512|Mon Oct 10 14:46:...|Occupy wall Stree...|\n",
      "|123431682190737408|Mon Oct 10 16:16:...|Parce que si on c...|\n",
      "|123423114318196738|Mon Oct 10 15:42:...|RT @acampadasol: ...|\n",
      "|123398762411474944|Mon Oct 10 14:05:...|RT @ciudadanoNick...|\n",
      "|123429357799747585|Mon Oct 10 16:07:...|RT @democraciarea...|\n",
      "|123438512233119744|Mon Oct 10 16:43:...|RT @democraciarea...|\n",
      "|123356436901277696|Mon Oct 10 11:17:...|RT @drymty: @Cumb...|\n",
      "|123380990730182657|Mon Oct 10 12:54:...|RT @madari59: #15...|\n",
      "|123635477545885696|Tue Oct 11 05:46:...|\"#15oct Video: Ka...|\n",
      "|123631273108455424|Tue Oct 11 05:29:...|action in #OCCUPY...|\n",
      "+------------------+--------------------+--------------------+\n",
      "\n"
     ]
    }
   ],
   "source": [
    "# Example with excerpt of Twitter data\n",
    "# tweets = spark.read.json(\"../data/15m-sample.json\")\n",
    "tweets.createOrReplaceTempView(\"tweets\")\n",
    "\n",
    "# A simple query\n",
    "rset = spark.sql(\"SELECT id, created_at, text FROM tweets LIMIT 10\")\n",
    "rset.show()"
   ]
  },
  {
   "cell_type": "code",
   "execution_count": 30,
   "metadata": {},
   "outputs": [
    {
     "name": "stdout",
     "output_type": "stream",
     "text": [
      "+---------+-------------------+---------+\n",
      "|       id|               name| location|\n",
      "+---------+-------------------+---------+\n",
      "|125299040|       rosa ciurana|Barcelona|\n",
      "|366671456|   Josefina arribas|Barcelona|\n",
      "|300712661|       Pedro Paramo|Barcelona|\n",
      "|307535668|Assemblea St Antoni|Barcelona|\n",
      "|307535668|Assemblea St Antoni|Barcelona|\n",
      "|307535668|Assemblea St Antoni|Barcelona|\n",
      "|304885181|         buscamanis|Barcelona|\n",
      "|119814153|    Sergio Carrillo|Barcelona|\n",
      "|203220213|        Miquel Gené|Barcelona|\n",
      "|203220213|        Miquel Gené|Barcelona|\n",
      "| 19876616|        João França|Barcelona|\n",
      "|203220213|        Miquel Gené|Barcelona|\n",
      "|203220213|        Miquel Gené|Barcelona|\n",
      "| 19876616|        João França|Barcelona|\n",
      "|310277854|        AsbleaRaval|Barcelona|\n",
      "|145391848|    Eduardo Rosales|Barcelona|\n",
      "| 99490181|        Josep Cerdà|Barcelona|\n",
      "| 52760260|             Sergio|Barcelona|\n",
      "|347267438|         Chiara_bcn|Barcelona|\n",
      "| 18897024|      canalsolidari|Barcelona|\n",
      "+---------+-------------------+---------+\n",
      "\n"
     ]
    }
   ],
   "source": [
    "# Spark inspects and deduces the schema for the JSON file\n",
    "rset = spark.sql(\"\"\"\n",
    "SELECT user.id, user.name, user.location\n",
    "FROM tweets\n",
    "WHERE user.location == 'Barcelona'\n",
    "LIMIT 20\"\"\")\n",
    "rset.show()"
   ]
  },
  {
   "cell_type": "code",
   "execution_count": 32,
   "metadata": {},
   "outputs": [],
   "source": [
    "# Paramos sparkSession\n",
    "spark.stop()"
   ]
  }
 ],
 "metadata": {
  "anaconda-cloud": {},
  "kernelspec": {
   "display_name": "Python 3 (ipykernel)",
   "language": "python",
   "name": "python3"
  },
  "language_info": {
   "codemirror_mode": {
    "name": "ipython",
    "version": 3
   },
   "file_extension": ".py",
   "mimetype": "text/x-python",
   "name": "python",
   "nbconvert_exporter": "python",
   "pygments_lexer": "ipython3",
   "version": "3.10.12"
  }
 },
 "nbformat": 4,
 "nbformat_minor": 4
}
